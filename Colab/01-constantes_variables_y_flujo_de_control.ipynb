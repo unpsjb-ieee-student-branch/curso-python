{
 "cells": [
  {
   "cell_type": "markdown",
   "metadata": {},
   "source": [
    "# Constantes, variables y flujo de control en Python, con Google Colab"
   ]
  },
  {
   "cell_type": "markdown",
   "metadata": {},
   "source": [
    "**En este encuentro, el objetivo es reconocer Google Colab, algunos detalles básicos de la programación con Python y escribir programas breves.**"
   ]
  },
  {
   "cell_type": "markdown",
   "metadata": {},
   "source": [
    "Python es un lenguaje de programación interpretado. En otras palabras, puede ejecutarse de a una línea de código por vez, en modo interactivo, además de poder desarrollar programas completos con código escritos en varios archivos de texto.\n",
    "\n",
    "Además estamos viendo este cuaderno, o notebook, en un navegador de Internet, y ejecutándolo en Google Colab (o sea, en un servidor remoto de Google). El archivo original está guardado en un sitio llamado Github, y guardamos una copia en Google Drive.\n",
    "\n",
    "El cuaderno esta dividido en celdas, que pueden ser ejecutables o que pueden tener texto (títulos, subtítulos y explicaciones no ejecutables).\n",
    "\n",
    "Este texto está situado en una celda no ejecutable.\n",
    "\n",
    "Las celdas ejecutables pueden ser ejecutadas en forma interactiva, ubicando el cursor dentro de la celda respectiva y presionando simultáneamente las teclas Mayúscula y Entrada (shift y enter).\n",
    "\n",
    "Las celdas ejecutables muestran a su izquierda el rótulo In [nnn], donde nn es un número entero que indica en que momento y orden se ejecutó la celda. Si nnn está en blanco, la celda no fue ejecutada todavía."
   ]
  },
  {
   "cell_type": "markdown",
   "metadata": {},
   "source": [
    "Quizás conozcan los cuadernos de Mathematica o Maxima, donde podemos escribir ecuaciones y resolverlas, pero al momento de presentar a alguien nuestro trabajo necesitamos un formato más legible y ordenado. Para esto se pueden escribir distintas celdas y agregar comentarios dentro del mismo código. Pero la ventaja de los cuadernos es que nos permiten hacer anotaciones, ordenar por secciones, establecer títulos y subtítulos, cuadros y tablas, insertar imágenes, etc.\n",
    "\n",
    "Esto no quiere decir que no se pueda escribir código como en cualquier otro lenguaje de programación, pero nos permite poner énfasis a alguna parte de nuestro código, o mostrar imágenes de lo que se espera obtener.\n",
    "\n",
    "Observen que ubicando el cursor sobre una celda, aparece un grupo de íconos en la parte superior derecha de la celda,entre ellos un pequeño lápiz (editar) y un tacho (borrar). Además haciendo doble click con el botón izquierdo podemos editar el contenido de cada celda.\n",
    "\n",
    "Cuando editamos una celda en Google Colab, vemos que se divide en dos partes: a la izquierda aparece el contenido en un formato denominado Markdown, y a la derecha vemos la celda \"resultado\" de procesar el contenido Markdown en tiempo real.\n",
    "\n",
    "Si desean agregar una celda, en Google Colab tienen las opciones en la barra de comandos: **'+ Code'** y **'+ Text'**"
   ]
  },
  {
   "cell_type": "markdown",
   "metadata": {},
   "source": [
    "Como tarea, traten de editar las celdas de este cuaderno, observando como es posible poner títulos, subtítulos y comentarios."
   ]
  },
  {
   "cell_type": "markdown",
   "metadata": {},
   "source": [
    "## Constantes\n",
    "\n",
    "A continuación vamos a ver distintos tipos de constantes, en celdas ejecutables.\n",
    "\n",
    "Además de las constantes, las celdas contendrán algunos comentarios (los mismos no son interpretados por python) marcados con un signo numeral (#) al comienzo de la línea. Los comentarios son muy útiles para dejar notas explicando el funcionamiento del codigo. "
   ]
  },
  {
   "cell_type": "markdown",
   "metadata": {},
   "source": [
    "Ejecuta todas las celdas ejecutables que veas a continuación.\n",
    "\n",
    "Puedes hacerlo en forma manual, presionando la combinación de teclas Mayúscula y Entrada, o\n",
    "en forma automática con la opción Ejecutar del menú de Google Colab.\n",
    "\n",
    "Además, observa que hay algunas celdas ejecutables con el comentario # Pregunta!!!\n",
    "En esas celdas, lee detenidamente los comentarios y da una respuesta apropiada."
   ]
  },
  {
   "cell_type": "markdown",
   "metadata": {},
   "source": [
    "### Números enteros"
   ]
  },
  {
   "cell_type": "code",
   "execution_count": null,
   "metadata": {},
   "outputs": [],
   "source": [
    "# Esto es un comentario dentro de una celda ejecutable. \n",
    "# Ubica el cursor en esta celda y presiona Mayúscula y Entrada al mismo tiempo.\n",
    "2 "
   ]
  },
  {
   "cell_type": "code",
   "execution_count": null,
   "metadata": {
    "collapsed": true,
    "jupyter": {
     "outputs_hidden": true
    }
   },
   "outputs": [],
   "source": [
    "# Esta es otra celda ejecutable\n",
    "# El texto que aparece detras de un carácter # es un comentario\n",
    "4"
   ]
  },
  {
   "cell_type": "code",
   "execution_count": null,
   "metadata": {
    "collapsed": true,
    "jupyter": {
     "outputs_hidden": true
    }
   },
   "outputs": [],
   "source": [
    "5 # Esto es otro comentario en otra celda ejecutable"
   ]
  },
  {
   "cell_type": "code",
   "execution_count": null,
   "metadata": {
    "collapsed": true,
    "jupyter": {
     "outputs_hidden": true
    }
   },
   "outputs": [],
   "source": [
    "#-7\n",
    "#Si comentamos la constante, no sera interpretada"
   ]
  },
  {
   "cell_type": "markdown",
   "metadata": {},
   "source": [
    "### Operaciones con números enteros\n",
    "\n",
    "Python tiene integradas algunas operaciones básicas:"
   ]
  },
  {
   "cell_type": "code",
   "execution_count": null,
   "metadata": {
    "collapsed": true,
    "jupyter": {
     "outputs_hidden": true
    }
   },
   "outputs": [],
   "source": [
    "2 + 2  # Suma"
   ]
  },
  {
   "cell_type": "code",
   "execution_count": null,
   "metadata": {
    "collapsed": true,
    "jupyter": {
     "outputs_hidden": true
    }
   },
   "outputs": [],
   "source": [
    "4 - 7  # Resta"
   ]
  },
  {
   "cell_type": "code",
   "execution_count": null,
   "metadata": {
    "collapsed": true,
    "jupyter": {
     "outputs_hidden": true
    }
   },
   "outputs": [],
   "source": [
    "3 * 5  # Multiplicación"
   ]
  },
  {
   "cell_type": "code",
   "execution_count": null,
   "metadata": {
    "collapsed": true,
    "jupyter": {
     "outputs_hidden": true
    }
   },
   "outputs": [],
   "source": [
    "12 // 6 # División entera"
   ]
  },
  {
   "cell_type": "code",
   "execution_count": null,
   "metadata": {},
   "outputs": [],
   "source": [
    "14 // 8 # División entera"
   ]
  },
  {
   "cell_type": "code",
   "execution_count": null,
   "metadata": {},
   "outputs": [],
   "source": [
    "# Pregunta !!!\n",
    "\n",
    "14 / 8 # Observa la diferencia entre el resultado de esta instrucción y la anterior.\n",
    "       # Escribe un comentario breve a continuación explicando los resultados obtenidos."
   ]
  },
  {
   "cell_type": "code",
   "execution_count": null,
   "metadata": {
    "collapsed": true,
    "jupyter": {
     "outputs_hidden": true
    }
   },
   "outputs": [],
   "source": [
    "14 % 8"
   ]
  },
  {
   "cell_type": "code",
   "execution_count": null,
   "metadata": {
    "collapsed": true,
    "jupyter": {
     "outputs_hidden": true
    }
   },
   "outputs": [],
   "source": [
    "2**5"
   ]
  },
  {
   "cell_type": "code",
   "execution_count": null,
   "metadata": {
    "collapsed": true,
    "jupyter": {
     "outputs_hidden": true
    }
   },
   "outputs": [],
   "source": [
    "2*2*2*2*2"
   ]
  },
  {
   "cell_type": "code",
   "execution_count": null,
   "metadata": {},
   "outputs": [],
   "source": [
    "2*2*2*2*2==2**5"
   ]
  },
  {
   "cell_type": "markdown",
   "metadata": {},
   "source": [
    "### Numeros Reales (punto flotante)"
   ]
  },
  {
   "cell_type": "code",
   "execution_count": null,
   "metadata": {
    "collapsed": true,
    "jupyter": {
     "outputs_hidden": true
    }
   },
   "outputs": [],
   "source": [
    "2.0"
   ]
  },
  {
   "cell_type": "code",
   "execution_count": null,
   "metadata": {
    "collapsed": true,
    "jupyter": {
     "outputs_hidden": true
    }
   },
   "outputs": [],
   "source": [
    "-3.78"
   ]
  },
  {
   "cell_type": "markdown",
   "metadata": {},
   "source": [
    "### Operaciones con números reales (punto flotante)"
   ]
  },
  {
   "cell_type": "code",
   "execution_count": null,
   "metadata": {
    "collapsed": true,
    "jupyter": {
     "outputs_hidden": true
    }
   },
   "outputs": [],
   "source": [
    "2.0 + 3.1"
   ]
  },
  {
   "cell_type": "code",
   "execution_count": null,
   "metadata": {
    "collapsed": true,
    "jupyter": {
     "outputs_hidden": true
    }
   },
   "outputs": [],
   "source": [
    "3.7897 - 178.0"
   ]
  },
  {
   "cell_type": "code",
   "execution_count": null,
   "metadata": {
    "collapsed": true,
    "jupyter": {
     "outputs_hidden": true
    }
   },
   "outputs": [],
   "source": [
    "2.0 / 3.0"
   ]
  },
  {
   "cell_type": "code",
   "execution_count": null,
   "metadata": {
    "collapsed": true,
    "jupyter": {
     "outputs_hidden": true
    }
   },
   "outputs": [],
   "source": [
    "2 / 3    # División en punto flotante de números enteros"
   ]
  },
  {
   "cell_type": "code",
   "execution_count": null,
   "metadata": {
    "collapsed": true,
    "jupyter": {
     "outputs_hidden": true
    }
   },
   "outputs": [],
   "source": [
    "2 * 3.1678776"
   ]
  },
  {
   "cell_type": "code",
   "execution_count": null,
   "metadata": {
    "collapsed": true,
    "jupyter": {
     "outputs_hidden": true
    }
   },
   "outputs": [],
   "source": [
    "10.01*156.89 - 2.9"
   ]
  },
  {
   "cell_type": "code",
   "execution_count": null,
   "metadata": {},
   "outputs": [],
   "source": [
    "# Pregunta !!!\n",
    "\n",
    ".1 + .1 + .1 == .3 # Explicar !!!"
   ]
  },
  {
   "cell_type": "code",
   "execution_count": null,
   "metadata": {},
   "outputs": [],
   "source": [
    "# Mostramos mas decimales con la funcion format. \n",
    "# Podemos ver con mas detalle el numero que representa para la computadora.\n",
    "format(0.1, '.40f')"
   ]
  },
  {
   "cell_type": "code",
   "execution_count": null,
   "metadata": {},
   "outputs": [],
   "source": [
    "# Mostramos mas decimales con la funcion format. \n",
    "# Podemos ver con mas detalle el numero que representa para la computadora.\n",
    "format(0.3, '.40f')"
   ]
  },
  {
   "cell_type": "markdown",
   "metadata": {},
   "source": [
    "## Strings o cadenas de caracteres"
   ]
  },
  {
   "cell_type": "code",
   "execution_count": null,
   "metadata": {
    "collapsed": true,
    "jupyter": {
     "outputs_hidden": true
    }
   },
   "outputs": [],
   "source": [
    "'hola, mundo!' # las cadenas son secuencias de caracteres entre comillas simples"
   ]
  },
  {
   "cell_type": "code",
   "execution_count": null,
   "metadata": {
    "collapsed": true,
    "jupyter": {
     "outputs_hidden": true
    }
   },
   "outputs": [],
   "source": [
    "\"hola, mundo!\" # o comillas dobles"
   ]
  },
  {
   "cell_type": "code",
   "execution_count": null,
   "metadata": {
    "collapsed": true,
    "jupyter": {
     "outputs_hidden": true
    }
   },
   "outputs": [],
   "source": [
    "'Hola, \"Argentina\"!' # Podemos usar comillas simples y dobles"
   ]
  },
  {
   "cell_type": "code",
   "execution_count": null,
   "metadata": {
    "collapsed": true,
    "jupyter": {
     "outputs_hidden": true
    }
   },
   "outputs": [],
   "source": [
    "\"Hola, 'Argentina'!\" # O comillas dobles y simples"
   ]
  },
  {
   "cell_type": "code",
   "execution_count": null,
   "metadata": {
    "collapsed": true,
    "jupyter": {
     "outputs_hidden": true
    },
    "tags": []
   },
   "outputs": [],
   "source": [
    "\"\"\"Para textos largos\n",
    "usamos triple comilla\n",
    "porque simplifica\n",
    "la escritura\"\"\" # El símbolo '\\n' indica salto de línea.\n",
    "#Luego veremos como se puede hacer para mostrar correctamente el texto\n"
   ]
  },
  {
   "cell_type": "markdown",
   "metadata": {},
   "source": [
    "### Operaciones con strings"
   ]
  },
  {
   "cell_type": "code",
   "execution_count": null,
   "metadata": {},
   "outputs": [],
   "source": [
    "'123-'*16"
   ]
  },
  {
   "cell_type": "code",
   "execution_count": null,
   "metadata": {},
   "outputs": [],
   "source": [
    "'123' + \"456\" + \": Hola\""
   ]
  },
  {
   "cell_type": "markdown",
   "metadata": {},
   "source": [
    "## Booleans o valores lógicos"
   ]
  },
  {
   "cell_type": "code",
   "execution_count": null,
   "metadata": {
    "collapsed": true,
    "jupyter": {
     "outputs_hidden": true
    }
   },
   "outputs": [],
   "source": [
    "True # Verdadero"
   ]
  },
  {
   "cell_type": "code",
   "execution_count": null,
   "metadata": {
    "collapsed": true,
    "jupyter": {
     "outputs_hidden": true
    }
   },
   "outputs": [],
   "source": [
    "False # Falso"
   ]
  },
  {
   "cell_type": "markdown",
   "metadata": {},
   "source": [
    "### Operaciones con boolean (valores lógicos)"
   ]
  },
  {
   "cell_type": "code",
   "execution_count": null,
   "metadata": {
    "collapsed": true,
    "jupyter": {
     "outputs_hidden": true
    }
   },
   "outputs": [],
   "source": [
    "2 == 2"
   ]
  },
  {
   "cell_type": "code",
   "execution_count": null,
   "metadata": {
    "collapsed": true,
    "jupyter": {
     "outputs_hidden": true
    }
   },
   "outputs": [],
   "source": [
    "2 != 2"
   ]
  },
  {
   "cell_type": "code",
   "execution_count": null,
   "metadata": {
    "collapsed": true,
    "jupyter": {
     "outputs_hidden": true
    }
   },
   "outputs": [],
   "source": [
    "2 == 3"
   ]
  },
  {
   "cell_type": "code",
   "execution_count": null,
   "metadata": {
    "collapsed": true,
    "jupyter": {
     "outputs_hidden": true
    }
   },
   "outputs": [],
   "source": [
    "2 != 3"
   ]
  },
  {
   "cell_type": "code",
   "execution_count": null,
   "metadata": {
    "collapsed": true,
    "jupyter": {
     "outputs_hidden": true
    }
   },
   "outputs": [],
   "source": [
    "'a9' == '0'"
   ]
  },
  {
   "cell_type": "code",
   "execution_count": null,
   "metadata": {
    "collapsed": true,
    "jupyter": {
     "outputs_hidden": true
    }
   },
   "outputs": [],
   "source": [
    "True == False"
   ]
  },
  {
   "cell_type": "code",
   "execution_count": null,
   "metadata": {
    "collapsed": true,
    "jupyter": {
     "outputs_hidden": true
    }
   },
   "outputs": [],
   "source": [
    "False == False"
   ]
  },
  {
   "cell_type": "code",
   "execution_count": null,
   "metadata": {},
   "outputs": [],
   "source": [
    "4 > 5"
   ]
  },
  {
   "cell_type": "code",
   "execution_count": null,
   "metadata": {},
   "outputs": [],
   "source": [
    "10 < 15"
   ]
  },
  {
   "cell_type": "code",
   "execution_count": null,
   "metadata": {},
   "outputs": [],
   "source": [
    "24 <= 24"
   ]
  },
  {
   "cell_type": "code",
   "execution_count": null,
   "metadata": {},
   "outputs": [],
   "source": [
    "\"Hola \"==\"Hola\""
   ]
  },
  {
   "cell_type": "code",
   "execution_count": null,
   "metadata": {},
   "outputs": [],
   "source": [
    "\"Hola\"==\"Hola\""
   ]
  },
  {
   "cell_type": "markdown",
   "metadata": {},
   "source": [
    "## Variables\n",
    "\n",
    "Para realizar cálculos, es conveniente emplear variables.\n",
    "\n",
    "Una variable consta de un nombre o identificador, asociado a un espacio de memoria donde almacenamos un valor determinado.\n",
    "\n",
    "Es recomendable que las variables tengan nombres significativos al valor que estan almacenando, asi nuestro codigo sera mas legible.\n",
    "\n",
    "**Reglas para el nombre de una variable:**\n",
    "* Debe empezar con una letra (a-z, A-Z) o un guión bajo (_)\n",
    "* Los otros caracteres pueden ser letras, numeros o guión bajo\n",
    "* Distingue mayúsculas de minúsculas\n",
    "* Existen palabras reservadas que no se pueden usar como nombre de variable porque Python las usa para otras cosas. Por ejemplo el nombre de una variable no puede ser *True* o *print*."
   ]
  },
  {
   "cell_type": "code",
   "execution_count": null,
   "metadata": {
    "collapsed": true,
    "jupyter": {
     "outputs_hidden": true
    }
   },
   "outputs": [],
   "source": [
    "a = 1         # Identificador a, valor 1 entero con signo\n",
    "b = 2.1       # Identificador b, valor 2.1 punto flotante\n",
    "c = 'abcdef'  # Identificador c, valor 'abcdef'\n",
    "d = False     # Identificador d, valor False"
   ]
  },
  {
   "cell_type": "code",
   "execution_count": null,
   "metadata": {
    "collapsed": true,
    "jupyter": {
     "outputs_hidden": true
    }
   },
   "outputs": [],
   "source": [
    "a + b"
   ]
  },
  {
   "cell_type": "code",
   "execution_count": null,
   "metadata": {
    "collapsed": true,
    "jupyter": {
     "outputs_hidden": true
    }
   },
   "outputs": [],
   "source": [
    "a * 4 // 3"
   ]
  },
  {
   "cell_type": "code",
   "execution_count": null,
   "metadata": {
    "collapsed": true,
    "jupyter": {
     "outputs_hidden": true
    }
   },
   "outputs": [],
   "source": [
    "c*4"
   ]
  },
  {
   "cell_type": "code",
   "execution_count": null,
   "metadata": {
    "collapsed": true,
    "jupyter": {
     "outputs_hidden": true
    }
   },
   "outputs": [],
   "source": [
    "1 == a"
   ]
  },
  {
   "cell_type": "code",
   "execution_count": null,
   "metadata": {
    "collapsed": true,
    "jupyter": {
     "outputs_hidden": true
    }
   },
   "outputs": [],
   "source": [
    "b * 2"
   ]
  },
  {
   "cell_type": "code",
   "execution_count": null,
   "metadata": {
    "collapsed": true,
    "jupyter": {
     "outputs_hidden": true
    }
   },
   "outputs": [],
   "source": [
    "d == (a == 2)"
   ]
  },
  {
   "cell_type": "markdown",
   "metadata": {},
   "source": [
    "## Funciones\n",
    "\n",
    "Python tiene funciones incorporadas que podemos aplicar a constantes y variables.\n",
    "Las funciones son pequeñas secuencias de instrucciones o sentencias de Python, con un nombre y una lista de parámetros, que pueden devolver o no un resultado.\n",
    "\n",
    "Una vez definida una función, puede invocarse repetidas veces dandole diferentes valores a sus parámetros.\n",
    "Esto nos evita escribir repetidas veces la misma secuencia de sentencias, acortando y simplificando los programas.\n"
   ]
  },
  {
   "cell_type": "markdown",
   "metadata": {},
   "source": [
    "### type\n",
    "\n",
    "Ahora vamos a ver la función **type** que sirve para ver el tipo de datos de constantes y variables."
   ]
  },
  {
   "cell_type": "code",
   "execution_count": null,
   "metadata": {},
   "outputs": [],
   "source": [
    "type(1), type(2.6), type(True), type(False), type('a'), type(\"B\")"
   ]
  },
  {
   "cell_type": "code",
   "execution_count": null,
   "metadata": {},
   "outputs": [],
   "source": [
    "a = 1\n",
    "type(a)"
   ]
  },
  {
   "cell_type": "code",
   "execution_count": null,
   "metadata": {
    "collapsed": true,
    "jupyter": {
     "outputs_hidden": true
    }
   },
   "outputs": [],
   "source": [
    "b = 2.3\n",
    "type(b)"
   ]
  },
  {
   "cell_type": "code",
   "execution_count": null,
   "metadata": {
    "collapsed": true,
    "jupyter": {
     "outputs_hidden": true
    }
   },
   "outputs": [],
   "source": [
    "c = 'abcde'\n",
    "type(c)"
   ]
  },
  {
   "cell_type": "code",
   "execution_count": null,
   "metadata": {
    "collapsed": true,
    "jupyter": {
     "outputs_hidden": true
    }
   },
   "outputs": [],
   "source": [
    "d = True\n",
    "type(d)"
   ]
  },
  {
   "cell_type": "markdown",
   "metadata": {},
   "source": [
    "### print\n",
    "\n",
    "La función **print** nos permite mostrar en pantalla los valores de constantes y variables."
   ]
  },
  {
   "cell_type": "code",
   "execution_count": null,
   "metadata": {
    "collapsed": true,
    "jupyter": {
     "outputs_hidden": true
    },
    "tags": []
   },
   "outputs": [],
   "source": [
    "print(1)"
   ]
  },
  {
   "cell_type": "code",
   "execution_count": null,
   "metadata": {
    "collapsed": true,
    "jupyter": {
     "outputs_hidden": true
    },
    "tags": []
   },
   "outputs": [],
   "source": [
    "print(2.1)"
   ]
  },
  {
   "cell_type": "code",
   "execution_count": null,
   "metadata": {
    "tags": []
   },
   "outputs": [],
   "source": [
    "print(True, False)"
   ]
  },
  {
   "cell_type": "code",
   "execution_count": null,
   "metadata": {
    "tags": []
   },
   "outputs": [],
   "source": [
    "print(\"\"\"167628761\"\"\")"
   ]
  },
  {
   "cell_type": "code",
   "execution_count": null,
   "metadata": {
    "collapsed": true,
    "jupyter": {
     "outputs_hidden": true
    }
   },
   "outputs": [],
   "source": [
    "print(a)"
   ]
  },
  {
   "cell_type": "code",
   "execution_count": null,
   "metadata": {
    "collapsed": true,
    "jupyter": {
     "outputs_hidden": true
    },
    "tags": []
   },
   "outputs": [],
   "source": [
    "print(b)"
   ]
  },
  {
   "cell_type": "code",
   "execution_count": null,
   "metadata": {
    "collapsed": true,
    "jupyter": {
     "outputs_hidden": true
    },
    "tags": []
   },
   "outputs": [],
   "source": [
    "print(a, b, c)"
   ]
  },
  {
   "cell_type": "code",
   "execution_count": null,
   "metadata": {
    "collapsed": true,
    "jupyter": {
     "outputs_hidden": true
    }
   },
   "outputs": [],
   "source": [
    "texto = \"\"\"Este es un texto largo para mostrar\n",
    "como se muestran variables en pantalla\n",
    "1\n",
    "2\n",
    "3\n",
    "4\n",
    "5\n",
    "\"\"\""
   ]
  },
  {
   "cell_type": "code",
   "execution_count": null,
   "metadata": {
    "collapsed": true,
    "jupyter": {
     "outputs_hidden": true
    },
    "tags": []
   },
   "outputs": [],
   "source": [
    "print(texto)"
   ]
  },
  {
   "cell_type": "code",
   "execution_count": null,
   "metadata": {
    "tags": []
   },
   "outputs": [],
   "source": [
    "# Normalmente escribimos comentarios\n",
    "# que nos ayuden a entender lo que hacemos\n",
    "\n",
    "print(\"Hola Mundo\") # esta linea escribe en pantalla Hola Mundo\n",
    "\n",
    "# los comentarios no son interpretados entonces podemos escribirlos\n",
    "# donde más nos parezca conveniente.\n",
    "a = 2\n",
    "b = 6\n",
    "print(a + b)"
   ]
  },
  {
   "cell_type": "code",
   "execution_count": null,
   "metadata": {
    "tags": []
   },
   "outputs": [],
   "source": [
    "p=2.3335\n",
    "\n",
    "print(p)"
   ]
  },
  {
   "cell_type": "markdown",
   "metadata": {},
   "source": [
    "## f strings o f cadenas"
   ]
  },
  {
   "cell_type": "code",
   "execution_count": 1,
   "metadata": {
    "tags": []
   },
   "outputs": [
    {
     "name": "stdout",
     "output_type": "stream",
     "text": [
      "1  -  2.6\n",
      "Mide 1 de ancho y 2.6 de largo\n"
     ]
    }
   ],
   "source": [
    "# Es posible armar una cadena de caracteres con valores de variables, estas deben estar dentro de {}\n",
    "a = 1\n",
    "b = 2.6\n",
    "texto = f'{a}  -  {b}' # f string\n",
    "print(texto)\n",
    "\n",
    "texto=f'Mide {a} de ancho y {b} de largo'\n",
    "print(texto)\n",
    "\n"
   ]
  },
  {
   "cell_type": "code",
   "execution_count": null,
   "metadata": {
    "tags": []
   },
   "outputs": [],
   "source": [
    "# Comparemos esta celda y sus resultados con la celda anterior y sus resultados.\n",
    "# En los fstrings podemos agregar las instrucciones de formato.\n",
    "# Por ejemplo, consideremos {k:3d}\n",
    "# En este caso, \n",
    "#    la 'd' indica que la variable k contiene un valor entero o int\n",
    "#    el 3 indica que el valor de k se 'imprimira' con espacio para tres dígitos\n",
    "a = 0\n",
    "b = 1\n",
    "c = 1\n",
    "k = 0\n",
    "resultado = f'{k:3d} :         {c:6d}'\n",
    "print(resultado)\n",
    "for k in range(1,10):\n",
    "    c = a + b\n",
    "    resultado = f'{k:3d} : {a:3d} + {b:3d} = {c:2d}' # f string, o cadena con fórmulas\n",
    "    print(resultado)\n",
    "    a = b\n",
    "    b = c   "
   ]
  },
  {
   "cell_type": "markdown",
   "metadata": {},
   "source": [
    "## Ejecución de celdas individuales\n",
    "\n",
    "Cada celda puede ser ejecutada individualmente, y las variables que estén en esa celda serán guardadas en memoria por el tiempo que se mantenga la sesión. Por lo tanto si queremos ejecutar un programa que este en varias celdas, debemos hacerlo en orden.\n",
    "\n"
   ]
  },
  {
   "cell_type": "code",
   "execution_count": null,
   "metadata": {},
   "outputs": [],
   "source": [
    "# Ejecutar esta celda\n",
    "a = 2\n",
    "b = 1\n",
    "c = a + b\n",
    "print(c)"
   ]
  },
  {
   "cell_type": "code",
   "execution_count": null,
   "metadata": {},
   "outputs": [],
   "source": [
    "# Antes de ejecutar esta celda, presionar Ctrl + M para reiniciar el entorno\n",
    "print(c)"
   ]
  },
  {
   "cell_type": "markdown",
   "metadata": {},
   "source": [
    "Aparece un error indicando que c no está definido. Por eso siempre tenemos que tener cuidado al reiniciar un cuaderno, ya que se pierden todas las variables y debemos recordar de correr las celdas que necesitamos.\n",
    "\n",
    "Ahora, ¿Por qué trabajar ejecutando algunas celdas y no todo el cuaderno?\n",
    "\n",
    "Puede que algunas celdas sean necesarias una sola vez para descargar un archivo y al volver a ejecutarla estaríamos sobreescribiendolo. O también que una celda tome mucho tiempo en ejecutarse, debido a que se realizan muchas operaciones, y esto relentiza nuestro flujo de trabajo.\n",
    "\n",
    "Otra de las ventajas es que podemos ir mejorando poco a poco nuestro código y obtener resultados al instante, por ejemplo volvemos en otro momento a revisar el proyecto y se nos ocurrió hacer otro tipo de gráfica y no queremos ejecutar todo el programa porque lleva algunas horas de procesamiento..."
   ]
  },
  {
   "cell_type": "markdown",
   "metadata": {},
   "source": [
    "## Primer programa"
   ]
  },
  {
   "cell_type": "code",
   "execution_count": 2,
   "metadata": {
    "tags": []
   },
   "outputs": [
    {
     "name": "stdout",
     "output_type": "stream",
     "text": [
      "El volumen del cubo cuya arista es 3 cms. es igual a 27 cms cúbicos\n",
      "El volumen del cubo cuya arista es 3 cms. es igual a 27 cms cúbicos\n"
     ]
    }
   ],
   "source": [
    "# Vamos a calcular el volumen de un cubo \n",
    "# de tres centimetros de arista\n",
    "arista = 3\n",
    "volumen = arista ** 3\n",
    "\n",
    "# Podemos concatenar variables y cadenas con ,\n",
    "print('El volumen del cubo cuya arista es', arista, 'cms. es igual a', volumen, 'cms cúbicos')\n",
    "\n",
    "# También podemos usar f strings\n",
    "print(f'El volumen del cubo cuya arista es {arista} cms. es igual a {volumen} cms cúbicos')"
   ]
  },
  {
   "cell_type": "markdown",
   "metadata": {},
   "source": [
    "## Ejercicio 1\n",
    "\n",
    "Recodifica el primer programa con variables en punto flotante y strings"
   ]
  },
  {
   "cell_type": "code",
   "execution_count": null,
   "metadata": {
    "collapsed": true,
    "jupyter": {
     "outputs_hidden": true
    },
    "tags": []
   },
   "outputs": [],
   "source": [
    "# Vamos a calcular el volumen de un cubo \n",
    "# de tres centimetros de arista\n",
    "arista = 0\n",
    "volumen = 0\n",
    "a = ''\n",
    "b = ''\n",
    "c = ''\n",
    "\n",
    "#Las variables tienen que modificarse para que al ejecutar el print se imprima el resultado del volumen con numeros en punto flotante.\n",
    "print(a, arista, b, volumen, c)"
   ]
  },
  {
   "cell_type": "markdown",
   "metadata": {},
   "source": [
    "## Ejercicio 2\n",
    "\n",
    "En la siguiente celda, modifica el valor asignado a la variable p \n",
    "de forma tal que el resultado de la comparación final sea True"
   ]
  },
  {
   "cell_type": "code",
   "execution_count": null,
   "metadata": {
    "tags": []
   },
   "outputs": [],
   "source": [
    "# Pregunta !!!\n",
    "p = 0           # Que valor debo asignarle a p para que la última linea de como resultado True?\n",
    "a = 16\n",
    "c = a + 16\n",
    "b = c + 40\n",
    "print('b =', b)\n",
    "b == p"
   ]
  },
  {
   "cell_type": "markdown",
   "metadata": {},
   "source": [
    "## None\n",
    "\n",
    "None es un valor especial usado para indicar un valor nulo o vacio"
   ]
  },
  {
   "cell_type": "code",
   "execution_count": null,
   "metadata": {
    "collapsed": true,
    "jupyter": {
     "outputs_hidden": true
    }
   },
   "outputs": [],
   "source": [
    "nada = None"
   ]
  },
  {
   "cell_type": "markdown",
   "metadata": {},
   "source": [
    "## Control de flujo\n",
    "\n",
    "Para hacer programas más complejos se utilizan distintas estructuras de control."
   ]
  },
  {
   "cell_type": "markdown",
   "metadata": {},
   "source": [
    "### Condicionales\n",
    "\n",
    "- if \n",
    "- else\n",
    "- elif\n",
    "\n",
    "\n"
   ]
  },
  {
   "cell_type": "markdown",
   "metadata": {},
   "source": [
    "#### if\n",
    "\n",
    "El condicional *if*, nos permite ejecutar código únicamente si la condición es Verdadera. Esta condición puede lograrse una variable booleana (True o False) o con cualquiera de las operaciones de comparación (== ,<,>,<=,>=). La sintaxis es la siguiente:\n",
    "\n",
    "\n",
    "...\n",
    "\n",
    "if condición :\n",
    " \n",
    "&nbsp;&nbsp;&nbsp; lo que se ejecuta si la condición es verdadera\n",
    "\n",
    "...\n",
    "\n",
    "Luego de la condición deben ir :\n",
    "Y luego en la linea siguiente debe haber una sangría (si ponemos : y luego enter lo hace automáticamente). Todo lo que tenga esta identación va a ser ejecutado únicamente si la condición es Verdadera."
   ]
  },
  {
   "cell_type": "code",
   "execution_count": null,
   "metadata": {
    "collapsed": true,
    "jupyter": {
     "outputs_hidden": true
    }
   },
   "outputs": [],
   "source": [
    "# Supongamos que queremos verificar si la variable a tiene un valor igual a 1\n",
    "# e imprimir a == 1 si ese es el caso\n",
    "a = 0\n",
    "if a == 1:\n",
    "    print('a == 1')\n"
   ]
  },
  {
   "cell_type": "markdown",
   "metadata": {},
   "source": [
    "#### else\n",
    "\n",
    "El condicional *else*, es un opcional que se le puede agregar al *if*, donde todo lo que este contenido en el else, se ejecutara si la condición es Falsa.\n",
    "\n",
    "...\n",
    "\n",
    "if condición :\n",
    " \n",
    "&nbsp;&nbsp;&nbsp; lo que se ejecuta si la condición es verdadera\n",
    "\n",
    "else:\n",
    "\n",
    "&nbsp;&nbsp;&nbsp; lo que se ejecuta si la condición es falsa\n",
    "\n",
    "\n",
    "...\n",
    "\n",
    "Importante recordar los : y la identación."
   ]
  },
  {
   "cell_type": "code",
   "execution_count": null,
   "metadata": {
    "collapsed": true,
    "jupyter": {
     "outputs_hidden": true
    }
   },
   "outputs": [],
   "source": [
    "# Supongamos que queremos verificar si la variable a tiene un valor igual a 1\n",
    "# e imprimir a == 1 si ese es el caso\n",
    "# e imprimir a != 0 en caso contrario\n",
    "a = 0\n",
    "if a == 1:\n",
    "    print('a == 1')\n",
    "else:\n",
    "    print('a != 1')\n",
    " "
   ]
  },
  {
   "cell_type": "markdown",
   "metadata": {},
   "source": [
    "#### elif\n",
    "\n",
    "El condicional *elif*, es una anexo al *if* y nos permite evaluar otra condición si la condicióndel if es Falsa.\n",
    "\n",
    "...\n",
    "\n",
    "if condición 1 :\n",
    " \n",
    "&nbsp;&nbsp;&nbsp; lo que se ejecuta si la condición 1 es verdadera\n",
    "\n",
    "elif condición 2:\n",
    "\n",
    "&nbsp;&nbsp;&nbsp; lo que se ejecuta si la condición 2 es verdadera\n",
    "\n",
    "else:\n",
    " \n",
    "&nbsp;&nbsp;&nbsp; lo que se ejecuta si la condición 2 es falsa\n",
    "\n",
    "\n",
    "\n",
    "...\n"
   ]
  },
  {
   "cell_type": "code",
   "execution_count": null,
   "metadata": {
    "collapsed": true,
    "jupyter": {
     "outputs_hidden": true
    },
    "tags": []
   },
   "outputs": [],
   "source": [
    "# Supongamos que queremos verificar si la variable a tiene un valor igual a 1\n",
    "# e imprimir a == 1 si ese es el caso\n",
    "# y verificar si la variable a tiene un valor igual a 0\n",
    "# e imprimir a == 0 si ese es el caso\n",
    "# e imprimir a != 1 y a != 0 en caso contrario\n",
    "a = 2\n",
    "if a == 1:\n",
    "    print('a == 1')\n",
    "elif a == 0:\n",
    "    print('a == 0')\n",
    "else:\n",
    "    print('a != 1 y a != 0')\n"
   ]
  },
  {
   "cell_type": "code",
   "execution_count": null,
   "metadata": {
    "tags": []
   },
   "outputs": [],
   "source": [
    "a = 2\n",
    "if a:\n",
    "    print('a != 0') # si a tiene asignado un valor distinto de 0, se ejecuta esta instrucción\n",
    "else:\n",
    "    print('a == 0') # si a tiene asignado un valor igual a 0, se ejecuta esta instrucción"
   ]
  },
  {
   "cell_type": "code",
   "execution_count": null,
   "metadata": {},
   "outputs": [],
   "source": [
    "# Pregunta !!!\n",
    "\n",
    "# Como es posible modificar estas instrucciones para que se imprima\n",
    "#     a == 4\n",
    "# en lugar de \n",
    "#     a != 0\n",
    "#\n",
    "a = 4\n",
    "if a:\n",
    "    print('a != 0') # si a tiene asignado un valor distinto de 0, se ejecuta esta instrucción\n",
    "else:\n",
    "    print('a == 0') # si a tiene asignado un valor igual a 0, se ejecuta esta instrucción"
   ]
  },
  {
   "cell_type": "markdown",
   "metadata": {},
   "source": [
    "## Ciclos\n",
    "\n",
    "Es posible repetir instrucciones sin tener que escribir múltiples veces la instrucción."
   ]
  },
  {
   "cell_type": "markdown",
   "metadata": {},
   "source": [
    "### Ciclo for\n",
    "Este es un tipo de ciclo o repetición que se ejecuta un determinado número de veces, en el caso más común.\n",
    "Observemos el indentado o desplazamiento de las operaciones incluídas en el ciclo.\n",
    "\n",
    "La función **range** genera una secuencia de valores, incluyendo el limite inicial y excluyendo el limite final.\n",
    "\n",
    "\n",
    "Si escribimos\n",
    "   **range(a)**\n",
    " a indica el límite final, el límite inicial es 0 y la variación entre valores consecutivos es 1.\n",
    "\n",
    "\n",
    " En cambio si escribimos\n",
    "   **range(a,b)**\n",
    " a indica el límite inicial, b indica el límite final, y la variación entre valores consecutivos es 1.\n",
    "\n",
    " \n",
    " Finalmente, si escribimos\n",
    "   **range(a,b,c)**\n",
    " a indica el límite inicial, b indica el límite final, y la variación entre valores consecutivos es c.\n",
    "\n",
    "\n",
    "\n",
    "...\n",
    "\n",
    "for i in range(n):\n",
    " \n",
    "&nbsp;&nbsp;&nbsp; lo que se ejecutara n veces.\n",
    "\n",
    "...\n",
    "\n",
    "La identación se utiliza para determinar lo que esta incluido dentro del for, que es lo que se ejecutara la cantidad de veces que se determinó.\n",
    "\n"
   ]
  },
  {
   "cell_type": "code",
   "execution_count": null,
   "metadata": {
    "tags": []
   },
   "outputs": [],
   "source": [
    "# Generamos una secuencia desde limite inicial 0 (por defecto) hasta el límite final, \n",
    "#   variación entre valores consecutivos 1,\n",
    "for i in range(15): # 0 <= i < 15, i = i + 1\n",
    "    print(i)"
   ]
  },
  {
   "cell_type": "code",
   "execution_count": null,
   "metadata": {
    "tags": []
   },
   "outputs": [],
   "source": [
    "# Generamos una secuencia desde 0 hasta el límite superior menos 1\n",
    "for i in range(3, 15): # 3 <= i < 15, i = i + 1\n",
    "    print(i)"
   ]
  },
  {
   "cell_type": "code",
   "execution_count": null,
   "metadata": {
    "tags": []
   },
   "outputs": [],
   "source": [
    "for i in range(3, 15, 6): # 3 <= i < 15, i = i + 6\n",
    "    print(i)"
   ]
  },
  {
   "cell_type": "code",
   "execution_count": null,
   "metadata": {
    "tags": []
   },
   "outputs": [],
   "source": [
    "# Pregunta !!!\n",
    "\n",
    "# Cual es el valor final de k?\n",
    "\n",
    "k = 0\n",
    "for i in range(3, 15, 6): # 3 <= i < 15, i = i + 6\n",
    "    print(i)\n",
    "    k += 1"
   ]
  },
  {
   "cell_type": "code",
   "execution_count": null,
   "metadata": {
    "collapsed": true,
    "jupyter": {
     "outputs_hidden": true
    },
    "tags": []
   },
   "outputs": [],
   "source": [
    "# Los f strings sirven para construir mensajes con resultados de cálculos o adaptados al usuario\n",
    "# Ahora vamos a generar una secuencia de valores e imprimir la tabla con los cálculos.\n",
    "a = 0\n",
    "b = 1\n",
    "c = 1\n",
    "k = 0\n",
    "resultado = f'{k} :         {c}'\n",
    "print(resultado)\n",
    "for k in range(1,10):\n",
    "    c = a + b\n",
    "    resultado = f'{k} : {a} + {b} = {c}'\n",
    "    print(resultado)\n",
    "    a = b\n",
    "    b = c    \n",
    "\n",
    "# 0 :         1\n",
    "# 1 : 0 + 1 = 1\n",
    "# 2 : 1 + 1 = 2\n",
    "# 3 : 1 + 2 = 3\n",
    "# 4 : 2 + 3 = 5\n",
    "# 5 : 3 + 5 = 8\n",
    "# 6 : 5 + 8 = 13\n",
    "# 7 : 8 + 13 = 21\n",
    "# 8 : 13 + 21 = 34\n",
    "# 9 : 21 + 34 = 55"
   ]
  },
  {
   "cell_type": "code",
   "execution_count": null,
   "metadata": {
    "collapsed": true,
    "jupyter": {
     "outputs_hidden": true
    },
    "tags": []
   },
   "outputs": [],
   "source": [
    "# Comparemos esta celda y sus resultados con la celda anterior y sus resultados.\n",
    "# En los fstrings aparecen las instrucciones de formato.\n",
    "# Por ejemplo, consideremos {k:3d}\n",
    "# En este caso, \n",
    "#    la 'd' indica que la variable k contiene un valor entero o int\n",
    "#    el 3 indica que el valor de k se 'imprimira' con espacio para tres dígitos\n",
    "a = 0\n",
    "b = 1\n",
    "c = 1\n",
    "k = 0\n",
    "resultado = f'{k:3d} :         {c:6d}'\n",
    "print(resultado)\n",
    "for k in range(1,10):\n",
    "    c = a + b\n",
    "    resultado = f'{k:3d} : {a:3d} + {b:3d} = {c:2d}'\n",
    "    print(resultado)\n",
    "    a = b\n",
    "    b = c   \n",
    "\n",
    " # 0 :              1\n",
    " # 1 :   0 +   1 =  1\n",
    " # 2 :   1 +   1 =  2\n",
    " # 3 :   1 +   2 =  3\n",
    " # 4 :   2 +   3 =  5\n",
    " # 5 :   3 +   5 =  8\n",
    " # 6 :   5 +   8 = 13\n",
    " # 7 :   8 +  13 = 21\n",
    " # 8 :  13 +  21 = 34\n",
    " # 9 :  21 +  34 = 55"
   ]
  },
  {
   "cell_type": "code",
   "execution_count": null,
   "metadata": {
    "tags": []
   },
   "outputs": [],
   "source": [
    "for i in range(5,12):\n",
    "    print(i)"
   ]
  },
  {
   "cell_type": "code",
   "execution_count": null,
   "metadata": {
    "tags": []
   },
   "outputs": [],
   "source": [
    "for i in range(7, 15, 3):\n",
    "    print(i)"
   ]
  },
  {
   "cell_type": "code",
   "execution_count": null,
   "metadata": {
    "tags": []
   },
   "outputs": [],
   "source": [
    "# Pregunta !!!\n",
    "\n",
    "# Como puedo hacer que este programa solo imprima los números impares entre 0 y 10\n",
    "for i in range(10):\n",
    "    print(i)"
   ]
  },
  {
   "cell_type": "markdown",
   "metadata": {},
   "source": [
    "### Ciclo while\n",
    "El ciclo while (mientras), se ejecuta siempre que la condición sea verdadera.\n",
    "\n",
    "...\n",
    "\n",
    "while condición:\n",
    " \n",
    "&nbsp;&nbsp;&nbsp; lo que se ejecturá mientras la condición sea verdadera.\n",
    "\n",
    "...\n",
    "\n",
    "La identación se utiliza para determinar lo que esta incluido dentro del while, que es lo que se ejecutara siempre que la condición sea verdadera.\n"
   ]
  },
  {
   "cell_type": "code",
   "execution_count": null,
   "metadata": {
    "tags": []
   },
   "outputs": [],
   "source": [
    "k = 0\n",
    "while k < 10:\n",
    "    print(k)\n",
    "    k += 1    # El valor de k se incrementa en 1"
   ]
  },
  {
   "cell_type": "code",
   "execution_count": null,
   "metadata": {
    "tags": []
   },
   "outputs": [],
   "source": [
    "# Pregunta !!!\n",
    "\n",
    "# Como puedo modificar este programa para imprimir solo los números impares entre 0 y 10\n",
    "k = 0\n",
    "while k < 10:\n",
    "    print(k)\n",
    "    k += 1    # El valor de k se incrementa en 1"
   ]
  },
  {
   "cell_type": "code",
   "execution_count": null,
   "metadata": {
    "tags": [
     "outputPrepend"
    ]
   },
   "outputs": [],
   "source": [
    "\n",
    "k = 0\n",
    "while k < 10:\n",
    "    print(k)\n",
    "    #k += 1    \n",
    "\n",
    "#Hay que tener cuidado, que la condicion en algun momento se cumpla!!\n",
    "#Si la condición nunca se cumple el programa seguirá ejecutandose infinitamente, un bucle infinito!"
   ]
  },
  {
   "cell_type": "markdown",
   "metadata": {},
   "source": [
    "## Segundo programa"
   ]
  },
  {
   "cell_type": "markdown",
   "metadata": {},
   "source": [
    "Vamos a escribir un juego: tenemos que escribir el resultado correcto de la operación matemática que nos propone el programa. Supongamos que tenemos dos números, guardados en dos variables"
   ]
  },
  {
   "cell_type": "code",
   "execution_count": null,
   "metadata": {
    "collapsed": true,
    "jupyter": {
     "outputs_hidden": true
    }
   },
   "outputs": [],
   "source": [
    "# Datos\n",
    "a = 5\n",
    "b = 12\n",
    "# Obviamente los números son fijos\n",
    "# La operación propuesta es la suma de a y b\n",
    "# La respuesta correcta la guardamos en la variable c\n",
    "c = a + b"
   ]
  },
  {
   "cell_type": "code",
   "execution_count": null,
   "metadata": {
    "tags": []
   },
   "outputs": [],
   "source": [
    "# Esto es nuevo\n",
    "# La f delante de la cadena de caracteres nos permite \"escribir\" variables\n",
    "# Observemos el detalle \":d\", que indica que el valor de la variable es un entero\n",
    "print(f'{a:d} + {b:d} = ?') # Mostramos la pregunta "
   ]
  },
  {
   "cell_type": "code",
   "execution_count": null,
   "metadata": {},
   "outputs": [],
   "source": [
    "# Leemos la respuesta como texto\n",
    "texto = input()"
   ]
  },
  {
   "cell_type": "code",
   "execution_count": null,
   "metadata": {
    "collapsed": true,
    "jupyter": {
     "outputs_hidden": true
    }
   },
   "outputs": [],
   "source": [
    "respuesta = int(texto) # convertimos el texto a un número entero \n",
    "\n",
    "#el input debe ser numerico! Si no, nos aparecerá un error."
   ]
  },
  {
   "cell_type": "code",
   "execution_count": null,
   "metadata": {
    "tags": []
   },
   "outputs": [],
   "source": [
    "# Verificamos la respuesta\n",
    "if respuesta == c:\n",
    "  print('Ok')\n",
    "else:\n",
    "  print('Respuesta errónea')\n",
    "  resultado = f'{a:d}+{b:d}={c:d}'\n",
    "  mensaje = f'El resultado correcto es {resultado:s}'\n",
    "  print(mensaje)\n"
   ]
  },
  {
   "cell_type": "markdown",
   "metadata": {},
   "source": [
    "## Tercer programa\n",
    "El programa anterior es algo tonto: los valores de a y b no cambian, la operación siempre\n",
    "es una suma, y la respuesta es siempre la misma.\n",
    "Además, si escribimos como respuesta algo que no sea un número entero, el programa falla.\n",
    "\n",
    "Por eso, vamos a escribir un nuevo programa con datos variables. \n",
    "\n",
    "Para eso vamos a usar una función que forma parte\n",
    "de un package o paquete escrito en python.\n",
    "\n",
    "Las funciones de Python pueden dividirse en dos tipos: las que están incorporadas en el núcleo de python, y que siempre están disponibles para ser usadas (como **type** o **print**) y aquellas funciones que están definidas en módulos y paquetes (packages) adicionales y que solo están disponibles cuando se las importa empleando una instrucción **import**"
   ]
  },
  {
   "cell_type": "code",
   "execution_count": null,
   "metadata": {
    "collapsed": true,
    "jupyter": {
     "outputs_hidden": true
    }
   },
   "outputs": [],
   "source": [
    "from random import randint \n",
    "# Importamos random, o sea le informamos a python que vamos a \n",
    "# usar la función randint incluido en random\n",
    "# Mas adelante profundizaremos mas en distintas librerías"
   ]
  },
  {
   "cell_type": "code",
   "execution_count": null,
   "metadata": {},
   "outputs": [],
   "source": [
    "# Usamos la función randint incluida en random para obtener dos números aleatorios entre 0 y 100\n",
    "a = randint(0, 100) \n",
    "b = randint(0, 100)\n",
    "a, b"
   ]
  },
  {
   "cell_type": "code",
   "execution_count": null,
   "metadata": {
    "collapsed": true,
    "jupyter": {
     "outputs_hidden": true
    }
   },
   "outputs": [],
   "source": [
    "# También podemos escribir\n",
    "import random"
   ]
  },
  {
   "cell_type": "code",
   "execution_count": null,
   "metadata": {},
   "outputs": [],
   "source": [
    "# si usamos import random, necesitamos acceder a randint\n",
    "# de la siguiente forma\n",
    "a = random.randint(0, 100)\n",
    "b = random.randint(0, 100)\n",
    "a, b"
   ]
  },
  {
   "cell_type": "code",
   "execution_count": null,
   "metadata": {
    "tags": []
   },
   "outputs": [],
   "source": [
    "# Repetimos 5 veces\n",
    "for k in range(5):\n",
    "    a = random.randint(0, 100)\n",
    "    b = random.randint(0, 100)\n",
    "    print(f'{k:d}| ', a, '-', b)"
   ]
  },
  {
   "cell_type": "code",
   "execution_count": null,
   "metadata": {
    "tags": []
   },
   "outputs": [],
   "source": [
    "# Inicializamos contadores\n",
    "bien = mal = 0\n",
    "\n",
    "while True: # Repetimos siempre, como paramos?\n",
    "    # Elegimos dos números aleatorios\n",
    "    a = random.randint(0, 100)\n",
    "    b = random.randint(0, 100)\n",
    "    c = a + b\n",
    "    # Preguntamos por el resultado\n",
    "    print(f'{a:d} + {b:d} = ?')\n",
    "    # Leemos la respuesta del usuario como cadena de caracteres\n",
    "    texto = input()\n",
    "    # Convertimos texto a respuesta (número entero)\n",
    "    respuesta = int(texto)\n",
    "    # Verificamos si la respuesta es correcta:\n",
    "    if respuesta == c:\n",
    "        print('Respuesta correcta')\n",
    "        bien += 1 # Contamos una respuesta correcta\n",
    "    else:\n",
    "        print('Respuesta incorrecta.')\n",
    "        print(f'    Su respuesta fue {respuesta:d}.', end=' ')\n",
    "        print(f'La respuesta correcta es {c:d}')\n",
    "        mal += 1 # Contamos una respuesta incorrecta\n",
    "    # Mostramos contadores\n",
    "    print(f'  correctas {bien:d}', end=' ')\n",
    "    print(f'incorrectas {mal:d}')"
   ]
  },
  {
   "cell_type": "markdown",
   "metadata": {},
   "source": [
    "## Excepciones de Python\n",
    "Una forma de interrumpir el ciclo infinito de la celda anterior es usando la interrupción de ejecución en Google Colab que aparece como opción en el menú (ver **Runtime** o **Entorno de ejecución**), arriba del cuaderno.\n",
    "Como resultado de esto, vemos que se imprime la traza de una excepción de Python (en este caso **KeyboardInterrupt**), que interrumpe la ejecución del programa\n",
    "A continuación veremos como manejar estas excepciones para que modifiquen la ejecución, pero en una forma controlada empleando **try...except...else...finally**"
   ]
  },
  {
   "cell_type": "markdown",
   "metadata": {},
   "source": [
    "### Versión modificada"
   ]
  },
  {
   "cell_type": "code",
   "execution_count": null,
   "metadata": {},
   "outputs": [],
   "source": [
    "# Inicializamos contadores\n",
    "bien = mal = 0\n",
    "\n",
    "try: # Esto es para manejar casos excepcionales\n",
    "    while True: # Repetimos siempre, como paramos?\n",
    "        # Elegimos dos números aleatorios\n",
    "        a = random.randint(0, 100)\n",
    "        b = random.randint(0, 100)\n",
    "        c = a + b\n",
    "        # Preguntamos por el resultado\n",
    "        print(f'{a:d} + {b:d} = ?')\n",
    "        # Leemos la respuesta del usuario como cadena de caracteres\n",
    "        texto = input()\n",
    "        # Convertimos texto a respuesta (número entero)\n",
    "        try:\n",
    "            respuesta = int(texto)\n",
    "        except ValueError: # Esto es una excepción\n",
    "            print('Respuesta incorrecta.')            \n",
    "            print('  Su respuesta no es un número')\n",
    "            mal += 1 # Contamos una respuesta incorrecta\n",
    "        else: # Si todo esta bien se ejecuta esto\n",
    "            # Verificamos si la respuesta es correcta:\n",
    "            if respuesta == c:\n",
    "                print('Respuesta correcta')\n",
    "                bien += 1 # Contamos una respuesta correcta\n",
    "            else:\n",
    "                print('Respuesta incorrecta.')\n",
    "                print(f'    Su respuesta fue {respuesta:d}.', end=' ')\n",
    "                print(f'La respuesta correcta es {c:d}')\n",
    "                mal += 1 # Contamos una respuesta incorrecta\n",
    "        finally:\n",
    "            # Mostramos contadores\n",
    "            print(f'  correctas {bien:d}', end=' ')\n",
    "            print(f'incorrectas {mal:d}')\n",
    "except KeyboardInterrupt: # Como generamos una interrupción por teclado????\n",
    "    print('Paramos!!!')"
   ]
  },
  {
   "cell_type": "markdown",
   "metadata": {},
   "source": [
    "## Cuarto programa\n",
    "Hagamos un programa que imprima una tabla de valores numéricos.\n",
    "\n",
    "\n",
    "\n",
    "\n",
    "\n",
    "|  k  |  x     |  y        |\n",
    "| --- | ------ | --------- |\n",
    "|  0  |  0.04  | 0.00002   |\n",
    "|  1  |  0.05  | 0.00000   |\n",
    "|  2  |  0.06  | -0.00002  |\n",
    "|  3  |  0.07  | -0.00004  | \n",
    "|  4  |  0.08  | -0.00006  | \n",
    "\n",
    "\n",
    "\n",
    "\n",
    "Podemos ver que\n",
    "   **x = m_x * k + b_x**\n",
    "   **y = m_y * x + b_y**\n",
    "donde\n",
    "**m_x = 0.01    \n",
    "  b_x = 0.04    \n",
    "  m_y = -0.002  \n",
    "  b_y = 0.0001**\n",
    "y \n",
    "  **0 <= k < 5**"
   ]
  },
  {
   "cell_type": "code",
   "execution_count": null,
   "metadata": {},
   "outputs": [],
   "source": [
    "m_x = 0.01    \n",
    "b_x = 0.04    \n",
    "m_y = -0.002  \n",
    "b_y = 0.0001  \n",
    "print('k     x        y')\n",
    "for k in range(5):\n",
    "    x = m_x * k + b_x\n",
    "    y = m_y * x + b_y\n",
    "    resultado = f'{k:<3d}{x:0.2f} {y:8.5f}'\n",
    "    print(resultado)"
   ]
  },
  {
   "cell_type": "code",
   "execution_count": 1,
   "metadata": {},
   "outputs": [
    {
     "data": {
      "text/plain": [
       "56"
      ]
     },
     "execution_count": 1,
     "metadata": {},
     "output_type": "execute_result"
    }
   ],
   "source": [
    "int('56')"
   ]
  },
  {
   "cell_type": "code",
   "execution_count": 2,
   "metadata": {},
   "outputs": [
    {
     "ename": "ValueError",
     "evalue": "invalid literal for int() with base 10: 'a'",
     "output_type": "error",
     "traceback": [
      "\u001b[0;31m---------------------------------------------------------------------------\u001b[0m",
      "\u001b[0;31mValueError\u001b[0m                                Traceback (most recent call last)",
      "\u001b[0;32m<ipython-input-2-233884bacd4e>\u001b[0m in \u001b[0;36m<module>\u001b[0;34m\u001b[0m\n\u001b[0;32m----> 1\u001b[0;31m \u001b[0mint\u001b[0m\u001b[0;34m(\u001b[0m\u001b[0;34m'a'\u001b[0m\u001b[0;34m)\u001b[0m\u001b[0;34m\u001b[0m\u001b[0;34m\u001b[0m\u001b[0m\n\u001b[0m",
      "\u001b[0;31mValueError\u001b[0m: invalid literal for int() with base 10: 'a'"
     ]
    }
   ],
   "source": [
    "int('a')"
   ]
  },
  {
   "cell_type": "code",
   "execution_count": 3,
   "metadata": {},
   "outputs": [
    {
     "name": "stdin",
     "output_type": "stream",
     "text": [
      " 67\n"
     ]
    }
   ],
   "source": [
    "entrada = input()"
   ]
  },
  {
   "cell_type": "code",
   "execution_count": 4,
   "metadata": {},
   "outputs": [
    {
     "data": {
      "text/plain": [
       "67"
      ]
     },
     "execution_count": 4,
     "metadata": {},
     "output_type": "execute_result"
    }
   ],
   "source": [
    "int(entrada)"
   ]
  },
  {
   "cell_type": "code",
   "execution_count": 5,
   "metadata": {},
   "outputs": [
    {
     "data": {
      "text/plain": [
       "str"
      ]
     },
     "execution_count": 5,
     "metadata": {},
     "output_type": "execute_result"
    }
   ],
   "source": [
    "type(entrada)"
   ]
  },
  {
   "cell_type": "code",
   "execution_count": 7,
   "metadata": {},
   "outputs": [
    {
     "ename": "AssertionError",
     "evalue": "",
     "output_type": "error",
     "traceback": [
      "\u001b[0;31m---------------------------------------------------------------------------\u001b[0m",
      "\u001b[0;31mAssertionError\u001b[0m                            Traceback (most recent call last)",
      "\u001b[0;32m<ipython-input-7-e5302b4d04eb>\u001b[0m in \u001b[0;36m<module>\u001b[0;34m\u001b[0m\n\u001b[0;32m----> 1\u001b[0;31m \u001b[0;32massert\u001b[0m\u001b[0;34m(\u001b[0m\u001b[0mtype\u001b[0m\u001b[0;34m(\u001b[0m\u001b[0mentrada\u001b[0m\u001b[0;34m)\u001b[0m \u001b[0;34m==\u001b[0m \u001b[0mint\u001b[0m\u001b[0;34m)\u001b[0m\u001b[0;34m\u001b[0m\u001b[0;34m\u001b[0m\u001b[0m\n\u001b[0m",
      "\u001b[0;31mAssertionError\u001b[0m: "
     ]
    }
   ],
   "source": [
    "assert(type(entrada) == int)"
   ]
  },
  {
   "cell_type": "code",
   "execution_count": null,
   "metadata": {},
   "outputs": [],
   "source": [
    "string entrada = 'a'"
   ]
  }
 ],
 "metadata": {
  "kernelspec": {
   "display_name": "Python 3",
   "language": "python",
   "name": "python3"
  },
  "language_info": {
   "codemirror_mode": {
    "name": "ipython",
    "version": 3
   },
   "file_extension": ".py",
   "mimetype": "text/x-python",
   "name": "python",
   "nbconvert_exporter": "python",
   "pygments_lexer": "ipython3",
   "version": "3.8.5"
  }
 },
 "nbformat": 4,
 "nbformat_minor": 4
}
