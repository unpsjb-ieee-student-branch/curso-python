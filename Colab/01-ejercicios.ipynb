{
 "cells": [
  {
   "cell_type": "markdown",
   "metadata": {
    "id": "KMO3_tWlvN0I"
   },
   "source": [
    "# Ejercicios"
   ]
  },
  {
   "cell_type": "markdown",
   "metadata": {
    "id": "GWu7A0WUvN0K"
   },
   "source": [
    "1. En estos ejercicios, debemos reemplazar el carácter '_' por una constante que haga que el resultado de cada celda tenga el valor True\n",
    "\n",
    "2. En cada ejercicio, agregar como comentario el tipo de la constante con la que se reemplaza el carácter '_'\n",
    "\n",
    "3. Para ejecutar cada celda, presionar Mayúscula + Entrada (Shift + Enter)\n",
    "\n",
    "4. Al final del cuaderno, agregar una celda markdown con un título 'Datos personales' con las letras más grandes posibles y datos personales (nombre y apellido, dni, fecha de nacimiento) con subtítulos adecuados. Los datos no tienen que ser verdaderos."
   ]
  },
  {
   "cell_type": "code",
   "execution_count": null,
   "metadata": {
    "id": "M7PMAWAtvN0L"
   },
   "outputs": [],
   "source": [
    "type(_) == int"
   ]
  },
  {
   "cell_type": "code",
   "execution_count": null,
   "metadata": {
    "id": "CVs4n8zuvN0P"
   },
   "outputs": [],
   "source": [
    "type(_) == float"
   ]
  },
  {
   "cell_type": "code",
   "execution_count": null,
   "metadata": {
    "id": "GB7o2wxJvN0T"
   },
   "outputs": [],
   "source": [
    "type(_) == str"
   ]
  },
  {
   "cell_type": "code",
   "execution_count": null,
   "metadata": {
    "id": "TLElUUAQvN0W"
   },
   "outputs": [],
   "source": [
    "type(_) == bool"
   ]
  },
  {
   "cell_type": "code",
   "execution_count": null,
   "metadata": {
    "id": "VIQky6tdvN0Y"
   },
   "outputs": [],
   "source": [
    "type((6, 7, 'a')) == tuple"
   ]
  },
  {
   "cell_type": "code",
   "execution_count": null,
   "metadata": {},
   "outputs": [],
   "source": [
    "esto_es_una_tupla = (6, 7, 'a')"
   ]
  },
  {
   "cell_type": "code",
   "execution_count": null,
   "metadata": {
    "id": "ldne5v3XvN0c"
   },
   "outputs": [],
   "source": [
    "type([6, 7, 'a']) == list"
   ]
  },
  {
   "cell_type": "code",
   "execution_count": null,
   "metadata": {},
   "outputs": [],
   "source": [
    "esto_es_una_lista = [6, 7, 'a']"
   ]
  },
  {
   "cell_type": "code",
   "execution_count": null,
   "metadata": {},
   "outputs": [],
   "source": [
    "esto_es_una_tupla[2] = 'b'"
   ]
  },
  {
   "cell_type": "code",
   "execution_count": null,
   "metadata": {},
   "outputs": [],
   "source": [
    "esto_es_una_lista[2] = 'b'\n",
    "esto_es_una_lista"
   ]
  },
  {
   "cell_type": "code",
   "execution_count": null,
   "metadata": {
    "id": "JT8KJTJKvN0f"
   },
   "outputs": [],
   "source": [
    "(1 > 0) == (2 == _)"
   ]
  },
  {
   "cell_type": "code",
   "execution_count": null,
   "metadata": {
    "id": "8wAWON5R1ISP"
   },
   "outputs": [],
   "source": [
    "type(3 / 2) == _"
   ]
  },
  {
   "cell_type": "code",
   "execution_count": null,
   "metadata": {
    "id": "QtQcnBLU1MW_"
   },
   "outputs": [],
   "source": [
    "type(3 // 2) == _"
   ]
  },
  {
   "cell_type": "code",
   "execution_count": null,
   "metadata": {
    "id": "TUCWEjfk1Qq5"
   },
   "outputs": [],
   "source": [
    "(3 // 2) == _"
   ]
  },
  {
   "cell_type": "code",
   "execution_count": null,
   "metadata": {
    "id": "6EyH8rZTvN0i"
   },
   "outputs": [],
   "source": [
    "entrada = input(\"Ingrese un numero entero\")\n",
    "numero = int(entrada)\n",
    "\n",
    "if(_):                            # Modificar esta linea  \n",
    "    print(f\"{numero:d} es impar\")\n",
    "else:\n",
    "    print(f\"{numero:d} es impar\")"
   ]
  },
  {
   "cell_type": "code",
   "execution_count": null,
   "metadata": {
    "id": "fiC53q6hvN0k"
   },
   "outputs": [],
   "source": [
    "_ = None\n",
    "entrada = input(\"Ingrese un número entero que será el límite inferior\")\n",
    "assert(type(entrada) == _) # Modificar esta línea\n",
    "limite_inferior = int(entrada)\n",
    "entrada = input(\"Ingrese un número entero que será el límite superior\")\n",
    "assert(type(entrada) == _) # Modificar esta línea\n",
    "limite_superior = int(entrada)\n",
    "if (_):  # Modificar esta linea\n",
    "    mensaje = f'Error: {limite_inferior:d} > {limite_superior:d}'\n",
    "    raise ValueError(mensaje)\n",
    "entrada = input(\"Ingrese un número entero\")\n",
    "numero = int(entrada)\n",
    "while (limite_inferior <= numero <= limite_superior):\n",
    "    mensaje = f'{limite_inferior:d} <= {numero:d} <= {limite_superior:d}'\n",
    "    print(mensaje)\n",
    "    entrada = input(\"Ingrese un número entero\")\n",
    "    numero = int(entrada)"
   ]
  },
  {
   "cell_type": "code",
   "execution_count": null,
   "metadata": {
    "id": "yWSflQzgvN0m"
   },
   "outputs": [],
   "source": [
    "for x in range(_):   # Modificar esta linea\n",
    "    print(x)\n",
    "    y = x\n",
    "y == 3"
   ]
  },
  {
   "cell_type": "code",
   "execution_count": null,
   "metadata": {
    "id": "yeFmaZyGvN0p"
   },
   "outputs": [],
   "source": [
    "counter = 0\n",
    "for k in range(_):   # Modificar esta linea\n",
    "    counter += k\n",
    "counter == 6"
   ]
  },
  {
   "cell_type": "code",
   "execution_count": null,
   "metadata": {
    "id": "NV4iWg8zvN0r"
   },
   "outputs": [],
   "source": [
    "suma = 0\n",
    "N = ___                 # Modificar esta linea\n",
    "for i in range(N):\n",
    "    suma += i\n",
    "suma == 10 * 9 / 2 # N * (N - 1) / 2"
   ]
  },
  {
   "cell_type": "code",
   "execution_count": null,
   "metadata": {
    "id": "0s0YUVF2vN0t"
   },
   "outputs": [],
   "source": [
    "for i in range(_):\n",
    "    if i % 2 == 0: # Por favor, averiguar que hace la operación %\n",
    "        print(i)\n",
    "i == 9\n"
   ]
  },
  {
   "cell_type": "code",
   "execution_count": null,
   "metadata": {
    "id": "NnkpCESAvN0v"
   },
   "outputs": [],
   "source": [
    "suma = 0\n",
    "for i in range(10):\n",
    "    suma += i\n",
    "    print(i)"
   ]
  },
  {
   "cell_type": "code",
   "execution_count": null,
   "metadata": {},
   "outputs": [],
   "source": [
    "suma"
   ]
  },
  {
   "cell_type": "code",
   "execution_count": null,
   "metadata": {},
   "outputs": [],
   "source": [
    "sumb = 0\n",
    "j = 0\n",
    "while j < 10:    # Modificar esta linea\n",
    "    sumb += j"
   ]
  },
  {
   "cell_type": "code",
   "execution_count": null,
   "metadata": {},
   "outputs": [],
   "source": [
    "sumb"
   ]
  },
  {
   "cell_type": "code",
   "execution_count": null,
   "metadata": {},
   "outputs": [],
   "source": [
    "suma == sumb"
   ]
  },
  {
   "cell_type": "code",
   "execution_count": null,
   "metadata": {},
   "outputs": [],
   "source": []
  }
 ],
 "metadata": {
  "colab": {
   "name": "Copy of 01-ejercicios.ipynb",
   "provenance": []
  },
  "kernelspec": {
   "display_name": "Python 3",
   "language": "python",
   "name": "python3"
  },
  "language_info": {
   "codemirror_mode": {
    "name": "ipython",
    "version": 3
   },
   "file_extension": ".py",
   "mimetype": "text/x-python",
   "name": "python",
   "nbconvert_exporter": "python",
   "pygments_lexer": "ipython3",
   "version": "3.8.5"
  }
 },
 "nbformat": 4,
 "nbformat_minor": 4
}
