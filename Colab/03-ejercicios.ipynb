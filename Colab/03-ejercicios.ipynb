{
 "cells": [
  {
   "cell_type": "markdown",
   "metadata": {},
   "source": [
    "# Funciones\n",
    "\n",
    "En este cuaderno vamos a escribir funciones de distintos tipos. En distintas celdas, indicadas por un título \"Ejercicio XX\" van a encontrar comentarios indicando los datos que cada función recibe, y que resultados debería entregar. \n",
    "\n",
    "Al final del cuaderno van a encontrar funciones ya definidas que van a verificar si los ejercicios están correctamente resueltos."
   ]
  },
  {
   "cell_type": "markdown",
   "metadata": {},
   "source": [
    "## Ejercicio 1\n",
    "\n",
    "Definir una función ejercicio_1 que reciba un número entero no negativo n y devuelva una lista de los números pares entre 0 y n, incluyendo el número n\n",
    "\n",
    "Por ejemplo, \n",
    "    \n",
    "    a = ejercicio_1(6)\n",
    "    \n",
    "    assert(a == [0, 2, 4, 6])\n",
    "    \n",
    "    b = ejercicio_2(9)\n",
    "    \n",
    "    assert(b == [0, 2, 4, 6, 8])"
   ]
  },
  {
   "cell_type": "raw",
   "metadata": {},
   "source": [
    "## Ejercicio 2\n",
    "\n",
    "a) Definir dos funciones p(x, d) y dp(x) donde\n",
    "\n",
    "    p(x) = x*x*x - d\n",
    "    \n",
    "    q(x) = 3 * x * x\n",
    "    \n",
    "b) Definir una función ejercicio_2\n",
    "\n",
    "   tarea(x, d) = x - p(x, d) / q(x)"
   ]
  },
  {
   "cell_type": "code",
   "execution_count": 3,
   "metadata": {},
   "outputs": [],
   "source": [
    "def p(x, d):\n",
    "    return x * x * x - d\n",
    "\n",
    "def q(x):\n",
    "    return 3 * x * x\n",
    "\n",
    "def calculo(x, d):\n",
    "    return x - p(x, d) / q(x)"
   ]
  },
  {
   "cell_type": "markdown",
   "metadata": {},
   "source": [
    "## Ejercicio 3\n",
    "\n",
    "1. Reemplazar las lineas marcadas con # imprimiendo x0 y x1 con 12 decimales y 2 enteros. Vea el ejemplo abajo.\n",
    "2. Emplear el código de esta celda para definir una función ejercicio_3 que acepte como parámetros d y x0 y retorne x1\n",
    "3. Emplear la función assert para evitar que el ciclo while se ejecute más de 10 veces: en otras palabras, puede suceder que la iteración no converja suficientemente rápido y que abs(x1 - x0) sea mayor que 0.01 aún cuando el ciclo while se ejecute más de 10 veces. La función assert debe detectar este problema e interrumpir la ejecución. ¿Qué modificación debe hacer al código para logra esto?\n",
    "\n",
    "Ejemplo de impresión\n",
    "\n",
    "x0 1.000000000000 x1 3.333333333333\n",
    "x0 3.333333333333 x1 2.462222222222\n",
    "x0 2.462222222222 x1 2.081341247672\n",
    "x0 2.081341247672 x1 2.003137499141\n",
    "x0 2.003137499141 x1 2.000004911676"
   ]
  },
  {
   "cell_type": "code",
   "execution_count": 12,
   "metadata": {},
   "outputs": [
    {
     "name": "stdout",
     "output_type": "stream",
     "text": [
      "x0 1.000000000000 x1 3.333333333333\n",
      "x0 3.333333333333 x1 2.462222222222\n",
      "x0 2.462222222222 x1 2.081341247672\n",
      "x0 2.081341247672 x1 2.003137499141\n",
      "x0 2.003137499141 x1 2.000004911676\n"
     ]
    }
   ],
   "source": [
    "d = 8\n",
    "x0 = 1\n",
    "x1 = calculo(x0, d)\n",
    "# \n",
    "while (abs(x1 - x0) > 0.01):\n",
    "    x0 = x1\n",
    "    x1 = calculo(x0, d)\n",
    "    # "
   ]
  },
  {
   "cell_type": "code",
   "execution_count": null,
   "metadata": {},
   "outputs": [],
   "source": [
    "## Ejercicio 4\n",
    "\n",
    "Con los resultados e4_1, e4_2, e4_3\n",
    "\n",
    "1. e4_1 = ejercicio_3(8, 4)\n",
    "2. e4_2 = ejercicio_3(27, 12)\n",
    "3. e4_3 = ejercicio_3(64, 32)\n",
    "\n",
    "armar una lista ejercicio_4"
   ]
  }
 ],
 "metadata": {
  "kernelspec": {
   "display_name": "Python 3",
   "language": "python",
   "name": "python3"
  },
  "language_info": {
   "codemirror_mode": {
    "name": "ipython",
    "version": 3
   },
   "file_extension": ".py",
   "mimetype": "text/x-python",
   "name": "python",
   "nbconvert_exporter": "python",
   "pygments_lexer": "ipython3",
   "version": "3.8.6"
  }
 },
 "nbformat": 4,
 "nbformat_minor": 4
}
