{
 "cells": [
  {
   "cell_type": "code",
   "execution_count": null,
   "metadata": {},
   "outputs": [],
   "source": [
    "lista_vacia = []\n",
    "assert(len(lista_vacia), __) # Modificar esta línea"
   ]
  },
  {
   "cell_type": "code",
   "execution_count": null,
   "metadata": {},
   "outputs": [],
   "source": [
    "letras = []\n",
    "letras[0:_] = ['a', 'b', 'c'] # Modificar esta línea\n",
    "assert(letras == __) # Modificar esta línea\n",
    "assert(len(letras) == __) # Modificar esta línea"
   ]
  },
  {
   "cell_type": "code",
   "execution_count": null,
   "metadata": {},
   "outputs": [],
   "source": [
    "numeros = __             # Modificar esta línea\n",
    "assert(numeros[0] == -4)\n",
    "assert(numeros[1] == -2)\n",
    "assert(numeros[11] == 18)"
   ]
  },
  {
   "cell_type": "code",
   "execution_count": null,
   "metadata": {},
   "outputs": [],
   "source": [
    "cuadratica = [n**2 + 3 * n + 4 for n in numeros if not (n % 3)]\n",
    "assert(len(cuadratica) == __)     # Modificar esta línea"
   ]
  },
  {
   "cell_type": "code",
   "execution_count": null,
   "metadata": {},
   "outputs": [],
   "source": [
    "datos = [-4, 5, -3, 4, 2, 1, -2]\n",
    "datos.sort(reverse=True)\n",
    "assert(datos == __) # Modificar esta línea"
   ]
  },
  {
   "cell_type": "code",
   "execution_count": null,
   "metadata": {},
   "outputs": [],
   "source": [
    "nombres = ['Zoe', 'Xavier', 'Tamara', 'Elías', 'Juan']\n",
    "assert(nombres[0] == __)     # Modificar esta línea\n",
    "assert(nombres[1] == __)     # Modificar esta línea\n",
    "assert(nombres[-1] == __)    # Modificar esta línea\n",
    "assert(nombres[-2] == __)    # Modificar esta línea\n",
    "assert(['Elías', 'Juan', 'Tamara', 'Xavier', 'Zoe'] == __)\n",
    "assert(nombres[0:2] == __)   # Modificar esta línea\n",
    "assert(nombres[-3:-1] == __) # Modificar esta línea\n",
    "nombres.append('Elsa')\n",
    "nombres.append('Carlos')\n",
    "assert(nombres[-1] == __)    # Modificar esta línea\n",
    "n = nombres.pop()\n",
    "assert(nombres[-1] == __)    # Modificar esta línea\n",
    "assert(n == __)              # Modificar esta línea"
   ]
  },
  {
   "cell_type": "code",
   "execution_count": null,
   "metadata": {},
   "outputs": [],
   "source": [
    "nombres.sort()\n",
    "assert(nombres[-3:-1] == __) # Modificar esta línea"
   ]
  },
  {
   "cell_type": "code",
   "execution_count": null,
   "metadata": {},
   "outputs": [],
   "source": [
    "# Atención!\n",
    "# Modificar esta celda y la siguiente y comparar sus resultados\n",
    "\n",
    "objetivo = [1, 1, 2, 3, 5, 8, 13]\n",
    "a = __    # Modificar esta línea\n",
    "b = __    # Modificar esta línea\n",
    "uno = [a, b]\n",
    "while len(uno) < len(objetivo):\n",
    "    c = __   # Modificar esta línea\n",
    "    a = b\n",
    "    b = c\n",
    "    uno.append(c)\n",
    "assert(uno == objetivo)\n",
    "print(uno)"
   ]
  },
  {
   "cell_type": "code",
   "execution_count": null,
   "metadata": {},
   "outputs": [],
   "source": [
    "objetivo = [1, 1, 2, 3, 5, 8, 13]\n",
    "a = __ # Modificar esta línea\n",
    "b = __ # Modificar esta línea\n",
    "dos = [a, b]\n",
    "while len(dos) < len(objetivo):\n",
    "    a, b = b, __ # Modificar esta línea\n",
    "    dos.append(b)\n",
    "assert(dos == objetivo)\n",
    "print(dos)\n",
    "assert(uno == dos)"
   ]
  },
  {
   "cell_type": "code",
   "execution_count": null,
   "metadata": {},
   "outputs": [],
   "source": [
    "a = 1\n",
    "b = 2\n",
    "c = 3\n",
    "a, b, c = b, a + b, b + c\n",
    "assert((a, b, c) == __) # Modificar esta línea\n",
    "resultado = (a, b, c)\n",
    "assert(type(resultado) == __) # Modificar esta línea"
   ]
  },
  {
   "cell_type": "code",
   "execution_count": null,
   "metadata": {},
   "outputs": [],
   "source": [
    "print('a', ord('a'), chr(ord('a')))\n",
    "print('b', ord('b'), chr(ord('b')))\n",
    "print('d', ord('c'), chr(ord('c')))\n",
    "print('z', ord('z'), chr(ord('z')))\n",
    "numeros = [n for n in range(ord('a'), __)] # Modificar esta línea\n",
    "letras = [chr(n) for n in numeros]\n",
    "diccionario = dict(__)           # Modificar esta línea\n",
    "assert(diccionario['a'] == 97)\n",
    "assert(diccionario['z'] == 121)"
   ]
  },
  {
   "cell_type": "code",
   "execution_count": 17,
   "metadata": {},
   "outputs": [],
   "source": [
    "inicio = __ # Modificar esta línea\n",
    "fin = __    # Modificar esta línea\n",
    "numeros = [n for n in range(inicio, fin)\n",
    "letras = [chr(n) for n in numeros]\n",
    "codigo = [c for c in letras[-1::-1]]\n",
    "codificador = __ # Modificar esta línea\n",
    "decodificador = __ # Modificar esta línea"
   ]
  },
  {
   "cell_type": "code",
   "execution_count": null,
   "metadata": {},
   "outputs": [],
   "source": [
    "mensaje = 'hola'\n",
    "mensaje_codificado = __      # Modificar esta línea\n",
    "mensaje_decodificado = __    # Modificar esta línea\n",
    "assert(mensaje == mensaje_decodificado)"
   ]
  }
 ],
 "metadata": {
  "kernelspec": {
   "display_name": "Python 3",
   "language": "python",
   "name": "python3"
  },
  "language_info": {
   "codemirror_mode": {
    "name": "ipython",
    "version": 3
   },
   "file_extension": ".py",
   "mimetype": "text/x-python",
   "name": "python",
   "nbconvert_exporter": "python",
   "pygments_lexer": "ipython3",
   "version": "3.8.5"
  }
 },
 "nbformat": 4,
 "nbformat_minor": 4
}