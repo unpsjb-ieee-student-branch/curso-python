{
 "cells": [
  {
   "cell_type": "markdown",
   "metadata": {
    "id": "SroIZA_LRsh3"
   },
   "source": [
    "# Archivos\n",
    "\n",
    "Los datos de nuestros programas \"viven\" en variables (partes de la memoria RAM, con un identificador y un tipo) durante la ejecución de un programa, pero también es necesario guardar datos en estructuras permanentes, que sobrevivan a las corridas de los programas y nos permitan intercambiar información con otras personas.\n",
    "Para esto podemos usar variables de cierto tipo, que nos permiten leer o escribir datos en los archivos de un dispositivo de almacenamiento de datos. Llamamos archivos (files, en inglés) a las variables abusando del término.\n",
    "\n",
    "Para entender que tipo de variable es un archivo, o file, tenemos que comprender que Python es un lenguaje de programación donde constantes, variables, funciones, módulos y paquetes son objetos. ¿Qué es un objeto? Podemos comenzar diciendo que un objeto es la asociación entre unos datos (atributos) y el código necesario (métodos) para operar sobre los datos o atributos.\n",
    "\n"
   ]
  },
  {
   "cell_type": "markdown",
   "metadata": {
    "id": "cb0V5B6SaUqI"
   },
   "source": [
    "## Acceso al sistema de archivo de Google Drive\n",
    "\n",
    "Por ahora, vamos a conseguir acceder a los archivos en Google Drive mediante MAGIA, que será debidamente explicada en las clases siguientes en términos de paquetes, módulos, funciones y objetos."
   ]
  },
  {
   "cell_type": "code",
   "execution_count": 3,
   "metadata": {
    "colab": {
     "base_uri": "https://localhost:8080/"
    },
    "id": "LJ5b3s2pazhe",
    "outputId": "39f16935-cb98-47f7-d7b7-4885e38da214"
   },
   "outputs": [
    {
     "name": "stdout",
     "output_type": "stream",
     "text": [
      "Mounted at /content/drive\n"
     ]
    }
   ],
   "source": [
    "# Comienza Magia\n",
    "from google.colab import drive\n",
    "\n",
    "root = '/content/drive'\n",
    "drive.mount(root)\n",
    "path = f'{root:s}/My Drive/Colab Notebooks/'\n",
    "# Termina Magia"
   ]
  },
  {
   "cell_type": "markdown",
   "metadata": {
    "id": "nad5nY0PRsh5"
   },
   "source": [
    "### La función dir\n",
    "\n",
    "Podemos usar la función dir para ver que atributos y métodos tiene un objeto."
   ]
  },
  {
   "cell_type": "code",
   "execution_count": 4,
   "metadata": {
    "colab": {
     "base_uri": "https://localhost:8080/"
    },
    "id": "CpWfcfVnRsh6",
    "outputId": "9b398793-993b-4854-b844-d81ae72b3433"
   },
   "outputs": [
    {
     "data": {
      "text/plain": [
       "['__abs__',\n",
       " '__add__',\n",
       " '__and__',\n",
       " '__bool__',\n",
       " '__ceil__',\n",
       " '__class__',\n",
       " '__delattr__',\n",
       " '__dir__',\n",
       " '__divmod__',\n",
       " '__doc__',\n",
       " '__eq__',\n",
       " '__float__',\n",
       " '__floor__',\n",
       " '__floordiv__',\n",
       " '__format__',\n",
       " '__ge__',\n",
       " '__getattribute__',\n",
       " '__getnewargs__',\n",
       " '__gt__',\n",
       " '__hash__',\n",
       " '__index__',\n",
       " '__init__',\n",
       " '__init_subclass__',\n",
       " '__int__',\n",
       " '__invert__',\n",
       " '__le__',\n",
       " '__lshift__',\n",
       " '__lt__',\n",
       " '__mod__',\n",
       " '__mul__',\n",
       " '__ne__',\n",
       " '__neg__',\n",
       " '__new__',\n",
       " '__or__',\n",
       " '__pos__',\n",
       " '__pow__',\n",
       " '__radd__',\n",
       " '__rand__',\n",
       " '__rdivmod__',\n",
       " '__reduce__',\n",
       " '__reduce_ex__',\n",
       " '__repr__',\n",
       " '__rfloordiv__',\n",
       " '__rlshift__',\n",
       " '__rmod__',\n",
       " '__rmul__',\n",
       " '__ror__',\n",
       " '__round__',\n",
       " '__rpow__',\n",
       " '__rrshift__',\n",
       " '__rshift__',\n",
       " '__rsub__',\n",
       " '__rtruediv__',\n",
       " '__rxor__',\n",
       " '__setattr__',\n",
       " '__sizeof__',\n",
       " '__str__',\n",
       " '__sub__',\n",
       " '__subclasshook__',\n",
       " '__truediv__',\n",
       " '__trunc__',\n",
       " '__xor__',\n",
       " 'bit_length',\n",
       " 'conjugate',\n",
       " 'denominator',\n",
       " 'from_bytes',\n",
       " 'imag',\n",
       " 'numerator',\n",
       " 'real',\n",
       " 'to_bytes']"
      ]
     },
     "execution_count": 4,
     "metadata": {
      "tags": []
     },
     "output_type": "execute_result"
    }
   ],
   "source": [
    "variable = 1\n",
    "dir(variable)"
   ]
  },
  {
   "cell_type": "markdown",
   "metadata": {
    "id": "ml11NcuZRsh-"
   },
   "source": [
    "### La función help\n",
    "\n",
    "La función help nos permite acceder a la documentación disponible en python"
   ]
  },
  {
   "cell_type": "code",
   "execution_count": 5,
   "metadata": {
    "colab": {
     "base_uri": "https://localhost:8080/"
    },
    "id": "6C8dN5vdRsh_",
    "outputId": "3adb6b09-f870-458f-f3ef-e9541cd6e402"
   },
   "outputs": [
    {
     "name": "stdout",
     "output_type": "stream",
     "text": [
      "Help on int object:\n",
      "\n",
      "class int(object)\n",
      " |  int(x=0) -> integer\n",
      " |  int(x, base=10) -> integer\n",
      " |  \n",
      " |  Convert a number or string to an integer, or return 0 if no arguments\n",
      " |  are given.  If x is a number, return x.__int__().  For floating point\n",
      " |  numbers, this truncates towards zero.\n",
      " |  \n",
      " |  If x is not a number or if base is given, then x must be a string,\n",
      " |  bytes, or bytearray instance representing an integer literal in the\n",
      " |  given base.  The literal can be preceded by '+' or '-' and be surrounded\n",
      " |  by whitespace.  The base defaults to 10.  Valid bases are 0 and 2-36.\n",
      " |  Base 0 means to interpret the base from the string as an integer literal.\n",
      " |  >>> int('0b100', base=0)\n",
      " |  4\n",
      " |  \n",
      " |  Methods defined here:\n",
      " |  \n",
      " |  __abs__(self, /)\n",
      " |      abs(self)\n",
      " |  \n",
      " |  __add__(self, value, /)\n",
      " |      Return self+value.\n",
      " |  \n",
      " |  __and__(self, value, /)\n",
      " |      Return self&value.\n",
      " |  \n",
      " |  __bool__(self, /)\n",
      " |      self != 0\n",
      " |  \n",
      " |  __ceil__(...)\n",
      " |      Ceiling of an Integral returns itself.\n",
      " |  \n",
      " |  __divmod__(self, value, /)\n",
      " |      Return divmod(self, value).\n",
      " |  \n",
      " |  __eq__(self, value, /)\n",
      " |      Return self==value.\n",
      " |  \n",
      " |  __float__(self, /)\n",
      " |      float(self)\n",
      " |  \n",
      " |  __floor__(...)\n",
      " |      Flooring an Integral returns itself.\n",
      " |  \n",
      " |  __floordiv__(self, value, /)\n",
      " |      Return self//value.\n",
      " |  \n",
      " |  __format__(...)\n",
      " |      default object formatter\n",
      " |  \n",
      " |  __ge__(self, value, /)\n",
      " |      Return self>=value.\n",
      " |  \n",
      " |  __getattribute__(self, name, /)\n",
      " |      Return getattr(self, name).\n",
      " |  \n",
      " |  __getnewargs__(...)\n",
      " |  \n",
      " |  __gt__(self, value, /)\n",
      " |      Return self>value.\n",
      " |  \n",
      " |  __hash__(self, /)\n",
      " |      Return hash(self).\n",
      " |  \n",
      " |  __index__(self, /)\n",
      " |      Return self converted to an integer, if self is suitable for use as an index into a list.\n",
      " |  \n",
      " |  __int__(self, /)\n",
      " |      int(self)\n",
      " |  \n",
      " |  __invert__(self, /)\n",
      " |      ~self\n",
      " |  \n",
      " |  __le__(self, value, /)\n",
      " |      Return self<=value.\n",
      " |  \n",
      " |  __lshift__(self, value, /)\n",
      " |      Return self<<value.\n",
      " |  \n",
      " |  __lt__(self, value, /)\n",
      " |      Return self<value.\n",
      " |  \n",
      " |  __mod__(self, value, /)\n",
      " |      Return self%value.\n",
      " |  \n",
      " |  __mul__(self, value, /)\n",
      " |      Return self*value.\n",
      " |  \n",
      " |  __ne__(self, value, /)\n",
      " |      Return self!=value.\n",
      " |  \n",
      " |  __neg__(self, /)\n",
      " |      -self\n",
      " |  \n",
      " |  __new__(*args, **kwargs) from builtins.type\n",
      " |      Create and return a new object.  See help(type) for accurate signature.\n",
      " |  \n",
      " |  __or__(self, value, /)\n",
      " |      Return self|value.\n",
      " |  \n",
      " |  __pos__(self, /)\n",
      " |      +self\n",
      " |  \n",
      " |  __pow__(self, value, mod=None, /)\n",
      " |      Return pow(self, value, mod).\n",
      " |  \n",
      " |  __radd__(self, value, /)\n",
      " |      Return value+self.\n",
      " |  \n",
      " |  __rand__(self, value, /)\n",
      " |      Return value&self.\n",
      " |  \n",
      " |  __rdivmod__(self, value, /)\n",
      " |      Return divmod(value, self).\n",
      " |  \n",
      " |  __repr__(self, /)\n",
      " |      Return repr(self).\n",
      " |  \n",
      " |  __rfloordiv__(self, value, /)\n",
      " |      Return value//self.\n",
      " |  \n",
      " |  __rlshift__(self, value, /)\n",
      " |      Return value<<self.\n",
      " |  \n",
      " |  __rmod__(self, value, /)\n",
      " |      Return value%self.\n",
      " |  \n",
      " |  __rmul__(self, value, /)\n",
      " |      Return value*self.\n",
      " |  \n",
      " |  __ror__(self, value, /)\n",
      " |      Return value|self.\n",
      " |  \n",
      " |  __round__(...)\n",
      " |      Rounding an Integral returns itself.\n",
      " |      Rounding with an ndigits argument also returns an integer.\n",
      " |  \n",
      " |  __rpow__(self, value, mod=None, /)\n",
      " |      Return pow(value, self, mod).\n",
      " |  \n",
      " |  __rrshift__(self, value, /)\n",
      " |      Return value>>self.\n",
      " |  \n",
      " |  __rshift__(self, value, /)\n",
      " |      Return self>>value.\n",
      " |  \n",
      " |  __rsub__(self, value, /)\n",
      " |      Return value-self.\n",
      " |  \n",
      " |  __rtruediv__(self, value, /)\n",
      " |      Return value/self.\n",
      " |  \n",
      " |  __rxor__(self, value, /)\n",
      " |      Return value^self.\n",
      " |  \n",
      " |  __sizeof__(...)\n",
      " |      Returns size in memory, in bytes\n",
      " |  \n",
      " |  __str__(self, /)\n",
      " |      Return str(self).\n",
      " |  \n",
      " |  __sub__(self, value, /)\n",
      " |      Return self-value.\n",
      " |  \n",
      " |  __truediv__(self, value, /)\n",
      " |      Return self/value.\n",
      " |  \n",
      " |  __trunc__(...)\n",
      " |      Truncating an Integral returns itself.\n",
      " |  \n",
      " |  __xor__(self, value, /)\n",
      " |      Return self^value.\n",
      " |  \n",
      " |  bit_length(...)\n",
      " |      int.bit_length() -> int\n",
      " |      \n",
      " |      Number of bits necessary to represent self in binary.\n",
      " |      >>> bin(37)\n",
      " |      '0b100101'\n",
      " |      >>> (37).bit_length()\n",
      " |      6\n",
      " |  \n",
      " |  conjugate(...)\n",
      " |      Returns self, the complex conjugate of any int.\n",
      " |  \n",
      " |  from_bytes(...) from builtins.type\n",
      " |      int.from_bytes(bytes, byteorder, *, signed=False) -> int\n",
      " |      \n",
      " |      Return the integer represented by the given array of bytes.\n",
      " |      \n",
      " |      The bytes argument must be a bytes-like object (e.g. bytes or bytearray).\n",
      " |      \n",
      " |      The byteorder argument determines the byte order used to represent the\n",
      " |      integer.  If byteorder is 'big', the most significant byte is at the\n",
      " |      beginning of the byte array.  If byteorder is 'little', the most\n",
      " |      significant byte is at the end of the byte array.  To request the native\n",
      " |      byte order of the host system, use `sys.byteorder' as the byte order value.\n",
      " |      \n",
      " |      The signed keyword-only argument indicates whether two's complement is\n",
      " |      used to represent the integer.\n",
      " |  \n",
      " |  to_bytes(...)\n",
      " |      int.to_bytes(length, byteorder, *, signed=False) -> bytes\n",
      " |      \n",
      " |      Return an array of bytes representing an integer.\n",
      " |      \n",
      " |      The integer is represented using length bytes.  An OverflowError is\n",
      " |      raised if the integer is not representable with the given number of\n",
      " |      bytes.\n",
      " |      \n",
      " |      The byteorder argument determines the byte order used to represent the\n",
      " |      integer.  If byteorder is 'big', the most significant byte is at the\n",
      " |      beginning of the byte array.  If byteorder is 'little', the most\n",
      " |      significant byte is at the end of the byte array.  To request the native\n",
      " |      byte order of the host system, use `sys.byteorder' as the byte order value.\n",
      " |      \n",
      " |      The signed keyword-only argument determines whether two's complement is\n",
      " |      used to represent the integer.  If signed is False and a negative integer\n",
      " |      is given, an OverflowError is raised.\n",
      " |  \n",
      " |  ----------------------------------------------------------------------\n",
      " |  Data descriptors defined here:\n",
      " |  \n",
      " |  denominator\n",
      " |      the denominator of a rational number in lowest terms\n",
      " |  \n",
      " |  imag\n",
      " |      the imaginary part of a complex number\n",
      " |  \n",
      " |  numerator\n",
      " |      the numerator of a rational number in lowest terms\n",
      " |  \n",
      " |  real\n",
      " |      the real part of a complex number\n",
      "\n"
     ]
    }
   ],
   "source": [
    "help(variable)"
   ]
  },
  {
   "cell_type": "markdown",
   "metadata": {
    "id": "zYAYGhIIRsiC"
   },
   "source": [
    "## Uso básico de archivos\n",
    "\n",
    "Los archivos tienen una variable que se \"crea\" empleando la función open.\n",
    "\n",
    "Esta variable es un objeto, que tiene ciertos atributos y métodos que debemos conocer.\n",
    "\n",
    "Por ejemplo, a continuación vamos a crear una variable  asociada a un archivo de texto. El archivo de texto está formado por un texto en el sistema de archivos (generalmente en un disco rígido de una computadora, o en \"la nube\"). El archivo tiene además un nombre que permite ubicarlo en el sistema de archivos, y un modo (lectura 'r', escritura 'w', y otros que veremos más tarde)\n",
    "\n",
    "Si usamos de esta forma la función open para crear un archivo, necesitamos usar el método close para terminar la conexión entre la variable y el sistema de archivos."
   ]
  },
  {
   "cell_type": "markdown",
   "metadata": {
    "id": "yxAFM_R5RsiD"
   },
   "source": [
    "### Archivo de texto modo escritura"
   ]
  },
  {
   "cell_type": "code",
   "execution_count": 17,
   "metadata": {
    "id": "69xBYWFWRsiD"
   },
   "outputs": [],
   "source": [
    "nombre = path + 'ejemplo_archivo_texto.txt'\n",
    "modo = 'w'\n",
    "# Creamos un objeto archivo con la función open\n",
    "variable_archivo = open(nombre, modo) \n",
    "# Escribimos datos en el archivo con el método write\n",
    "variable_archivo.write('Esto es texto\\n')\n",
    "variable_archivo.write('Uno\\n')\n",
    "variable_archivo.write('Dos\\n')\n",
    "variable_archivo.write('Tres\\n')\n",
    "variable_archivo.write('\\n')  # Estos son los caracteres de fin de línea\n",
    "variable_archivo.write('\\n')\n",
    "variable_archivo.write('Final\\n')\n",
    "# Cerramos el archivo con el método close\n",
    "variable_archivo.close()\n",
    "\n",
    "# No podemos abrir el archivo para lectura si antes\n",
    "# no está creado el archivo en el sistema de almacenamiento."
   ]
  },
  {
   "cell_type": "markdown",
   "metadata": {
    "id": "oK5yF5SoW8Qz"
   },
   "source": [
    "### Archivo de texto modo lectura"
   ]
  },
  {
   "cell_type": "code",
   "execution_count": 18,
   "metadata": {
    "id": "8RV-vHIDXEmu"
   },
   "outputs": [],
   "source": [
    "nombre = path + 'ejemplo_archivo_texto.txt'\n",
    "modo = 'r'\n",
    "variable_archivo = open(nombre, modo)"
   ]
  },
  {
   "cell_type": "code",
   "execution_count": 19,
   "metadata": {
    "colab": {
     "base_uri": "https://localhost:8080/"
    },
    "id": "9HhMFvwVRsiG",
    "outputId": "731c4a33-47ab-407f-b1ff-a23033fa09c9"
   },
   "outputs": [
    {
     "name": "stdout",
     "output_type": "stream",
     "text": [
      "Esto es texto\n",
      "Uno\n",
      "Dos\n",
      "Tres\n",
      "\n",
      "\n",
      "Final\n",
      "\n"
     ]
    }
   ],
   "source": [
    "# Leemos el texto\n",
    "#    la información pasa del sistema de archivos \n",
    "#    a una variable de nombre texto y tipo str\n",
    "texto = variable_archivo.read()\n",
    "print(texto)"
   ]
  },
  {
   "cell_type": "code",
   "execution_count": 20,
   "metadata": {
    "colab": {
     "base_uri": "https://localhost:8080/"
    },
    "id": "3zju0N9yRsiJ",
    "outputId": "caf67637-a57b-4c18-b834-7d9aea86cc61"
   },
   "outputs": [
    {
     "data": {
      "text/plain": [
       "('/content/drive/My Drive/Colab Notebooks/ejemplo_archivo_texto.txt',\n",
       " 'r',\n",
       " False)"
      ]
     },
     "execution_count": 20,
     "metadata": {
      "tags": []
     },
     "output_type": "execute_result"
    }
   ],
   "source": [
    "# Podemos acceder a información asociada al archivo y su estado\n",
    "variable_archivo.name, variable_archivo.mode, variable_archivo.closed"
   ]
  },
  {
   "cell_type": "code",
   "execution_count": 21,
   "metadata": {
    "colab": {
     "base_uri": "https://localhost:8080/"
    },
    "id": "mtskvTzhRsiM",
    "outputId": "04d1f204-67f6-47a9-deb5-3662581526d6"
   },
   "outputs": [
    {
     "data": {
      "text/plain": [
       "('/content/drive/My Drive/Colab Notebooks/ejemplo_archivo_texto.txt',\n",
       " 'r',\n",
       " True)"
      ]
     },
     "execution_count": 21,
     "metadata": {
      "tags": []
     },
     "output_type": "execute_result"
    }
   ],
   "source": [
    "# si usamos la función open sin emplear la instrucción 'with open... as' \n",
    "# debemos usar el metodo close\n",
    "variable_archivo.close()\n",
    "variable_archivo.name, variable_archivo.mode, variable_archivo.closed"
   ]
  },
  {
   "cell_type": "markdown",
   "metadata": {
    "id": "vDh30SnmRsiO"
   },
   "source": [
    "### Otra forma de hacer lo mismo, línea por línea"
   ]
  },
  {
   "cell_type": "code",
   "execution_count": 22,
   "metadata": {
    "colab": {
     "base_uri": "https://localhost:8080/"
    },
    "id": "-49dfAxURsiP",
    "outputId": "bb0b2e69-a478-4edb-e5bd-727a3dec1c18"
   },
   "outputs": [
    {
     "name": "stdout",
     "output_type": "stream",
     "text": [
      "Esto es texto\n",
      "\n",
      "Uno\n",
      "\n",
      "Dos\n",
      "\n",
      "Tres\n",
      "\n",
      "\n",
      "\n",
      "\n",
      "\n",
      "Final\n",
      "\n"
     ]
    }
   ],
   "source": [
    "nombre = path + 'ejemplo_archivo_texto.txt'\n",
    "modo = 'r'\n",
    "variable_archivo = open(nombre, modo)\n",
    "# Leemos el texto linea a linea\n",
    "for linea in variable_archivo:\n",
    "    print(linea)\n",
    "variable_archivo.close()"
   ]
  },
  {
   "cell_type": "markdown",
   "metadata": {
    "id": "2heICNL5RsiR"
   },
   "source": [
    "### 'with open... as', sin necesidad de usar el método close"
   ]
  },
  {
   "cell_type": "code",
   "execution_count": 24,
   "metadata": {
    "colab": {
     "base_uri": "https://localhost:8080/"
    },
    "id": "4un8UnyYRsiR",
    "outputId": "a8dde89c-1199-463c-e6d9-7a063b09b52b"
   },
   "outputs": [
    {
     "name": "stdout",
     "output_type": "stream",
     "text": [
      "Esto es texto\n",
      "\n",
      "Uno\n",
      "\n",
      "Dos\n",
      "\n",
      "Tres\n",
      "\n",
      "\n",
      "\n",
      "\n",
      "\n",
      "Final\n",
      "\n"
     ]
    }
   ],
   "source": [
    "nombre = path + 'ejemplo_archivo_texto.txt'\n",
    "modo = 'r'\n",
    "with open(nombre, modo) as variable_archivo:\n",
    "    # Leemos el texto linea a linea\n",
    "    for linea in variable_archivo:\n",
    "        print(linea)"
   ]
  },
  {
   "cell_type": "markdown",
   "metadata": {
    "id": "V6YLEdx1RsiU"
   },
   "source": [
    "### Procesando línea a línea de texto"
   ]
  },
  {
   "cell_type": "code",
   "execution_count": 26,
   "metadata": {
    "colab": {
     "base_uri": "https://localhost:8080/"
    },
    "id": "O8hUv9JJRsiU",
    "outputId": "f19cad70-89be-4777-e16a-32cf5636937d"
   },
   "outputs": [
    {
     "name": "stdout",
     "output_type": "stream",
     "text": [
      "   >>>>>>>Esto es texto\n",
      "   >>>>>>>Uno\n",
      "   >>>>>>>Dos\n",
      "   >>>>>>>Tres\n",
      "   >>>>>>>\n",
      "   >>>>>>>\n",
      "   >>>>>>>Final\n"
     ]
    }
   ],
   "source": [
    "nombre = path + 'ejemplo_archivo_texto.txt'\n",
    "modo = 'r'\n",
    "with open(nombre, modo) as variable_archivo:\n",
    "    # Leemos el texto linea a linea\n",
    "    for linea in variable_archivo:\n",
    "        info = linea[:-1] # descartamos '\\n' salto de línea\n",
    "        partes = info.split(',')\n",
    "        for p in partes:\n",
    "            print(f'   >>>>>>>{p:s}')        "
   ]
  },
  {
   "cell_type": "markdown",
   "metadata": {
    "id": "8JSzk_HmRsiW"
   },
   "source": [
    "### Archivo de texto modo escritura"
   ]
  },
  {
   "cell_type": "code",
   "execution_count": 27,
   "metadata": {
    "id": "8jB_WjS7RsiW"
   },
   "outputs": [],
   "source": [
    "nombre = './ejemplo_archivo_texto_escritura-1.txt'\n",
    "modo = 'w' # MODO ESCRITURA\n",
    "with open(nombre, modo) as variable_archivo:\n",
    "    for k in range(10):\n",
    "        variable_archivo.write('a'+str(k))"
   ]
  },
  {
   "cell_type": "code",
   "execution_count": 28,
   "metadata": {
    "id": "3MVperycRsiZ"
   },
   "outputs": [],
   "source": [
    "nombre = './ejemplo_archivo_texto_escritura-2.txt'\n",
    "modo = 'w' # MODO ESCRITURA\n",
    "with open(nombre, modo) as variable_archivo:\n",
    "    for k in range(10):\n",
    "        variable_archivo.write('a'+str(k)+'\\n')"
   ]
  },
  {
   "cell_type": "markdown",
   "metadata": {
    "id": "_cDzkvLlRsid"
   },
   "source": [
    "## Archivo de texto estructurados\n",
    "\n",
    "Además de los archivos txt, existen otros tipos de archivo de texto con estructuras definidas que pueden ser usadas para intercambio y almacenamiento de datos: csv (comma separated values), json (javascript object notation), yaml (yet another markup language), md (markdown) y rst (restructured text).\n",
    "Cabe aclarar que no son los únicos tipos, sino los que veremos en este curso.\n"
   ]
  },
  {
   "cell_type": "markdown",
   "metadata": {
    "id": "N5fJdjOzRsid"
   },
   "source": [
    "### Archivos csv\n",
    "\n",
    "https://docs.python.org/3/library/csv.html"
   ]
  },
  {
   "cell_type": "code",
   "execution_count": 29,
   "metadata": {
    "id": "j5v0o8TsRsie"
   },
   "outputs": [],
   "source": [
    "import csv"
   ]
  },
  {
   "cell_type": "code",
   "execution_count": 30,
   "metadata": {
    "id": "ngsCgz_TRsig"
   },
   "outputs": [],
   "source": [
    "# Escritura de datos en formato csv\n",
    "\n",
    "q = 3\n",
    "with open(path + 'datos.csv', 'w', newline='') as csvfile:\n",
    "    spamwriter = csv.writer(csvfile, delimiter=' ',\n",
    "                            quotechar='|', quoting=csv.QUOTE_MINIMAL)\n",
    "    spamwriter.writerow(['palabras'] * q + ['punto'])\n",
    "    spamwriter.writerow([f'palabra-{v:<d} ' for v in range(q+1)])"
   ]
  },
  {
   "cell_type": "code",
   "execution_count": 31,
   "metadata": {
    "colab": {
     "base_uri": "https://localhost:8080/"
    },
    "id": "4yIlr7OsRsij",
    "outputId": "a199dae3-8aef-4380-b8d2-4e4224a132aa"
   },
   "outputs": [
    {
     "name": "stdout",
     "output_type": "stream",
     "text": [
      "palabras, palabras, palabras, punto\n",
      "palabra-0 , palabra-1 , palabra-2 , palabra-3 \n"
     ]
    }
   ],
   "source": [
    "# Lectura de datos en formato csv\n",
    "\n",
    "with open(path + 'datos.csv', newline='') as csvfile:\n",
    "    spamreader = csv.reader(csvfile, delimiter=' ', quotechar='|')\n",
    "    for row in spamreader:\n",
    "        print(', '.join(row))"
   ]
  },
  {
   "cell_type": "markdown",
   "metadata": {
    "id": "Ex8kKj2KRsil"
   },
   "source": [
    "### Archivos json\n",
    "\n",
    "https://docs.python.org/3/library/json.html"
   ]
  },
  {
   "cell_type": "code",
   "execution_count": 32,
   "metadata": {
    "id": "jX0YbfXHRsin"
   },
   "outputs": [],
   "source": [
    "import json"
   ]
  },
  {
   "cell_type": "code",
   "execution_count": 33,
   "metadata": {
    "id": "yjmv05uZRsip"
   },
   "outputs": [],
   "source": [
    "compras = [{'producto': 'pejerrey', 'peso': '1.3kg'}, {'producto': 'pollo', 'peso': '2.5kg'}, \n",
    "           {'producto': 'harina', 'peso': '1.0kg'}, {'producto': 'zanahoria', 'peso': '0.8kg'}]\n",
    "precios = [{'producto': 'pejerrey', 'precio': '$150'}, {'producto': 'pollo', 'precio': '$200'},\n",
    "           {'producto': 'harina', 'precio': '$100'}, {'producto': 'zanahoria', 'precio': '$80'}]\n",
    "datos = {'compras': compras, 'precios': precios}"
   ]
  },
  {
   "cell_type": "code",
   "execution_count": 34,
   "metadata": {
    "id": "gqgFJFt7Rsir"
   },
   "outputs": [],
   "source": [
    "nombre = path + 'datos.json'\n",
    "modo = 'w'\n",
    "with open(nombre, modo) as salida:\n",
    "    json.dump(datos, salida)"
   ]
  },
  {
   "cell_type": "code",
   "execution_count": 35,
   "metadata": {
    "id": "JDv550qGRsiu"
   },
   "outputs": [],
   "source": [
    "nombre = path + 'datos.json'\n",
    "modo = 'r'\n",
    "with open(nombre, modo) as entrada:\n",
    "    datos_leidos = json.load(entrada)"
   ]
  },
  {
   "cell_type": "code",
   "execution_count": 36,
   "metadata": {
    "colab": {
     "base_uri": "https://localhost:8080/"
    },
    "id": "5GYV3fMARsiw",
    "outputId": "149ab981-4ba4-49c1-d82e-23d383c5fbd8"
   },
   "outputs": [
    {
     "data": {
      "text/plain": [
       "{'compras': [{'peso': '1.3kg', 'producto': 'pejerrey'},\n",
       "  {'peso': '2.5kg', 'producto': 'pollo'},\n",
       "  {'peso': '1.0kg', 'producto': 'harina'},\n",
       "  {'peso': '0.8kg', 'producto': 'zanahoria'}],\n",
       " 'precios': [{'precio': '$150', 'producto': 'pejerrey'},\n",
       "  {'precio': '$200', 'producto': 'pollo'},\n",
       "  {'precio': '$100', 'producto': 'harina'},\n",
       "  {'precio': '$80', 'producto': 'zanahoria'}]}"
      ]
     },
     "execution_count": 36,
     "metadata": {
      "tags": []
     },
     "output_type": "execute_result"
    }
   ],
   "source": [
    "datos_leidos"
   ]
  },
  {
   "cell_type": "markdown",
   "metadata": {
    "id": "VjVIhIEGRsiz"
   },
   "source": [
    "### Archivos YAML\n",
    "\n",
    "Todo archivo json es un archivo YAML, pero hay archivos YAML que no son json. \n",
    "El formato YAML no está incluido en el lenguaje python, pero puede instalarse un package para leer archivos YAML. Consultar en el enlace http://zetcode.com/python/yaml/"
   ]
  },
  {
   "cell_type": "markdown",
   "metadata": {
    "id": "Zof0QOMVRsiz"
   },
   "source": [
    "### Archivos md, o markdown\n",
    "\n",
    "https://www.markdowntutorial.com/\n",
    "\n",
    "Markdown es un lenguaje de texto para escribir documentación con formato (titulos en negrita, palabras en itálica, negrita, o subrayada, listados enumerados, listados itemizados, etc.)\n",
    "\n",
    "Si bien no hay una librería para escribir directamente información en markdown, nosotros podemos hacer que nuestros programas generen salidas en markdown. Dado que existen procesadores que transforman archivos en markdown a html, esta opción nos permite generar reportes (con imágenes incluidas) que pueden convertirse en una página web en forma automática.\n"
   ]
  },
  {
   "cell_type": "markdown",
   "metadata": {
    "id": "Faz4SvGDRsi0"
   },
   "source": [
    "### Archivos rst, o restructured text\n",
    "\n",
    "Este tipo de archivo es similar a markdown.\n",
    "\n",
    "Ver https://docutils.sourceforge.io/rst.html\n"
   ]
  },
  {
   "cell_type": "markdown",
   "metadata": {
    "id": "Bby_BUL5Rsi0"
   },
   "source": [
    "## Otros tipos de archivos\n",
    "\n",
    "¿Como leer archivos excel? ¿Como leer hojas de cálculo en general?\n",
    "\n",
    "Además de hojas de cálculo, existen otros formatos de archivos para datos que pueden escribirse y leerse con python.\n",
    "\n",
    "Para hojas de cálculo, usaremos Pandas.\n",
    "\n",
    "Buscar librería para h5"
   ]
  },
  {
   "cell_type": "code",
   "execution_count": null,
   "metadata": {
    "id": "ucs3l3cMRsi1"
   },
   "outputs": [],
   "source": []
  }
 ],
 "metadata": {
  "colab": {
   "collapsed_sections": [],
   "name": "Copy of 04-archivos.ipynb",
   "provenance": []
  },
  "kernelspec": {
   "display_name": "Python 3",
   "language": "python",
   "name": "python3"
  },
  "language_info": {
   "codemirror_mode": {
    "name": "ipython",
    "version": 3
   },
   "file_extension": ".py",
   "mimetype": "text/x-python",
   "name": "python",
   "nbconvert_exporter": "python",
   "pygments_lexer": "ipython3",
   "version": "3.8.6"
  }
 },
 "nbformat": 4,
 "nbformat_minor": 1
}
