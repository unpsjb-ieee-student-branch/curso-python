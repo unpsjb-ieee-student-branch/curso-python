{
 "metadata": {
  "language_info": {
   "codemirror_mode": {
    "name": "ipython",
    "version": 3
   },
   "file_extension": ".py",
   "mimetype": "text/x-python",
   "name": "python",
   "nbconvert_exporter": "python",
   "pygments_lexer": "ipython3",
   "version": "3.8.5-final"
  },
  "orig_nbformat": 2,
  "kernelspec": {
   "name": "python_defaultSpec_1599756315306",
   "display_name": "Python 3.8.5 64-bit"
  }
 },
 "nbformat": 4,
 "nbformat_minor": 2,
 "cells": [
  {
   "cell_type": "markdown",
   "metadata": {},
   "source": [
    "# Decodificando la señal de un HC-12\n",
    "Con SigDigger capturamos varias tramas, las cuales se guardan como un stream de 1 y 0\n",
    "\n",
    "Abrimos el archivo y lo almacenamos como un string, luego lo convertimos a una lista, el objetivo es detectar la ocurrencia del preambulo y conocer la posición de cada trama "
   ]
  },
  {
   "cell_type": "code",
   "execution_count": null,
   "metadata": {},
   "outputs": [],
   "source": [
    "file = open('hc12_00.txt', mode='r')\n",
    "entrada = file.read()\n",
    "file.close()"
   ]
  },
  {
   "cell_type": "markdown",
   "metadata": {},
   "source": [
    "Convertimos el string en un vector"
   ]
  },
  {
   "cell_type": "code",
   "execution_count": null,
   "metadata": {},
   "outputs": [],
   "source": [
    "entradaVector=list(map(int,str(entrada)))"
   ]
  },
  {
   "cell_type": "markdown",
   "metadata": {},
   "source": [
    "Buscamos el preámbulo y parte de la palabra de sincronismo, la lista de salida indica la posición donde comienzan las tramas, descartamos los ultimos bits ya que la trama puede estar incompleta."
   ]
  },
  {
   "cell_type": "code",
   "execution_count": null,
   "metadata": {
    "tags": []
   },
   "outputs": [],
   "source": [
    "pattern = [1,0,1,0,1,0,1,0,1,0,1,0,1,0,1,0,1,0,1,0,1,0,1,0,1,0,1,0,1,0,1,0,1,0,1,0,1,0,1,0,1,0,1,0,1,0,1,0,1,0,0,1,0,0]\n",
    "cuantos=[]\n",
    "N=len(pattern)\n",
    "M=len(entradaVector)\n",
    "for i in range(1,M-N,1):\n",
    "    if entradaVector[i:(i+int(len(pattern)))]==pattern:\n",
    "        cuantos.append(i)\n",
    "print(len(cuantos))\n",
    "cuantos.pop()"
   ]
  },
  {
   "cell_type": "markdown",
   "metadata": {},
   "source": [
    "Ubicamos en una matriz de numpy las tramas, de esta forma tenemos una matriz donde todas las tramas están ordenadas, opcionalmente podemos hacer un heatmap binario como en SigDigger. Para continuar con el análisis debemos convertir a hexadecimal para que sea mas facil encontrar patrones visualmente."
   ]
  },
  {
   "cell_type": "code",
   "execution_count": null,
   "metadata": {},
   "outputs": [],
   "source": [
    "import numpy as np\n",
    "# el ancho lo podemos fijar o utilizar una regla, por ej len(cuantos[2])-len(cuantos[3]) es la longitud de cada trama\n",
    "# hasta que ocurre nuevamente el preambulo.\n",
    "ancho = 248\n",
    "salida = np.empty((0,ancho),int)\n",
    "for i in cuantos:\n",
    "    n=int(i)+ancho\n",
    "    out = list(entradaVector[i:n])\n",
    "    salida = np.append(salida,[out],axis=0)"
   ]
  },
  {
   "cell_type": "markdown",
   "metadata": {},
   "source": [
    "Gráfica de un heatmap binario"
   ]
  },
  {
   "cell_type": "code",
   "execution_count": null,
   "metadata": {},
   "outputs": [],
   "source": [
    "import matplotlib.pyplot as plt\n",
    "import matplotlib as mpl\n",
    "\n",
    "fig,ax = plt.subplots()\n",
    "cmap = mpl.colors.ListedColormap(['w','k'])\n",
    "bounds = [0.,0.5,1.]\n",
    "norm = mpl.colors.BoundaryNorm(bounds, cmap.N)\n",
    "ax.imshow(salida, interpolation='none', cmap=cmap, norm=norm)\n",
    "# si queremos exportar la gráfica\n",
    "#plt.savefig('trama_01.png')"
   ]
  },
  {
   "cell_type": "markdown",
   "metadata": {},
   "source": [
    "Guardamos la matriz como un archivo de texto, hasta aqui podríamos tener un script que dado un stream binario devuelva lineas con tramas a decodificar"
   ]
  },
  {
   "cell_type": "code",
   "execution_count": null,
   "metadata": {},
   "outputs": [],
   "source": [
    "np.savetxt(r'hc12_00.bin',salida,fmt='%d',delimiter='')"
   ]
  },
  {
   "cell_type": "markdown",
   "metadata": {},
   "source": [
    "# TODO\n",
    "analisis gráfico usando Binwalk, [Vix](http://actinid.org/vix/) , [Binglide](https://github.com/wapiflapi/binglide), [Veles](https://github.com/codilime/veles), [Cantordust](https://github.com/Battelle/cantordust)"
   ]
  },
  {
   "cell_type": "markdown",
   "metadata": {},
   "source": [
    "# Convirtiendo a hexadecimal las tramas\n",
    "Abrimos el archivo de salida anterior"
   ]
  },
  {
   "cell_type": "code",
   "execution_count": null,
   "metadata": {},
   "outputs": [],
   "source": [
    "with open('hc12_00.bin', 'r') as file:\n",
    "    data2 = file.read().splitlines()\n",
    "file.close()"
   ]
  },
  {
   "cell_type": "markdown",
   "metadata": {},
   "source": [
    "Convirtiendo un string binario a un string hexadecimal"
   ]
  },
  {
   "cell_type": "code",
   "execution_count": null,
   "metadata": {},
   "outputs": [],
   "source": [
    "hex(int(data2[0],2))[2:]"
   ]
  },
  {
   "cell_type": "markdown",
   "metadata": {},
   "source": [
    "Usemos esto para convertir todo a hex"
   ]
  },
  {
   "cell_type": "code",
   "execution_count": null,
   "metadata": {
    "tags": []
   },
   "outputs": [],
   "source": [
    "data2hex = []\n",
    "for i in range(len(data2)):\n",
    "    data2hex.append(hex(int(data2[i],2))[2:])\n",
    "# podría verse mas bonito con un f-string\n",
    "# print(data2hex)\n",
    "\n",
    "for i in range(1,10):\n",
    "    print(f'{data2hex[1]}')\n"
   ]
  },
  {
   "cell_type": "code",
   "execution_count": null,
   "metadata": {
    "tags": []
   },
   "outputs": [],
   "source": [
    "a=\"preambulo\"\n",
    "b=\"sync?\"\n",
    "c=\"data\"\n",
    "d=\"crc?\"\n",
    "print(f' {a:^12} | {b:^8} | {c:^36} | {d:^6}')\n",
    "for i in range(1,10):\n",
    "    print(f\"{data2hex[i][1:12]} | {data2hex[i][12:20]} | {data2hex[i][20:56]} | {data2hex[i][56:-3]}\")"
   ]
  },
  {
   "cell_type": "markdown",
   "metadata": {},
   "source": [
    "# Capturando una sola trama"
   ]
  },
  {
   "cell_type": "code",
   "execution_count": null,
   "metadata": {
    "tags": []
   },
   "outputs": [],
   "source": [
    "raw = 0b101010101010101010101010101010101010101010101010100100011001000110011111101100000011110011011100110011101011110001000101001001010010101000110010111111010111110010011101100100110010100101001111110101011101101101101011110111011001\n",
    "rawbin=hex(int(raw))[2:]\n",
    "\n",
    "print(f\"{rawbin[1:12]} | {rawbin[12:20]} | {rawbin[20:56]} | {rawbin[56:]}\")"
   ]
  },
  {
   "cell_type": "markdown",
   "metadata": {},
   "source": [
    "La suma exclusiva entre el payload y la llave devuelve el mensaje original"
   ]
  },
  {
   "cell_type": "code",
   "execution_count": null,
   "metadata": {},
   "outputs": [],
   "source": [
    "hex(0x3cdccebc45252a32fd7c9d93294fd5db6bdd ^ 0x59b7a1cc24575e4b9c0ee9ea502abeb41bb6)"
   ]
  },
  {
   "cell_type": "code",
   "execution_count": null,
   "metadata": {},
   "outputs": [],
   "source": [
    "chr(0x3c^0x59)+chr(0xdc^0xb7)+chr(0xce^0xa1)"
   ]
  },
  {
   "cell_type": "markdown",
   "metadata": {},
   "source": [
    "#                           DEMO"
   ]
  },
  {
   "cell_type": "code",
   "execution_count": 180,
   "metadata": {},
   "outputs": [],
   "source": [
    "import serial\n",
    "ser = serial.Serial('/dev/ttyUSB0', 9600, timeout=0.5)\n",
    "ser.write(\" eko16 pwndemic \".encode())\n",
    "ser.close()"
   ]
  },
  {
   "cell_type": "code",
   "execution_count": 181,
   "metadata": {
    "tags": []
   },
   "outputs": [
    {
     "output_type": "stream",
     "name": "stdout",
     "text": "b' eko16 pwndemic \\xbaK'\n"
    }
   ],
   "source": [
    "def change_to_be_hex(str):\n",
    "    return int(str,base=16)\n",
    "\n",
    "def xor_two_str(str1,str2):\n",
    "    a = change_to_be_hex(str1)\n",
    "    b = change_to_be_hex(str2)\n",
    "    return hex(a ^ b)\n",
    "\n",
    "msg_raw=[]\n",
    "with open('demo.txt', 'r') as file:\n",
    "    msg_raw = file.read()\n",
    "file.close()\n",
    "key=\"59b7a1cc24575e4b9c0ee9ea502abeb41bb6\"\n",
    "msg = hex(int(msg_raw[:-(len(msg_raw)%8)],2))[22:(22+len(key))]\n",
    "xor_msg_key=xor_two_str(msg,key)[2:]\n",
    "bytes_object = bytes.fromhex(xor_msg_key)\n",
    "print(bytes_object)\n",
    "#ascii_string = bytes_object.decode(\"ASCII\")\n",
    "#print(ascii_string)\n"
   ]
  },
  {
   "cell_type": "code",
   "execution_count": null,
   "metadata": {},
   "outputs": [],
   "source": []
  },
  {
   "cell_type": "code",
   "execution_count": null,
   "metadata": {},
   "outputs": [],
   "source": []
  },
  {
   "cell_type": "code",
   "execution_count": null,
   "metadata": {},
   "outputs": [],
   "source": []
  },
  {
   "cell_type": "code",
   "execution_count": null,
   "metadata": {},
   "outputs": [],
   "source": []
  },
  {
   "cell_type": "code",
   "execution_count": null,
   "metadata": {},
   "outputs": [],
   "source": []
  },
  {
   "cell_type": "markdown",
   "metadata": {},
   "source": [
    "# TODO\n",
    "* probar denegación de servicio con payloads que puedan confundir al packet handler\n",
    "* script para generar los payloads"
   ]
  },
  {
   "cell_type": "markdown",
   "metadata": {},
   "source": [
    "Los payload pueden ser tal que envien constantemente 0xaa 0x00 y 0xff"
   ]
  },
  {
   "cell_type": "code",
   "execution_count": null,
   "metadata": {},
   "outputs": [],
   "source": [
    "payload = 16*\"00\"\n",
    "key = 0x59b7a1cc24575e4b9c0ee9ea502abeb41bb6\n",
    "msg=int(\"0x\"+payload,16)\n",
    "hex( msg ^ key)"
   ]
  },
  {
   "cell_type": "code",
   "execution_count": null,
   "metadata": {},
   "outputs": [],
   "source": [
    "payload = 16*\"aa\"\n",
    "key = 0x59b7a1cc24575e4b9c0ee9ea502abeb41bb6\n",
    "msg=int(\"0x\"+payload,16)\n",
    "hex( msg ^ key)"
   ]
  },
  {
   "cell_type": "code",
   "execution_count": null,
   "metadata": {},
   "outputs": [],
   "source": [
    "import serial\n",
    "ser = serial.Serial('/dev/ttyUSB1', 9600, timeout=0.5)\n",
    "#59 b7 a1 cc 24 57 5e 4b 9c 0e e9 ea 50 2a be b4 1b b6\n",
    "command = [b'\\x59',b'\\xb7',b'\\xa1',b'\\xcc',b'\\x24',b'\\x57',b'\\x5e',b'\\x4b',b'\\x9c',b'\\x0e',b'\\xe9',b'\\xea',b'\\x50',b'\\x2a',b'\\xbe',b'\\xb4',b'\\x1b',b'\\xb6']\n",
    "for i in range(len(command)):\n",
    "    ser.write(command[i])\n",
    "ser.close()"
   ]
  }
 ]
}