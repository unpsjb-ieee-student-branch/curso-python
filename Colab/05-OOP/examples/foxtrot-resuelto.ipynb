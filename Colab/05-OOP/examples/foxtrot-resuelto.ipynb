{
 "cells": [
  {
   "cell_type": "markdown",
   "metadata": {},
   "source": [
    "Supongamos que tenemos una librería que tiene la siguiente lista de precios unitarios"
   ]
  },
  {
   "cell_type": "code",
   "execution_count": 21,
   "metadata": {},
   "outputs": [],
   "source": [
    "precios_unitarios_lista = [\n",
    "    'resma a4: $999.99',\n",
    "    'cuaderno cuadriculado 150 hojas: $349.99',\n",
    "    'birome: $110.8',\n",
    "    'folios a4 x 10: $127.6',\n",
    "    'fotocopia blanco y negro:$5',\n",
    "    'fotocopia color:$15.5'\n",
    "]"
   ]
  },
  {
   "cell_type": "markdown",
   "metadata": {},
   "source": [
    "Convirtamos la lista de precios unitarios en un diccionario de precios unitarios"
   ]
  },
  {
   "cell_type": "code",
   "execution_count": 22,
   "metadata": {},
   "outputs": [],
   "source": [
    "precios_unitarios_diccionario = {}\n",
    "for linea in precios_unitarios_lista:\n",
    "    partes = linea.split(':')\n",
    "    prefijo = partes[0]\n",
    "    sufijo = partes[1]\n",
    "    clave = prefijo\n",
    "    posicion_signo_peso = sufijo.find('$')\n",
    "    precios_unitarios_diccionario[clave] = float(sufijo[posicion_signo_peso+1:])"
   ]
  },
  {
   "cell_type": "code",
   "execution_count": null,
   "metadata": {},
   "outputs": [],
   "source": [
    "El diccionario de precios unitarios debe cumplir con la siguiente aserción"
   ]
  },
  {
   "cell_type": "code",
   "execution_count": 28,
   "metadata": {},
   "outputs": [],
   "source": [
    "assert(precios_unitarios_diccionario == {'resma a4': 999.99,\n",
    " 'cuaderno cuadriculado 150 hojas': 349.99,\n",
    " 'birome': 110.8,\n",
    " 'folios a4 x 10': 127.6,\n",
    " 'fotocopia blanco y negro': 5.0,\n",
    " 'fotocopia color': 15.5})"
   ]
  },
  {
   "cell_type": "markdown",
   "metadata": {},
   "source": [
    "Supongamos que tenemos la siguiente lista de ventas"
   ]
  },
  {
   "cell_type": "code",
   "execution_count": 24,
   "metadata": {},
   "outputs": [],
   "source": [
    "ventas = [('resma a4:2', 'folios a4 x 10:4'),\n",
    "           ('cuaderno cuadriculado 150 hojas:1', 'birome:2', 'fotocopia blanco y negro:20', 'resma a4:3') \n",
    "           ]"
   ]
  },
  {
   "cell_type": "markdown",
   "metadata": {},
   "source": [
    "Tenemos que calcular el total de ventas e imprimir lo siguiente:\n",
    "```\n",
    "transaccion    0 - Monto $2510.38\n",
    "  resma a4                           :    2 : $1999.98\n",
    "  folios a4 x 10                     :    4 : $ 510.40\n",
    "======================================================\n",
    "transaccion    1 - Monto $3671.56\n",
    "  cuaderno cuadriculado 150 hojas    :    1 : $ 349.99\n",
    "  birome                             :    2 : $ 221.60\n",
    "  fotocopia blanco y negro           :   20 : $ 100.00\n",
    "  resma a4                           :    3 : $2999.97\n",
    "======================================================\n",
    "Total: $6181.94\n",
    "```"
   ]
  },
  {
   "cell_type": "code",
   "execution_count": 30,
   "metadata": {},
   "outputs": [],
   "source": [
    "def separar_linea(linea):\n",
    "    partes = linea.split(':')\n",
    "    clave = partes[0]\n",
    "    cantidad = int(partes[1])\n",
    "    return clave, cantidad"
   ]
  },
  {
   "cell_type": "code",
   "execution_count": null,
   "metadata": {},
   "outputs": [],
   "source": [
    "datos = 'clave:30'\n",
    "clave, cantidad = separar_linea(datos)\n",
    "assert(clave=='clave')\n",
    "assert(cantidad==30)"
   ]
  },
  {
   "cell_type": "code",
   "execution_count": 31,
   "metadata": {},
   "outputs": [],
   "source": [
    "contabilidad = []\n",
    "total = 0.0\n",
    "for esta_venta in ventas:\n",
    "    monto = 0.0\n",
    "    for linea in esta_venta:\n",
    "        clave, cantidad = separar_linea(linea)\n",
    "        monto += precios_unitarios_diccionario[clave] * cantidad\n",
    "    contabilidad.append((esta_venta, monto))\n",
    "    total += monto"
   ]
  },
  {
   "cell_type": "code",
   "execution_count": 47,
   "metadata": {},
   "outputs": [
    {
     "name": "stdout",
     "output_type": "stream",
     "text": [
      "transaccion    0 - Monto $2510.38\n",
      "  resma a4                           :    2 : $1999.98\n",
      "  folios a4 x 10                     :    4 : $ 510.40\n",
      "======================================================\n",
      "transaccion    1 - Monto $3671.56\n",
      "  cuaderno cuadriculado 150 hojas    :    1 : $ 349.99\n",
      "  birome                             :    2 : $ 221.60\n",
      "  fotocopia blanco y negro           :   20 : $ 100.00\n",
      "  resma a4                           :    3 : $2999.97\n",
      "======================================================\n"
     ]
    }
   ],
   "source": [
    "for k, transaccion in enumerate(contabilidad):\n",
    "    venta, monto = transaccion[0], transaccion[1]\n",
    "    print(f'transaccion {k:>4d} - Monto ${monto:>6.2f}')\n",
    "    for linea in venta:\n",
    "        clave, cantidad = separar_linea(linea)\n",
    "        print(f'  {clave:<35s}: {cantidad:>4d} : ${precios_unitarios_diccionario[clave] * cantidad:>7.2f}')\n",
    "    print('='*54)\n",
    "print(f'Total: ${total:>7.2f}')"
   ]
  },
  {
   "cell_type": "code",
   "execution_count": null,
   "metadata": {},
   "outputs": [],
   "source": []
  }
 ],
 "metadata": {
  "kernelspec": {
   "display_name": "Python 3",
   "language": "python",
   "name": "python3"
  },
  "language_info": {
   "codemirror_mode": {
    "name": "ipython",
    "version": 3
   },
   "file_extension": ".py",
   "mimetype": "text/x-python",
   "name": "python",
   "nbconvert_exporter": "python",
   "pygments_lexer": "ipython3",
   "version": "3.8.6"
  }
 },
 "nbformat": 4,
 "nbformat_minor": 4
}
