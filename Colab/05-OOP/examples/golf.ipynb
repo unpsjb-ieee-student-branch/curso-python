{
 "cells": [
  {
   "cell_type": "markdown",
   "metadata": {},
   "source": [
    "# Exercise\n"
   ]
  },
  {
   "cell_type": "code",
   "execution_count": null,
   "metadata": {},
   "outputs": [],
   "source": [
    "def get_access_to_google_drive():\n",
    "    root = ''\n",
    "    ### Add your code here\n",
    "    ###\n",
    "    return root"
   ]
  },
  {
   "cell_type": "markdown",
   "metadata": {},
   "source": [
    "## How to use modules: json\n",
    "\n",
    "The json module, included in python, allows us to read and write data in [json](https://docs.python.org/3/library/json.html) format.\n",
    "\n",
    "So, we can use json to configure our programs. For example, a json file can contain a list of filenames, or\n",
    "parameters for some calculation."
   ]
  },
  {
   "cell_type": "code",
   "execution_count": 1,
   "metadata": {},
   "outputs": [],
   "source": [
    "import json # We import the json module"
   ]
  },
  {
   "cell_type": "code",
   "execution_count": null,
   "metadata": {},
   "outputs": [],
   "source": [
    "configuration_filename = root + 'config.json'\n",
    "with open(configuration_filename, 'r') as data:\n",
    "    configuration = json.load(data)"
   ]
  }
 ],
 "metadata": {
  "kernelspec": {
   "display_name": "Python 3",
   "language": "python",
   "name": "python3"
  },
  "language_info": {
   "codemirror_mode": {
    "name": "ipython",
    "version": 3
   },
   "file_extension": ".py",
   "mimetype": "text/x-python",
   "name": "python",
   "nbconvert_exporter": "python",
   "pygments_lexer": "ipython3",
   "version": "3.8.6"
  }
 },
 "nbformat": 4,
 "nbformat_minor": 4
}
