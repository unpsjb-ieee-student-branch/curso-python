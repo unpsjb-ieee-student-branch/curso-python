{
 "cells": [
  {
   "cell_type": "markdown",
   "metadata": {},
   "source": [
    "## Imports"
   ]
  },
  {
   "cell_type": "code",
   "execution_count": 1,
   "metadata": {},
   "outputs": [],
   "source": [
    "import csv\n",
    "import json\n",
    "from pathlib import Path\n",
    "import sys\n",
    "\n",
    "import matplotlib.pyplot as plt\n",
    "import numpy as np\n",
    "import pandas as pd"
   ]
  },
  {
   "cell_type": "markdown",
   "metadata": {
    "id": "941yF0ckFvNp"
   },
   "source": [
    "## Filesystem Access"
   ]
  },
  {
   "cell_type": "code",
   "execution_count": 2,
   "metadata": {
    "colab": {
     "base_uri": "https://localhost:8080/"
    },
    "id": "Kv6rv01FFvNq",
    "outputId": "ef010469-097b-473c-a4da-b92358fa7800"
   },
   "outputs": [],
   "source": [
    "def get_filesystem_access():\n",
    "    GOOGLE_COLAB = 'google.colab' in sys.modules\n",
    "\n",
    "    if GOOGLE_COLAB:\n",
    "        # Access google drive\n",
    "        from google.colab import drive\n",
    "  \n",
    "        root = '/content/drive'\n",
    "        drive.mount(root)\n",
    "        path = f'{root:s}/My Drive/Colab Notebooks/'\n",
    "    else:\n",
    "        # Access local drive\n",
    "    \n",
    "        path = Path('~/Data/Notebooks/').expanduser()\n",
    "        path.mkdir(mode=0o700, parents=True, exist_ok=True) # Explain this\n",
    "        path = str(path)\n",
    "        if path[-1] != '/':\n",
    "            # Just avoiding an error\n",
    "            # We need that last '/'\n",
    "            path = path + '/'\n",
    "    return path"
   ]
  },
  {
   "cell_type": "markdown",
   "metadata": {
    "id": "rww2L7rZFvNr"
   },
   "source": [
    "## Configuration"
   ]
  },
  {
   "cell_type": "markdown",
   "metadata": {
    "id": "ML2g_u11FvNs"
   },
   "source": [
    "config is a dictionary stored in a json file\n",
    "\n",
    "    # config example\n",
    "    config['coefficients'] = {'a0': 1.2, 'a1': -1.2, 'a2': 2', 'b1': -1.0}\n",
    "    config['output.dirname'] = 'ex-1'"
   ]
  },
  {
   "cell_type": "code",
   "execution_count": 3,
   "metadata": {
    "id": "uW3V_eqtFvNs"
   },
   "outputs": [],
   "source": [
    "def read_config(config_filename):\n",
    "    config = None\n",
    "    with open(config_filename, 'r') as data:\n",
    "        config = json.load(data)\n",
    "    return config\n",
    "\n",
    "def save_config(config, config_filename):\n",
    "    with open(config_filename, 'w') as data:\n",
    "        json.dump(config, data)\n",
    "        \n",
    "def create_config_example(config_filename):\n",
    "    config = {}\n",
    "    config['coefficients'] = {'a0': 1.2, 'a1': -1.2, 'a2': 2, 'b1': -1.0}\n",
    "    config['output.dirname'] = 'ex-1'\n",
    "    save_config(config, config_filename)"
   ]
  },
  {
   "cell_type": "markdown",
   "metadata": {
    "id": "-I5IV7uLFvNs"
   },
   "source": [
    "## Get parameter values from config"
   ]
  },
  {
   "cell_type": "code",
   "execution_count": 4,
   "metadata": {
    "id": "0V98xtH2FvNs"
   },
   "outputs": [],
   "source": [
    "def get_config_values(config):\n",
    "    coefficients = None\n",
    "    output_dirname = None\n",
    "    try:\n",
    "        coefficients = config['coefficients']\n",
    "    except KeyError:\n",
    "        raise DemoError(f'No coefficients {str(config):s})')\n",
    "    try:\n",
    "        a0 = coefficients['a0']\n",
    "        a1 = coefficients['a1']\n",
    "        a2 = coefficients['a2']\n",
    "        b1 = coefficients['b1']\n",
    "    except KeyError:\n",
    "        raise DemoError(f'Bad coefficients: {str(coefficients):s}')\n",
    "    try:\n",
    "        output_dirname = config['output.dirname']\n",
    "    except KeyError:\n",
    "        raise DemoError(f'No output.dirname')\n",
    "    return a0, a1, a2, b1, output_dirname"
   ]
  },
  {
   "cell_type": "markdown",
   "metadata": {
    "id": "Ysxt2vmoFvNs"
   },
   "source": [
    "We want to evaluate the difference equation\n",
    "\n",
    "    y[n] = a0 * x[n] + a1 * x[n - 1] + a2 * x[n - 2] + b1 * y[n - 1]\n",
    "    \n",
    "with the initial value\n",
    "    \n",
    "    y[0] = 1\n",
    "    \n",
    "and\n",
    "\n",
    "    x[n] = 0 for n < 0\n",
    "    \n",
    "for \n",
    "\n",
    "    0 <= n < 1000\n",
    "    \n",
    "and\n",
    "\n",
    "    x[n] = sin(2 * pi / 20)\n",
    "    \n",
    "The output (the values x[n], y[n], some graphics and a markdown file with the report) must be saved in a directory\n",
    "with dirname equal to config['output.dirname']\n"
   ]
  },
  {
   "cell_type": "code",
   "execution_count": 5,
   "metadata": {
    "id": "VYBHiptaFvNs"
   },
   "outputs": [],
   "source": [
    "def get_n(max_n):\n",
    "    return np.arange(max_n)\n",
    "\n",
    "def get_x(n):\n",
    "    return np.sin(2 * np.pi * n / 20)"
   ]
  },
  {
   "cell_type": "code",
   "execution_count": 6,
   "metadata": {
    "id": "hHZ6Aup4FvNs"
   },
   "outputs": [],
   "source": [
    "def get_y(n, x, a0, a1, a2, b1, y0, max_n):\n",
    "    y = np.zeros_like(x)\n",
    "    n = 0\n",
    "    y[0] = y0\n",
    "    x2 = 0.0   # x[-2] == 0.0\n",
    "    x1 = 0.0   # x[-1] == 0.0\n",
    "    x0 = x[0]  # x[0] == sin(2 * pi * 0 / 20)\n",
    "    for n in np.arange(1, max_n):\n",
    "        x2 = x1\n",
    "        x1 = x0\n",
    "        x0 = x[n]\n",
    "        y[n] = a0 * x0 + a1 * x1 + a2 * x2 + b1 * y[n-1]\n",
    "    return y"
   ]
  },
  {
   "cell_type": "markdown",
   "metadata": {},
   "source": [
    "## Graphics"
   ]
  },
  {
   "cell_type": "code",
   "execution_count": 7,
   "metadata": {},
   "outputs": [],
   "source": [
    "def plot_alpha(n, x, title, filename):\n",
    "    plt.clf()\n",
    "    plt.plot(n, x, ':')\n",
    "    plt.title(title)\n",
    "    plt.xlabel('n')\n",
    "    plt.ylabel('x[n]')\n",
    "    plt.savefig(filename)"
   ]
  },
  {
   "cell_type": "code",
   "execution_count": 8,
   "metadata": {},
   "outputs": [],
   "source": [
    "def plot_bravo(n, y, title, filename):\n",
    "    plt.clf()\n",
    "    plt.plot(n, y, ':')\n",
    "    plt.title(title)\n",
    "    plt.xlabel('n')\n",
    "    plt.ylabel('y[n]')\n",
    "    plt.savefig(filename)"
   ]
  },
  {
   "cell_type": "code",
   "execution_count": 9,
   "metadata": {},
   "outputs": [],
   "source": [
    "def plot_charlie(n, x, y, title, filename, n_0=0, n_1=100):\n",
    "    plt.clf()\n",
    "    plt.plot(n[n_0:n_1], x[n_0:n_1], ':', n[n_0:n_1], y[n_0:n_1], ':')\n",
    "    plt.title(title)\n",
    "    plt.xlabel('n')\n",
    "    plt.ylabel('x[n] | y[n]')\n",
    "    plt.savefig(filename)"
   ]
  },
  {
   "cell_type": "markdown",
   "metadata": {},
   "source": [
    "## Report"
   ]
  },
  {
   "cell_type": "code",
   "execution_count": 10,
   "metadata": {},
   "outputs": [],
   "source": [
    "def generate_report(output_dir, n, x, y):\n",
    "    report_filename = Path(output_dir, 'report.md') # Markdown file\n",
    "    alpha_filename = str(Path(output_dir, 'alpha.png'))\n",
    "    bravo_filename = str(Path(output_dir, 'bravo.png'))\n",
    "    charlie_filename = str(Path(output_dir, 'charlie.png'))\n",
    "    plot_alpha(n, x, 'Input', alpha_filename)\n",
    "    plot_bravo(n, y, 'Output', bravo_filename)\n",
    "    plot_charlie(n, x, y, 'Input | Output', charlie_filename)\n",
    "    newline = '\\n'\n",
    "    with open(report_filename, 'w') as report:\n",
    "        report.write('# Report: discrete time dynamical system simulation' + newline)\n",
    "        report.write(newline)\n",
    "        report.write('## Figures' + newline)\n",
    "        report.write(newline)\n",
    "        report.write(f'![Alpha]({alpha_filename:s})' + newline)\n",
    "        report.write(newline)\n",
    "        report.write(f'![Bravo]({bravo_filename:s})' + newline)\n",
    "        report.write(newline)\n",
    "        report.write(f'![Charlie]({charlie_filename:s})' + newline)"
   ]
  },
  {
   "cell_type": "markdown",
   "metadata": {},
   "source": [
    "## CSV Files"
   ]
  },
  {
   "cell_type": "code",
   "execution_count": 11,
   "metadata": {},
   "outputs": [],
   "source": [
    "def write_csv_nxy(csv_filename, n, x, y):\n",
    "    newline = '\\n'\n",
    "    headers = ['n', 'x', 'y']\n",
    "    with open(csv_filename, 'w') as csv_file:\n",
    "        line = ','.join(headers) + newline\n",
    "        csv_file.write(line)\n",
    "        for k in range(max_n):\n",
    "            values = [n[k], x[k], y[k]]\n",
    "            line = ','.join([str(v) for v in values]) + newline\n",
    "            csv_file.write(line)\n",
    "    "
   ]
  },
  {
   "cell_type": "code",
   "execution_count": 12,
   "metadata": {},
   "outputs": [],
   "source": [
    "def read_csv(csv_filename):\n",
    "    with open(csv_filename, newline=newline, mode='r') as csv_file:\n",
    "        spamreader = csv.reader(csv_file, delimiter=',')\n",
    "        for row in spamreader:\n",
    "            print(', '.join(row))"
   ]
  },
  {
   "cell_type": "markdown",
   "metadata": {},
   "source": [
    "## Main program"
   ]
  },
  {
   "cell_type": "code",
   "execution_count": 13,
   "metadata": {},
   "outputs": [],
   "source": [
    "# Where can we read and write data?\n",
    "path = get_filesystem_access()  "
   ]
  },
  {
   "cell_type": "code",
   "execution_count": 14,
   "metadata": {
    "id": "JzO3W0OsFvNs"
   },
   "outputs": [],
   "source": [
    "# Where is the config file?\n",
    "config_filename = path + 'config.json'\n",
    "\n",
    "# Hack: I don't want to create the config file manually.\n",
    "# So, I include this line of code\n",
    "create_config_example(config_filename)\n",
    "# /Hack"
   ]
  },
  {
   "cell_type": "code",
   "execution_count": 15,
   "metadata": {
    "id": "D6fY4r0IFvNt"
   },
   "outputs": [],
   "source": [
    "# Read config file and store in config; type(config) == dict\n",
    "config = read_config(config_filename)\n",
    "\n",
    "assert(type(config) == dict)\n",
    "\n",
    "# Convert config to variables\n",
    "a0, a1, a2, b1, output_dirname = get_config_values(config)\n",
    "max_n = 1000\n",
    "n = get_n(max_n)\n",
    "x = get_x(n)\n",
    "y0 = 1.0"
   ]
  },
  {
   "cell_type": "code",
   "execution_count": 16,
   "metadata": {},
   "outputs": [],
   "source": [
    "# Here we do some calculations \n",
    "y = get_y(n, x, a0, a1, a2, b1, y0, max_n)"
   ]
  },
  {
   "cell_type": "markdown",
   "metadata": {},
   "source": [
    "## Report and data files"
   ]
  },
  {
   "cell_type": "code",
   "execution_count": 17,
   "metadata": {
    "colab": {
     "base_uri": "https://localhost:8080/"
    },
    "id": "9Axl0eLBFvNw",
    "outputId": "94f293c4-939e-45ba-dc06-eb7b71b9294e"
   },
   "outputs": [
    {
     "name": "stdout",
     "output_type": "stream",
     "text": [
      "output_dir /home/dberns/Data/Notebooks/ex-1\n",
      "csv_filename /home/dberns/Data/Notebooks/ex-1/demo.csv\n"
     ]
    }
   ],
   "source": [
    "output_dir = Path(path, output_dirname)\n",
    "output_dir.mkdir(mode=0o700, parents=True, exist_ok=True) # Explain this\n",
    "print('output_dir', output_dir)\n",
    "\n",
    "csv_filename = Path(output_dir, 'demo.csv')\n",
    "\n",
    "print('csv_filename', csv_filename)"
   ]
  },
  {
   "cell_type": "code",
   "execution_count": 18,
   "metadata": {},
   "outputs": [
    {
     "data": {
      "image/png": "[encoded data removed]",
      "text/plain": [
       "<Figure size 432x288 with 1 Axes>"
      ]
     },
     "metadata": {
      "needs_background": "light"
     },
     "output_type": "display_data"
    }
   ],
   "source": [
    "generate_report(output_dir, n, x, y)"
   ]
  },
  {
   "cell_type": "code",
   "execution_count": 20,
   "metadata": {},
   "outputs": [],
   "source": [
    "write_csv_nxy(csv_filename, n, x, y)"
   ]
  },
  {
   "cell_type": "code",
   "execution_count": 21,
   "metadata": {
    "id": "eiq4zqqrFvN0"
   },
   "outputs": [
    {
     "data": {
      "text/html": [
       "<div>\n",
       "<style scoped>\n",
       "    .dataframe tbody tr th:only-of-type {\n",
       "        vertical-align: middle;\n",
       "    }\n",
       "\n",
       "    .dataframe tbody tr th {\n",
       "        vertical-align: top;\n",
       "    }\n",
       "\n",
       "    .dataframe thead th {\n",
       "        text-align: right;\n",
       "    }\n",
       "</style>\n",
       "<table border=\"1\" class=\"dataframe\">\n",
       "  <thead>\n",
       "    <tr style=\"text-align: right;\">\n",
       "      <th></th>\n",
       "      <th>n</th>\n",
       "      <th>x</th>\n",
       "      <th>y</th>\n",
       "    </tr>\n",
       "  </thead>\n",
       "  <tbody>\n",
       "    <tr>\n",
       "      <th>0</th>\n",
       "      <td>0</td>\n",
       "      <td>0.000000</td>\n",
       "      <td>1.000000</td>\n",
       "    </tr>\n",
       "    <tr>\n",
       "      <th>1</th>\n",
       "      <td>1</td>\n",
       "      <td>0.309017</td>\n",
       "      <td>-0.629180</td>\n",
       "    </tr>\n",
       "    <tr>\n",
       "      <th>2</th>\n",
       "      <td>2</td>\n",
       "      <td>0.587785</td>\n",
       "      <td>0.963702</td>\n",
       "    </tr>\n",
       "    <tr>\n",
       "      <th>3</th>\n",
       "      <td>3</td>\n",
       "      <td>0.809017</td>\n",
       "      <td>-0.080189</td>\n",
       "    </tr>\n",
       "    <tr>\n",
       "      <th>4</th>\n",
       "      <td>4</td>\n",
       "      <td>0.951057</td>\n",
       "      <td>1.426207</td>\n",
       "    </tr>\n",
       "    <tr>\n",
       "      <th>...</th>\n",
       "      <td>...</td>\n",
       "      <td>...</td>\n",
       "      <td>...</td>\n",
       "    </tr>\n",
       "    <tr>\n",
       "      <th>995</th>\n",
       "      <td>995</td>\n",
       "      <td>-1.000000</td>\n",
       "      <td>-1.553667</td>\n",
       "    </tr>\n",
       "    <tr>\n",
       "      <th>996</th>\n",
       "      <td>996</td>\n",
       "      <td>-0.951057</td>\n",
       "      <td>-0.289714</td>\n",
       "    </tr>\n",
       "    <tr>\n",
       "      <th>997</th>\n",
       "      <td>997</td>\n",
       "      <td>-0.809017</td>\n",
       "      <td>-1.539839</td>\n",
       "    </tr>\n",
       "    <tr>\n",
       "      <th>998</th>\n",
       "      <td>998</td>\n",
       "      <td>-0.587785</td>\n",
       "      <td>-0.096796</td>\n",
       "    </tr>\n",
       "    <tr>\n",
       "      <th>999</th>\n",
       "      <td>999</td>\n",
       "      <td>-0.309017</td>\n",
       "      <td>-1.186716</td>\n",
       "    </tr>\n",
       "  </tbody>\n",
       "</table>\n",
       "<p>1000 rows × 3 columns</p>\n",
       "</div>"
      ],
      "text/plain": [
       "       n         x         y\n",
       "0      0  0.000000  1.000000\n",
       "1      1  0.309017 -0.629180\n",
       "2      2  0.587785  0.963702\n",
       "3      3  0.809017 -0.080189\n",
       "4      4  0.951057  1.426207\n",
       "..   ...       ...       ...\n",
       "995  995 -1.000000 -1.553667\n",
       "996  996 -0.951057 -0.289714\n",
       "997  997 -0.809017 -1.539839\n",
       "998  998 -0.587785 -0.096796\n",
       "999  999 -0.309017 -1.186716\n",
       "\n",
       "[1000 rows x 3 columns]"
      ]
     },
     "execution_count": 21,
     "metadata": {},
     "output_type": "execute_result"
    }
   ],
   "source": [
    "# Using pandas for read csv file\n",
    "dataframe = pd.read_csv(csv_filename)\n",
    "dataframe"
   ]
  },
  {
   "cell_type": "code",
   "execution_count": null,
   "metadata": {},
   "outputs": [],
   "source": []
  }
 ],
 "metadata": {
  "colab": {
   "name": "12-demo-1.ipynb",
   "provenance": []
  },
  "kernelspec": {
   "display_name": "Python 3",
   "language": "python",
   "name": "python3"
  },
  "language_info": {
   "codemirror_mode": {
    "name": "ipython",
    "version": 3
   },
   "file_extension": ".py",
   "mimetype": "text/x-python",
   "name": "python",
   "nbconvert_exporter": "python",
   "pygments_lexer": "ipython3",
   "version": "3.8.6"
  }
 },
 "nbformat": 4,
 "nbformat_minor": 1
}
