{
  "nbformat": 4,
  "nbformat_minor": 0,
  "metadata": {
    "colab": {
      "name": "Evaluacion.ipynb",
      "provenance": [],
      "collapsed_sections": []
    },
    "kernelspec": {
      "name": "python3",
      "display_name": "Python 3"
    }
  },
  "cells": [
    {
      "cell_type": "markdown",
      "metadata": {
        "id": "Kw9oLJHPg3qs"
      },
      "source": [
        "## Triangle project"
      ]
    },
    {
      "cell_type": "code",
      "metadata": {
        "id": "PhKmDVRqhEqS"
      },
      "source": [
        "def triangle(a, b, c):\n",
        "  \"\"\"Triangle analyzes the lengths of the sides of a triangle\n",
        "     (represented by a, b and c) and returns the type of triangle.\n",
        "      It returns:\n",
        "        'equilateral'  if all sides are equal\n",
        "        'isosceles'    if exactly 2 sides are equal\n",
        "        'scalene'      if no sides are equal\n",
        "  \"\"\"\n",
        "  # DELETE 'PASS' AND WRITE YOUR CODE\n",
        "  pass\n",
        "\n",
        "class TriangleError(Exception):\n",
        "  pass\n"
      ],
      "execution_count": null,
      "outputs": []
    },
    {
      "cell_type": "code",
      "metadata": {
        "id": "NYL4XrephtRn"
      },
      "source": [
        "assert('equilateral' == triangle(2, 2, 2))\n",
        "assert('equilateral' == triangle(10, 10, 10))\n",
        "assert('isosceles' == triangle(3, 4, 4))\n",
        "assert('isosceles' == triangle(4, 3, 4))\n",
        "assert('isosceles' == triangle(4, 4, 3))\n",
        "assert('isosceles' == triangle(10, 10, 2))\n",
        "assert('scalene' == triangle(3, 4, 5))\n",
        "assert('scalene' == triangle(10, 11, 12))\n",
        "assert('scalene' == triangle(5, 4, 2))"
      ],
      "execution_count": null,
      "outputs": []
    },
    {
      "cell_type": "code",
      "metadata": {
        "id": "XaUDlBYDkTaJ"
      },
      "source": [
        "count = 0\n",
        "try:\n",
        "  var = triangle(1.0, 0, 0)\n",
        "except TriangleError:\n",
        "  count += 1\n",
        "try:\n",
        "  var = triangle(1, 1, 7)\n",
        "except TriangleError:\n",
        "  count += 1\n",
        "try:\n",
        "  var = triangle(1, 7, 1)\n",
        "except TriangleError:\n",
        "  count += 1\n",
        "try:\n",
        "  var = triangle(7, 1, 1)\n",
        "except TriangleError:\n",
        "  count += 1\n",
        "try:\n",
        "  var = triangle(0, 0, 0)\n",
        "except TriangleError:\n",
        "  count += 1\n",
        "try:\n",
        "  var = triangle(1, 1, -1)\n",
        "except TriangleError:\n",
        "  count += 1\n",
        "try:\n",
        "  var = triangle(1, 1, 5)\n",
        "except TriangleError:\n",
        "  count += 1\n",
        "assert(count == 7)"
      ],
      "execution_count": null,
      "outputs": []
    },
    {
      "cell_type": "markdown",
      "metadata": {
        "id": "7jDBcY8hzTXQ"
      },
      "source": [
        "## Dice project"
      ]
    },
    {
      "cell_type": "code",
      "metadata": {
        "id": "g7_nzeEun7YN"
      },
      "source": [
        "import random\n",
        "\n",
        "class DiceSet:\n",
        "    def __init__(self):\n",
        "        self._values = None\n",
        "\n",
        "    @property\n",
        "    def values(self):\n",
        "      return self._values\n",
        "\n",
        "    @values.setter\n",
        "    def values(self, new_values):\n",
        "      self._values = new_values\n",
        "  \n",
        "    def roll(self, n):\n",
        "        # Needs implementing!\n",
        "        # Tip: random.randint(min, max) can be used to generate random numbers\n",
        "        # Write your code here"
      ],
      "execution_count": null,
      "outputs": []
    },
    {
      "cell_type": "code",
      "metadata": {
        "id": "uPly1Ey_rJFH"
      },
      "source": [
        "dice = DiceSet()\n",
        "assert(dice)"
      ],
      "execution_count": null,
      "outputs": []
    },
    {
      "cell_type": "code",
      "metadata": {
        "id": "9Ojm_mJ3rPCR"
      },
      "source": [
        "dice = DiceSet()\n",
        "\n",
        "dice.roll(5)\n",
        "if not isinstance(dice.values, list):\n",
        "  raise Exception(\"should be a list\")\n",
        "assert(5 == len(dice.values))\n",
        "for value in dice.values:\n",
        "    if 1 <= value <= 6:\n",
        "      continue\n",
        "    raise Exception(f\"value {str(value):s} must be between 1 and 6\")\n"
      ],
      "execution_count": null,
      "outputs": []
    },
    {
      "cell_type": "code",
      "metadata": {
        "id": "HCfB350qsrNp"
      },
      "source": [
        "dice = DiceSet()\n",
        "dice.roll(5)\n",
        "first_time = dice.values\n",
        "second_time = dice.values\n",
        "assert(first_time == second_time)\n"
      ],
      "execution_count": null,
      "outputs": []
    },
    {
      "cell_type": "code",
      "metadata": {
        "id": "ANoyNADruLVQ"
      },
      "source": [
        "dice = DiceSet()\n",
        "dice.roll(5)\n",
        "first_time = dice.values\n",
        "dice.roll(5)\n",
        "second_time = dice.values\n",
        "assert(first_time != second_time)\n",
        "# THINK ABOUT IT:\n",
        "#\n",
        "# If the rolls are random, then it is possible (although not\n",
        "# likely) that two consecutive rolls are equal.  What would be a\n",
        "# better way to test this?\n"
      ],
      "execution_count": null,
      "outputs": []
    },
    {
      "cell_type": "code",
      "metadata": {
        "id": "jTjaies5uiOg"
      },
      "source": [
        "dice = DiceSet()\n",
        "dice.roll(3)\n",
        "assert(3 == len(dice.values))\n",
        "dice.roll(1)\n",
        "assert(1 == len(dice.values))"
      ],
      "execution_count": null,
      "outputs": []
    },
    {
      "cell_type": "markdown",
      "metadata": {
        "id": "awiBPYUTzbOn"
      },
      "source": [
        "## Greed Project"
      ]
    },
    {
      "cell_type": "code",
      "metadata": {
        "id": "lYXYWPiNw3O1"
      },
      "source": [
        "# Greed is a dice game where you roll up to five dice to accumulate\n",
        "# points.  The following \"score\" function will be used calculate the\n",
        "# score of a single roll of the dice.\n",
        "#\n",
        "# A greed roll is scored as follows:\n",
        "#\n",
        "# * A set of three ones is 1000 points\n",
        "#\n",
        "# * A set of three numbers (other than ones) is worth 100 times the\n",
        "#   number. (e.g. three fives is 500 points).\n",
        "#\n",
        "# * A one (that is not part of a set of three) is worth 100 points.\n",
        "#\n",
        "# * A five (that is not part of a set of three) is worth 50 points.\n",
        "#\n",
        "# * Everything else is worth 0 points.\n",
        "#\n",
        "#\n",
        "# Examples:\n",
        "#\n",
        "# score([1,1,1,5,1]) => 1150 points\n",
        "# score([2,3,4,6,2]) => 0 points\n",
        "# score([3,4,5,3,3]) => 350 points\n",
        "# score([1,5,1,2,4]) => 250 points\n",
        "#\n",
        "# More scoring examples are given in the tests below:\n",
        "#\n",
        "# Your goal is to write the score method.\n",
        "\n",
        "def score(dice):\n",
        "    # You need to write this method\n",
        "    pass\n"
      ],
      "execution_count": null,
      "outputs": []
    },
    {
      "cell_type": "code",
      "metadata": {
        "id": "pjpnWjXmxPee"
      },
      "source": [
        "assert(0 == score([])\n",
        "assert(50 == score([5]))\n",
        "assert(100 == score([1]))\n",
        "assert(300 == score([1,5,5,1]))\n",
        "assert(0 == score([2,3,4,6]))\n",
        "assert(1000 == score([1,1,1]))\n",
        "assert(200 == score([2,2,2]))\n",
        "assert(300 == score([3,3,3]))\n",
        "assert(400 == score([4,4,4]))\n",
        "assert(500 == score([5,5,5]))\n",
        "assert(600 == score([6,6,6]))\n",
        "assert(250 == score([2,5,2,2,3]))\n",
        "assert(550 == score([5,5,5,5]))\n",
        "assert(1150 == score([1,1,1,5,1]))\n",
        "assert(300 == score([1,2,2,2]))\n",
        "assert(350 == score([1,5,2,2,2]))"
      ],
      "execution_count": null,
      "outputs": []
    }
  ]
}