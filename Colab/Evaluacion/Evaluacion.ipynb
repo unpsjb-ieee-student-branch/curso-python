{
  "nbformat": 4,
  "nbformat_minor": 0,
  "metadata": {
    "colab": {
      "name": "Evaluacion.ipynb",
      "provenance": [],
      "collapsed_sections": []
    },
    "kernelspec": {
      "name": "python3",
      "display_name": "Python 3.7.3 32-bit",
      "metadata": {
        "interpreter": {
          "hash": "ca585555a2867b459a38eaf8b2b47956aef7a6f770e52f1f5dfa1f8f05e57688"
        }
      }
    }
  },
  "cells": [
    {
      "cell_type": "markdown",
      "metadata": {
        "id": "Kw9oLJHPg3qs"
      },
      "source": [
        "# Triangle project\n",
        "Este ejercicio debe pasar dos sets de pruebas, el primero de ellos verificará si la función puede clasificar triángulos, mientras que el otro set evalúa la robustez ante triangulos ilegales."
      ]
    },
    {
      "cell_type": "code",
      "metadata": {
        "id": "PhKmDVRqhEqS"
      },
      "source": [
        "def triangle(a, b, c):\n",
        "  \"\"\"Triangle es una funcion que analiza las longitudes de los lados de un triángulo\n",
        "  (representados por a, b y c) y devuelve el tipo de triangulo.\n",
        "      La salida es:\n",
        "        'equilatero'  si todos los lados son iguales\n",
        "        'isosceles'   si dos lados son iguales\n",
        "        'escaleno'     si todos los lados son distintos\n",
        "  \"\"\"\n",
        "# BORRAR \"PASS\" Y ESCRIBIR EL CÓDIGO DEBAJO DE ESTA LINEA PARA RESOLVER EL PROBLEMA\n",
        "  pass\n",
        "\n",
        "# ESTO NO HAY QUE CAMBIARLO\n",
        "class TriangleError(Exception):\n",
        "  pass\n"
      ],
      "execution_count": null,
      "outputs": []
    },
    {
      "source": [
        "### Primer problema (2 puntos)\n",
        "Editar el código de la función anterior para que pase las siguientes pruebas:"
      ],
      "cell_type": "markdown",
      "metadata": {}
    },
    {
      "cell_type": "code",
      "metadata": {
        "id": "NYL4XrephtRn"
      },
      "source": [
        "assert('equilatero' == triangle(2, 2, 2))\n",
        "assert('equilatero' == triangle(10, 10, 10))\n",
        "assert('isosceles' == triangle(3, 4, 4))\n",
        "assert('isosceles' == triangle(4, 3, 4))\n",
        "assert('isosceles' == triangle(4, 4, 3))\n",
        "assert('isosceles' == triangle(10, 10, 2))\n",
        "assert('escaleno' == triangle(3, 4, 5))\n",
        "assert('escaleno' == triangle(10, 11, 12))\n",
        "assert('escaleno' == triangle(5, 4, 2))"
      ],
      "execution_count": null,
      "outputs": []
    },
    {
      "source": [
        "*El código debe correr sin mostrar \"AssertionError\"*\n",
        "### Segundo problema (1 punto)\n",
        "Se verificará el código con triángulos ilegales. Mejorá el código de la función triangle para que llame a la función TriangleError en caso de que se haya ingresado los parámetros de un triángulo ilegal.\n",
        "\n",
        "*AYUDA* recordá el uso de la instrucción \"raise\""
      ],
      "cell_type": "markdown",
      "metadata": {}
    },
    {
      "cell_type": "code",
      "metadata": {
        "id": "XaUDlBYDkTaJ"
      },
      "source": [
        "count = 0\n",
        "try:\n",
        "  # los lados de un triángulo deben ser mayores a cero\n",
        "  var = triangle(1.0, 0, 0)\n",
        "except TriangleError:\n",
        "  count += 1\n",
        "try:\n",
        "  # se debe cumplir el teorema de pitágoras\n",
        "  var = triangle(1, 1, 7)\n",
        "except TriangleError:\n",
        "  count += 1\n",
        "try:\n",
        "  var = triangle(1, 7, 1)\n",
        "except TriangleError:\n",
        "  count += 1\n",
        "try:\n",
        "  var = triangle(7, 1, 1)\n",
        "except TriangleError:\n",
        "  count += 1\n",
        "try:\n",
        "  var = triangle(0, 0, 0)\n",
        "except TriangleError:\n",
        "  count += 1\n",
        "try:\n",
        "  var = triangle(1, 1, -1)\n",
        "except TriangleError:\n",
        "  count += 1\n",
        "try:\n",
        "  var = triangle(1, 1, 5)\n",
        "except TriangleError:\n",
        "  count += 1\n",
        "assert(count == 7)"
      ],
      "execution_count": null,
      "outputs": []
    },
    {
      "cell_type": "markdown",
      "metadata": {
        "id": "7jDBcY8hzTXQ"
      },
      "source": [
        "*El código debe correr sin mostrar \"AssertionError\"*\n",
        "# Dice project\n",
        "Estamos comenzando a desarrollar un juego de la Generala y necesitamos hacer algunas verificaciones, debemos tener en cuenta que un cubilete es un objeto y los 5 dados en su interior serán quienes obtengan un valor en cada lanzamiento. No te olvides que es un juego de azar, y para esto podemos importar un paquete que contenga la funcion random.\n"
      ]
    },
    {
      "cell_type": "code",
      "metadata": {
        "id": "g7_nzeEun7YN"
      },
      "source": [
        "# importar random\n",
        "\n",
        "class DiceSet:\n",
        "    def __init__(self):\n",
        "        self._values = None\n",
        "\n",
        "    @property\n",
        "    def values(self):\n",
        "      return self._values\n",
        "\n",
        "    def values_set(self, new_values):\n",
        "      self._values = new_values\n",
        "  \n",
        "    def roll(self, n):\n",
        "        # Falta implementar, debe tirar n dados.\n",
        "        # Recordá que la función random.randint(min, max) puede ser utilizada para generar numeros aleatorios\n",
        "        # Empezá a escribir tu código debajo de esta línea\n",
        "        "
      ],
      "execution_count": null,
      "outputs": []
    },
    {
      "source": [
        "### Tercer problema (2 puntos)\n",
        "Este set verificará si los dados son lanzados y si cada uno de ellos tiene un valor dentro de una lista"
      ],
      "cell_type": "markdown",
      "metadata": {}
    },
    {
      "cell_type": "code",
      "metadata": {
        "id": "uPly1Ey_rJFH"
      },
      "source": [
        "dice = DiceSet()\n",
        "assert(dice)\n",
        "#lanzo 5 dados\n",
        "dice.roll(5)\n",
        "if not isinstance(dice.values, list):\n",
        "  raise Exception(\"debería ser una lista\")\n",
        "assert(5 == len(dice.values))\n",
        "for value in dice.values:\n",
        "    if 1 <= value <= 6:\n",
        "      continue\n",
        "    raise Exception(f\"El valor {str(value):s} debe estar entre 1 y 6\")\n",
        "#lanzo 3 dados\n",
        "dice.roll(3)\n",
        "assert(3 == len(dice.values))\n",
        "#lanzo 1 dado\n",
        "dice.roll(1)\n",
        "assert(1 == len(dice.values))\n",
        "#hago dos lanzamientos y veo si son distintos\n",
        "dice.roll(5)\n",
        "first_time = dice.values\n",
        "dice.roll(5)\n",
        "second_time = dice.values\n",
        "assert(first_time != second_time)"
      ],
      "execution_count": null,
      "outputs": []
    },
    {
      "source": [
        "### Cuarto problema (1 punto)\n",
        "Si los dados son aleatorios, existe la posibilidad de que dos lanzamientos sean iguales, ¿cómo podrías mostrar que los dados son legales? Un dado es legal si cada numero tiene la misma probabilidad de salir. Podés mostrar tus resultados con tablas o gráficas y una breve explicación. Podés crear las celdas que creas necesarias, tanto para código como para texto en Markdown."
      ],
      "cell_type": "markdown",
      "metadata": {}
    },
    {
      "cell_type": "code",
      "execution_count": null,
      "metadata": {},
      "outputs": [],
      "source": []
    },
    {
      "cell_type": "markdown",
      "metadata": {
        "id": "awiBPYUTzbOn"
      },
      "source": [
        "# Greed Project\n",
        "\n",
        "Greed es un juego de dados en los cuales se lanzan 5 dados para acumular puntos, tiene ciertas reglas para calcular el puntaje.\n",
        "\n",
        "* Tres 1 suman 1000 puntos.\n",
        "* Cada 1 adicional a una terna suma 100 puntos.\n",
        "* Tres numeros iguales multiplican su valor por 100, por ejemplo tres 5 suman 500 puntos.\n",
        "* Un 5 que no es parte de una terna suma 50 puntos.\n",
        "* Todo lo demas vale 0 puntos.\n",
        "\n",
        "Ejemplos:\n",
        "````\n",
        "score([1,1,1,5,1]) => 1150 puntos\n",
        "score([2,3,4,6,2]) => 0 puntos\n",
        "score([3,4,5,3,3]) => 350 puntos\n",
        "score([1,5,1,2,4]) => 250 puntos\n",
        "````\n",
        "\n",
        "El objetivo es escribir este sistema de puntajes\n"
      ]
    },
    {
      "cell_type": "code",
      "metadata": {
        "id": "lYXYWPiNw3O1"
      },
      "source": [
        "def score(lista):\n",
        "    # Escribí el código necesario\n"
      ],
      "execution_count": null,
      "outputs": []
    },
    {
      "source": [
        "### Quinto problema (2 puntos)\n",
        "Aquí vamos a verificar si el sistema de puntuación funciona con algunas jugadas conocidas."
      ],
      "cell_type": "markdown",
      "metadata": {}
    },
    {
      "cell_type": "code",
      "metadata": {
        "id": "pjpnWjXmxPee"
      },
      "source": [
        "assert(50 == score([5]))\n",
        "assert(100 == score([1]))\n",
        "assert(300 == score([1,5,5,1]))\n",
        "assert(0 == score([2,3,4,6]))\n",
        "assert(1000 == score([1,1,1]))\n",
        "assert(200 == score([2,2,2]))\n",
        "assert(300 == score([3,3,3]))\n",
        "assert(400 == score([4,4,4]))\n",
        "assert(500 == score([5,5,5]))\n",
        "assert(600 == score([6,6,6]))\n",
        "assert(250 == score([2,5,2,2,3]))\n",
        "assert(550 == score([5,5,5,5]))\n",
        "assert(1150 == score([1,1,1,5,1]))\n",
        "assert(300 == score([1,2,2,2]))\n",
        "assert(350 == score([1,5,2,2,2]))"
      ],
      "execution_count": null,
      "outputs": []
    },
    {
      "source": [
        "### Sexto problema (2 puntos)\n",
        "Usando la función \"score\" puntúa una jugada aleatoria de *Dice Project*, no te olvides de lanzar nuevamente los dados con ``dice.roll(5)``, mostrar sus valores y el puntaje obtenido."
      ],
      "cell_type": "markdown",
      "metadata": {}
    }
  ]
}