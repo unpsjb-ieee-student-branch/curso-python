{
 "cells": [
  {
   "cell_type": "markdown",
   "metadata": {},
   "source": [
    "# Listas, tuplas y diccionarios"
   ]
  },
  {
   "cell_type": "markdown",
   "metadata": {},
   "source": [
    "## Otros tipos de variables\n",
    "\n",
    "Hasta ahora vimos variables con un solo valor, pero es posible crear variables con más de un valor por identificador.\n",
    "\n",
    "Las variables pueden ser de los tipos primitivos o elementales (como **int**, **float** y **bool**) o de un tipo compuesto (**str**, **list** o **dict**, entre otros)."
   ]
  },
  {
   "cell_type": "markdown",
   "metadata": {},
   "source": [
    "## tipo list, o lista"
   ]
  },
  {
   "cell_type": "code",
   "execution_count": null,
   "metadata": {
    "collapsed": true,
    "jupyter": {
     "outputs_hidden": true
    }
   },
   "outputs": [],
   "source": [
    "# Listas\n",
    "a = [1, 2, -1, -4]\n",
    "b = [0.4, 0.7]"
   ]
  },
  {
   "cell_type": "code",
   "execution_count": null,
   "metadata": {},
   "outputs": [],
   "source": [
    "a"
   ]
  },
  {
   "cell_type": "code",
   "execution_count": null,
   "metadata": {},
   "outputs": [],
   "source": [
    "b"
   ]
  },
  {
   "cell_type": "code",
   "execution_count": null,
   "metadata": {},
   "outputs": [],
   "source": [
    "a[0] # Podemos indexar las listas, para recuperar los diferentes valores"
   ]
  },
  {
   "cell_type": "code",
   "execution_count": null,
   "metadata": {},
   "outputs": [],
   "source": [
    "b[1]"
   ]
  },
  {
   "cell_type": "code",
   "execution_count": null,
   "metadata": {},
   "outputs": [],
   "source": [
    "a[2]"
   ]
  },
  {
   "cell_type": "code",
   "execution_count": null,
   "metadata": {},
   "outputs": [],
   "source": [
    "a[2] = 1 # Las listas se pueden modificar\n",
    "a[2]"
   ]
  },
  {
   "cell_type": "code",
   "execution_count": null,
   "metadata": {},
   "outputs": [],
   "source": [
    "b[2]\n",
    "\n",
    "# Que ocurre?"
   ]
  },
  {
   "cell_type": "code",
   "execution_count": null,
   "metadata": {
    "collapsed": true,
    "jupyter": {
     "outputs_hidden": true
    }
   },
   "outputs": [],
   "source": [
    "# Las listas pueden ser \"mixtas\"\n",
    "c = [1, 2, 3.14, 'a', True]\n",
    "\n",
    "print(c)"
   ]
  },
  {
   "cell_type": "code",
   "execution_count": null,
   "metadata": {},
   "outputs": [],
   "source": [
    "# Podemos iterar sobre una lista con for ... in ...\n",
    "for i in c:\n",
    "    print(type(i))"
   ]
  },
  {
   "cell_type": "code",
   "execution_count": null,
   "metadata": {},
   "outputs": [],
   "source": [
    "# Podemos acceder en forma aleatoria a cada elemento en la lista\n",
    "c[0]"
   ]
  },
  {
   "cell_type": "code",
   "execution_count": null,
   "metadata": {},
   "outputs": [],
   "source": [
    "c[2]"
   ]
  },
  {
   "cell_type": "code",
   "execution_count": null,
   "metadata": {},
   "outputs": [],
   "source": [
    "c[4]"
   ]
  },
  {
   "cell_type": "code",
   "execution_count": null,
   "metadata": {},
   "outputs": [],
   "source": [
    "# Las listas pueden crearse y \"llenarse\"\n",
    "d = list()  # Creamos una lista vacia\n",
    "print(d)\n",
    "\n",
    "d.append(1)\n",
    "print(d)\n",
    "\n",
    "d.append(0)\n",
    "d.append(-1)\n",
    "print(d)"
   ]
  },
  {
   "cell_type": "code",
   "execution_count": null,
   "metadata": {},
   "outputs": [],
   "source": [
    "# También pueden \"borrarse\"\n",
    "print(d)\n",
    "\n",
    "d.remove(1)\n",
    "print(d)\n",
    "\n",
    "# Pregunta!!!\n",
    "# Que pasa si ejecutamos nuevamente esta celda?"
   ]
  },
  {
   "cell_type": "code",
   "execution_count": null,
   "metadata": {},
   "outputs": [],
   "source": [
    "# Podemos observar la longitud de una lista\n",
    "len(d)"
   ]
  },
  {
   "cell_type": "code",
   "execution_count": null,
   "metadata": {},
   "outputs": [],
   "source": [
    "print(d)\n",
    "d.append(1.1)\n",
    "print(d)\n",
    "d.remove(1.1)\n",
    "print(d)\n"
   ]
  },
  {
   "cell_type": "code",
   "execution_count": null,
   "metadata": {},
   "outputs": [],
   "source": [
    "c = [1, 2, 3, 1, 2, 5, 3, 2]\n",
    "print(c)\n",
    "\n",
    "c.pop() \n",
    "# Elimina el ultimo elemento en la lista\n",
    "print(c)\n"
   ]
  },
  {
   "cell_type": "code",
   "execution_count": null,
   "metadata": {},
   "outputs": [],
   "source": [
    "print(c)\n",
    "\n",
    "c.remove(1)\n",
    "print(c)\n",
    "c.remove(1)\n",
    "\n",
    "print(c)\n"
   ]
  },
  {
   "cell_type": "code",
   "execution_count": null,
   "metadata": {},
   "outputs": [],
   "source": [
    "print(c)\n",
    "\n",
    "c.remove(1)\n",
    "\n",
    "# Pregunta!!!\n",
    "# Que pasa si ejecutamos esta celda?"
   ]
  },
  {
   "cell_type": "code",
   "execution_count": null,
   "metadata": {},
   "outputs": [],
   "source": [
    "d = [0, 2, 4, 6]\n",
    "\n",
    "print(d)\n",
    "\n",
    "del d[2]\n",
    "\n",
    "# d[n] elimina el elemento en la posicion n\n",
    "\n",
    "print(d)"
   ]
  },
  {
   "cell_type": "code",
   "execution_count": null,
   "metadata": {},
   "outputs": [],
   "source": [
    "# Si las listas contienen datos de mismo tipo pueden ordenarse\n",
    "\n",
    "numeros = [-2, 1, 42, 6, 23, -35]\n",
    "\n",
    "numeros.sort()\n",
    "\n",
    "print(f\"Los numeros son {numeros}\")"
   ]
  },
  {
   "cell_type": "code",
   "execution_count": null,
   "metadata": {},
   "outputs": [],
   "source": [
    "nombres = [\"Juan\", \"Pedro\", \"Ana\", \"Xavier\", \"Brian\"]\n",
    "\n",
    "# El ordenamiento de una lista puede ascendente (si no aclaramos nada)\n",
    "# o descendente\n",
    "\n",
    "nombres.sort(reverse=True)\n",
    "\n",
    "print(nombres)"
   ]
  },
  {
   "cell_type": "code",
   "execution_count": null,
   "metadata": {},
   "outputs": [],
   "source": [
    "# También podemos usar la función sorted\n",
    "\n",
    "ascendente = sorted(nombres)\n",
    "print('Ascendente', f'{ascendente}', '\\nnombres', f'{nombres}')\n",
    "\n",
    "# Pregunta!!!\n",
    "# Cuál es la diferencia entre nombres.sort() y sorted(nombres)?"
   ]
  },
  {
   "cell_type": "code",
   "execution_count": null,
   "metadata": {},
   "outputs": [],
   "source": [
    "# Ejemplo lista y ciclo for\n",
    "digitos = [0, 2, 4, 6, 8, 10, 12, 14,16, 18]\n",
    "\n",
    "\n",
    "for k in range(10):\n",
    "    print(k, digitos[k])\n",
    "\n",
    "print('------')\n",
    "\n",
    "# Una forma facil de recorrer listas\n",
    "for d in digitos:\n",
    "    print(d)\n",
    "\n",
    "\n"
   ]
  },
  {
   "cell_type": "code",
   "execution_count": null,
   "metadata": {},
   "outputs": [],
   "source": [
    "# Ejemplo lista y ciclo while\n",
    "k = 0\n",
    "while k < len(digitos):\n",
    "    print(digitos[k])\n",
    "    k = k + 1 #Importante actualizar k!"
   ]
  },
  {
   "cell_type": "code",
   "execution_count": null,
   "metadata": {},
   "outputs": [],
   "source": [
    "# Ejemplo lista y ciclo while\n",
    "k = 0\n",
    "while k < len(digitos):\n",
    "    print(digitos[k])\n",
    "    k += 1 # Lo mismo que k = k + 1"
   ]
  },
  {
   "cell_type": "code",
   "execution_count": null,
   "metadata": {},
   "outputs": [],
   "source": [
    "# Pregunta !!!\n",
    "\n",
    "# Escriba una lista con cinco elementos enteros\n",
    "\n",
    "a = []\n",
    "len(a) == 5 # Longitud de a es igual a 5??"
   ]
  },
  {
   "cell_type": "code",
   "execution_count": null,
   "metadata": {},
   "outputs": [],
   "source": [
    "print(nombres)\n",
    "\n",
    "# Para determinar si un elemento está en la lista\n",
    "print(f\"{'Pedro' in nombres}\")\n",
    "\n",
    "# Devuelve un valor boolean\n",
    "\n",
    "print(f\"{'xavier' in nombres}\")"
   ]
  },
  {
   "cell_type": "code",
   "execution_count": null,
   "metadata": {},
   "outputs": [],
   "source": [
    "if \"Ana\" in nombres:\n",
    "    print(\"Ana está presente\")\n",
    "else:\n",
    "    print(\"Ana está ausente\")"
   ]
  },
  {
   "cell_type": "markdown",
   "metadata": {},
   "source": [
    "### Indexado de listas"
   ]
  },
  {
   "cell_type": "code",
   "execution_count": null,
   "metadata": {},
   "outputs": [],
   "source": [
    "numeros = range(5)\n",
    "numeros[0], numeros[1], numeros[2], numeros[3], numeros[4]"
   ]
  },
  {
   "cell_type": "code",
   "execution_count": null,
   "metadata": {},
   "outputs": [],
   "source": [
    "numeros[-1], numeros[-2], numeros[-3], numeros[-4], numeros[-5]"
   ]
  },
  {
   "cell_type": "code",
   "execution_count": null,
   "metadata": {},
   "outputs": [],
   "source": [
    "try:\n",
    "   a = numeros[10]\n",
    "except IndexError:\n",
    "   print(f'Index Error 10 > {len(numeros)}')"
   ]
  },
  {
   "cell_type": "code",
   "execution_count": null,
   "metadata": {},
   "outputs": [],
   "source": [
    "### 'List slices' o secciones de listas\n",
    "\n",
    "Podemos seleccionar partes o secciones de listas"
   ]
  },
  {
   "cell_type": "code",
   "execution_count": null,
   "metadata": {},
   "outputs": [],
   "source": [
    "numeros"
   ]
  },
  {
   "cell_type": "code",
   "execution_count": null,
   "metadata": {},
   "outputs": [],
   "source": [
    "numeros = [n for n in numeros]\n",
    "numeros\n",
    "\n",
    "# Pregunta!!!\n",
    "# Cuál es la diferencia entre esta celda y la anterior"
   ]
  },
  {
   "cell_type": "code",
   "execution_count": null,
   "metadata": {},
   "outputs": [],
   "source": [
    "numeros[1:len(numeros):2] # inicio = 1, final = len(numeros), salto = 2"
   ]
  },
  {
   "cell_type": "code",
   "execution_count": null,
   "metadata": {},
   "outputs": [],
   "source": [
    "numeros[0:len(numeros):2] # inicio = 0, final = len(numeros), salto = 2"
   ]
  },
  {
   "cell_type": "markdown",
   "metadata": {},
   "source": [
    "## Tipo tuple o tupla"
   ]
  },
  {
   "cell_type": "markdown",
   "metadata": {},
   "source": [
    "De la misma forma que construimos listas de valores, podemos construir tuplas."
   ]
  },
  {
   "cell_type": "code",
   "execution_count": null,
   "metadata": {
    "collapsed": true,
    "jupyter": {
     "outputs_hidden": true
    }
   },
   "outputs": [],
   "source": [
    "# Listas de valores\n",
    "a = (1, 2, -1, -4)\n",
    "b = (0.4, 0.7)"
   ]
  },
  {
   "cell_type": "code",
   "execution_count": null,
   "metadata": {},
   "outputs": [],
   "source": [
    "a"
   ]
  },
  {
   "cell_type": "code",
   "execution_count": null,
   "metadata": {},
   "outputs": [],
   "source": [
    "b"
   ]
  },
  {
   "cell_type": "markdown",
   "metadata": {},
   "source": [
    "**Cual es la diferencia entre listas y tuplas?**\n",
    "\n",
    "Las listas pueden modificarse, las tuplas no."
   ]
  },
  {
   "cell_type": "code",
   "execution_count": null,
   "metadata": {},
   "outputs": [],
   "source": [
    "una_lista = [1, 2, 3]\n",
    "una_tupla = (1, 2, 3)\n",
    "una_lista, una_tupla"
   ]
  },
  {
   "cell_type": "code",
   "execution_count": null,
   "metadata": {},
   "outputs": [],
   "source": [
    "una_lista[0] = -1\n",
    "una_lista.append(4)\n",
    "una_lista"
   ]
  },
  {
   "cell_type": "code",
   "execution_count": null,
   "metadata": {},
   "outputs": [],
   "source": [
    "try:\n",
    "    una_tupla[0] = -1 # Esto está mal\n",
    "except TypeError:\n",
    "    print('TypeError')"
   ]
  },
  {
   "cell_type": "code",
   "execution_count": null,
   "metadata": {},
   "outputs": [],
   "source": [
    "try:\n",
    "    una_tupla.append(4) # Esto está mal\n",
    "except AttributeError:\n",
    "    print('AttributeError')"
   ]
  },
  {
   "cell_type": "markdown",
   "metadata": {},
   "source": [
    "## Como iterar sobre listas y tuplas\n",
    "\n",
    "Si bien es correcto iterar sobre listas y tuplas como hemos visto arriba,\n",
    "en realidad es conveniente hacerlo de otra forma, que permite escribir \n",
    "programas más concisos y claros"
   ]
  },
  {
   "cell_type": "code",
   "execution_count": null,
   "metadata": {},
   "outputs": [],
   "source": [
    "# Generamos una lista de números\n",
    "numeros = range(20)\n",
    "\n",
    "# Vamos a ver como podemos hacer para construir una\n",
    "# lista de números impares"
   ]
  },
  {
   "cell_type": "code",
   "execution_count": null,
   "metadata": {},
   "outputs": [],
   "source": [
    "# Forma larga\n",
    "impares = list()\n",
    "for n in numeros:\n",
    "    if n % 2 == 1:\n",
    "        impares.append(n)\n",
    "print(f'{impares}')"
   ]
  },
  {
   "cell_type": "code",
   "execution_count": null,
   "metadata": {},
   "outputs": [],
   "source": [
    "# Forma corta o \"list comprehension\" \n",
    "impares_ = [n for n in numeros if n % 2]\n",
    "print(f'{impares_}')"
   ]
  },
  {
   "cell_type": "markdown",
   "metadata": {},
   "source": [
    "### List comprehension\n",
    "\n",
    "Recordemos que Python es un lenguaje interpretado.\n",
    "En la medida que escribamos programas más cortos\n",
    "el intérprete tendrá menos trabajo operando con nuestro código.\n",
    "\n",
    "Además, el mecanismo de \"list comprehension\" permite al intérprete traducir \n",
    "una sola vez todo el código \"dentro\" del ciclo for.\n",
    "\n",
    "Otra diferencia importante es que en la forma larga hemos creado explicitamente la lista impares, mientras que con \"list comprehension\" la lista es creada en forma implícita. Por lo general, los métodos implícitos son más rápidos.\n",
    "\n",
    "También notemos que en lugar de escribir\n",
    "    \n",
    "    n % 2 == 1\n",
    "\n",
    "hemos escrito solamente\n",
    "    \n",
    "    n % 2"
   ]
  },
  {
   "cell_type": "code",
   "execution_count": null,
   "metadata": {},
   "outputs": [],
   "source": [
    "# Vamos a medir tiempos de ejecución\n",
    "import time\n"
   ]
  },
  {
   "cell_type": "code",
   "execution_count": null,
   "metadata": {},
   "outputs": [],
   "source": [
    "# Forma larga\n",
    "t0 = time.time()\n",
    "multiplos_3 = list()\n",
    "for m in numeros:\n",
    "    if m % 3:\n",
    "        continue\n",
    "    multiplos_3.append(m)\n",
    "t1 = time.time()\n",
    "total = t1 - t0\n",
    "print(total)"
   ]
  },
  {
   "cell_type": "code",
   "execution_count": null,
   "metadata": {},
   "outputs": [],
   "source": [
    "# list comprehension\n",
    "t0_ = time.time()\n",
    "multiplos_3_ = [m for m in numeros if not m % 3]\n",
    "t1_ = time.time()\n",
    "total_ = t1_ - t0_\n",
    "print(total_)"
   ]
  },
  {
   "cell_type": "code",
   "execution_count": null,
   "metadata": {},
   "outputs": [],
   "source": [
    "print(total > total_)"
   ]
  },
  {
   "cell_type": "code",
   "execution_count": null,
   "metadata": {},
   "outputs": [],
   "source": [
    "# Comparo listas\n",
    "print(multiplos_3 == multiplos_3_)\n",
    "\n",
    "# Variables diferentes con diferentes id\n",
    "id(multiplos_3), id(multiplos_3_)"
   ]
  },
  {
   "cell_type": "markdown",
   "metadata": {},
   "source": [
    "### Diccionarios"
   ]
  },
  {
   "cell_type": "markdown",
   "metadata": {},
   "source": [
    "Un diccionario en Python es una forma de manejar datos. Para entenderla, podemos pensar en un diccionario común, que basicamente es una lista de palabras y definiciones asociadas.\n",
    "\n",
    "Un diccionario en python es un conjunto de claves (en inglés se usa la palabra keys) y valores asociados. Cada clave es única."
   ]
  },
  {
   "cell_type": "code",
   "execution_count": null,
   "metadata": {
    "collapsed": true,
    "jupyter": {
     "outputs_hidden": true
    }
   },
   "outputs": [],
   "source": [
    "a = {}                #Creamos un diccionario\n",
    "a[1] = '1'            # La clave es 1, el valor asociado es '1'\n",
    "a[2] = '2'            # La clave es 2\n",
    "a['red'] = 'rojo'\n",
    "a['blue'] = 'azul'\n",
    "a['green'] = 'verde'\n",
    "\n",
    "print(a)"
   ]
  },
  {
   "cell_type": "code",
   "execution_count": null,
   "metadata": {},
   "outputs": [],
   "source": [
    "# Otra forma de crearlo\n",
    "b = {1: \"Uno\", 2: \"Dos\", \"Tres\": 3}\n",
    "print(b)"
   ]
  },
  {
   "cell_type": "code",
   "execution_count": null,
   "metadata": {},
   "outputs": [],
   "source": [
    "print(b[\"Tres\"])\n",
    "\n",
    "print(a[2])\n",
    "\n",
    "print(a['red'])"
   ]
  },
  {
   "cell_type": "code",
   "execution_count": null,
   "metadata": {},
   "outputs": [],
   "source": [
    "\n",
    "print(f\"La llave 1 tiene almacenado en el diccionario a = {a[1]} y en el diccionario b = {b[1]}\")\n"
   ]
  },
  {
   "cell_type": "code",
   "execution_count": null,
   "metadata": {},
   "outputs": [],
   "source": [
    "# keys o claves\n",
    "for k in a.keys():\n",
    "    print(\"LLave:\", k, \"Tipo:\", type(k))\n",
    "# values o valores\n",
    "for v in a.values():\n",
    "    print(\"Valor:\", v, \"Tipo:\", type(v))"
   ]
  },
  {
   "cell_type": "code",
   "execution_count": null,
   "metadata": {},
   "outputs": [],
   "source": [
    "dic = {\"1\": \"Juan\", 2: \"Pedro\", 4: \"Maria\", 5: \"Ana\"}\n",
    "\n",
    "# llave in diccionario\n",
    "if 2 in dic:\n",
    "    print(f\"2 es {dic[2]} y se encuentra en el diccionario\")"
   ]
  },
  {
   "cell_type": "code",
   "execution_count": null,
   "metadata": {},
   "outputs": [],
   "source": [
    "for k, v in a.items():\n",
    "    print(k, ':', v)"
   ]
  },
  {
   "cell_type": "code",
   "execution_count": null,
   "metadata": {},
   "outputs": [],
   "source": [
    "a['red']"
   ]
  },
  {
   "cell_type": "code",
   "execution_count": null,
   "metadata": {},
   "outputs": [],
   "source": [
    "# Es posible cambiar el valor asociado a una clave\n",
    "a['red'] = '<ROJO>'\n",
    "a['red']\n",
    "\n",
    "# Recuerden que la clave es única"
   ]
  },
  {
   "cell_type": "code",
   "execution_count": null,
   "metadata": {},
   "outputs": [],
   "source": [
    "# Podemos borrar una clave y su valor\n",
    "del a['red']\n",
    "try:\n",
    "    a['red'] # esto está mal\n",
    "except KeyError as message:\n",
    "    print('KeyError', message)"
   ]
  },
  {
   "cell_type": "markdown",
   "metadata": {},
   "source": [
    "## La función assert\n",
    "\n",
    "La función assert verifica que su argumento sea True. En caso de ser False, anuncia una excepción"
   ]
  },
  {
   "cell_type": "code",
   "execution_count": null,
   "metadata": {
    "collapsed": true,
    "jupyter": {
     "outputs_hidden": true
    }
   },
   "outputs": [],
   "source": [
    "assert(True) # no pasa nada"
   ]
  },
  {
   "cell_type": "code",
   "execution_count": null,
   "metadata": {},
   "outputs": [],
   "source": [
    "assert(False)"
   ]
  },
  {
   "cell_type": "code",
   "execution_count": null,
   "metadata": {},
   "outputs": [],
   "source": [
    "try:\n",
    "    assert(False)  # esto está mal\n",
    "except AssertionError:\n",
    "    print('Error')"
   ]
  },
  {
   "cell_type": "markdown",
   "metadata": {},
   "source": [
    "## La función assert sirve para verificar que los programas \"funcionan\" bien!"
   ]
  },
  {
   "cell_type": "code",
   "execution_count": null,
   "metadata": {
    "collapsed": true,
    "jupyter": {
     "outputs_hidden": true
    }
   },
   "outputs": [],
   "source": [
    "## Crear una lista y agregarle cinco números\n",
    "a = [0,1,2,3,4]\n",
    "## otra forma de hacer lo mismo\n",
    "b = list()\n",
    "for k in range(5):\n",
    "    b.append(k)\n",
    "\n",
    "print(f\"Lista a: {a}\")\n",
    "print(f\"Lista b: {b}\")\n",
    "assert(len(a) == 5) # esto es una aserción \n",
    "assert(len(b) == 5) # esto es una aserción"
   ]
  },
  {
   "cell_type": "code",
   "execution_count": null,
   "metadata": {
    "collapsed": true,
    "jupyter": {
     "outputs_hidden": true
    }
   },
   "outputs": [],
   "source": [
    "# Pregunta !!!\n",
    "\n",
    "# Copiar la celda anterior y modificar la longitud de las listas para que fallen las aserciones."
   ]
  },
  {
   "cell_type": "markdown",
   "metadata": {},
   "source": [
    "## La función zip"
   ]
  },
  {
   "cell_type": "code",
   "execution_count": null,
   "metadata": {},
   "outputs": [],
   "source": [
    "# Supongamos que tenemos dos listas\n",
    "claves = ['Ana', 'Pedro', 'Luisa', 'Santiago']\n",
    "valores = [1, 2, 3, 4]\n",
    "\n",
    "# Queremos combinar ambas listas para armar un diccionario\n",
    "objetivo = {'Ana': 1, 'Pedro': 2, 'Luisa': 3, 'Santiago': 4} "
   ]
  },
  {
   "cell_type": "code",
   "execution_count": null,
   "metadata": {},
   "outputs": [],
   "source": [
    "# La función zip nos permite armar listas 'virtuales'\n",
    "for c, v in zip(claves, valores):\n",
    "    print(c, v)"
   ]
  },
  {
   "cell_type": "code",
   "execution_count": null,
   "metadata": {},
   "outputs": [],
   "source": [
    "for c, v1, v2 in zip(claves, valores, range(len(valores))):\n",
    "    print(c, v1, 2 * v2)"
   ]
  },
  {
   "cell_type": "code",
   "execution_count": null,
   "metadata": {},
   "outputs": [],
   "source": [
    "resultado = {c: v for k, v in zip(claves, valores)}"
   ]
  },
  {
   "cell_type": "code",
   "execution_count": null,
   "metadata": {},
   "outputs": [],
   "source": [
    "resultado"
   ]
  },
  {
   "cell_type": "code",
   "execution_count": null,
   "metadata": {},
   "outputs": [],
   "source": [
    "objetivo == resultado"
   ]
  },
  {
   "cell_type": "code",
   "execution_count": null,
   "metadata": {},
   "outputs": [],
   "source": [
    "alternativa = dict(zip(claves, valores))"
   ]
  },
  {
   "cell_type": "code",
   "execution_count": null,
   "metadata": {},
   "outputs": [],
   "source": [
    "alternativa == resultado"
   ]
  },
  {
   "cell_type": "markdown",
   "metadata": {},
   "source": [
    "## Aplicación función zip"
   ]
  },
  {
   "cell_type": "code",
   "execution_count": null,
   "metadata": {},
   "outputs": [],
   "source": [
    "# Necesitamos comprender que hacen las funciones ord y chr\n",
    "print('a', ord('a'), chr(ord('a')))\n",
    "print('b', ord('b'), chr(ord('b')))\n",
    "print('d', ord('c'), chr(ord('c')))\n",
    "print('z', ord('z'), chr(ord('z')))"
   ]
  },
  {
   "cell_type": "code",
   "execution_count": null,
   "metadata": {},
   "outputs": [],
   "source": [
    "# Esto nos permite asignar números a las letras del alfabeto\n",
    "numeros = [n for n in range(ord('a'), ord('z') + 1)]\n",
    "print(numeros)"
   ]
  },
  {
   "cell_type": "code",
   "execution_count": null,
   "metadata": {},
   "outputs": [],
   "source": [
    "letras = [chr(n) for n  in numeros]     # Tenemos las letras\n",
    "caracteres = letras + [' ', ',', '.']   # Agregamos espacio y signos de puntuación\n",
    "print(letras)\n",
    "print(caracteres)"
   ]
  },
  {
   "cell_type": "code",
   "execution_count": null,
   "metadata": {},
   "outputs": [],
   "source": [
    "mapa = dict(zip(letras, numeros))      # Hacemos un mapeo de letras a números\n",
    "print(mapa)"
   ]
  },
  {
   "cell_type": "markdown",
   "metadata": {},
   "source": [
    "## Criptografía antigua\n",
    "\n",
    "Ver [Código del César](https://es.wikipedia.org/wiki/Cifrado_C%C3%A9sar)"
   ]
  },
  {
   "cell_type": "code",
   "execution_count": null,
   "metadata": {},
   "outputs": [],
   "source": [
    "# Esto es la implementación del código del César \n",
    "\n",
    "desplazamiento = 13\n",
    "assert(desplazamiento < len(caracteres))\n",
    "prefijo = caracteres[0:len(caracteres) - desplazamiento]\n",
    "sufijo = caracteres[len(caracteres) - desplazamiento:]\n",
    "codigo = sufijo + prefijo\n",
    "print(codigo)"
   ]
  },
  {
   "cell_type": "code",
   "execution_count": null,
   "metadata": {},
   "outputs": [],
   "source": [
    "codificador = dict(zip(caracteres, codigo))"
   ]
  },
  {
   "cell_type": "code",
   "execution_count": null,
   "metadata": {},
   "outputs": [],
   "source": [
    "decodificador = dict(zip(codigo, caracteres))"
   ]
  },
  {
   "cell_type": "code",
   "execution_count": null,
   "metadata": {},
   "outputs": [],
   "source": [
    "for clave, valor in codificador.items():\n",
    "    _clave = decodificador[valor]\n",
    "    assert(clave == _clave)"
   ]
  },
  {
   "cell_type": "code",
   "execution_count": null,
   "metadata": {},
   "outputs": [],
   "source": [
    "mensaje = 'esto es una demostracion.'\n",
    "mensaje_codificado = ''.join([codificador[m] for m in mensaje])\n",
    "print(mensaje_codificado)"
   ]
  },
  {
   "cell_type": "code",
   "execution_count": null,
   "metadata": {},
   "outputs": [],
   "source": [
    "mensaje_decodificado = ''.join([decodificador[m] for m in mensaje_codificado])\n",
    "print(mensaje_decodificado)"
   ]
  },
  {
   "cell_type": "code",
   "execution_count": null,
   "metadata": {},
   "outputs": [],
   "source": [
    "assert(mensaje_decodificado == mensaje)"
   ]
  },
  {
   "cell_type": "markdown",
   "metadata": {},
   "source": [
    "## Inversión de una lista"
   ]
  },
  {
   "cell_type": "markdown",
   "metadata": {},
   "source": [
    "### Forma simple"
   ]
  },
  {
   "cell_type": "code",
   "execution_count": null,
   "metadata": {},
   "outputs": [],
   "source": [
    "datos = list(range(15))\n",
    "datos"
   ]
  },
  {
   "cell_type": "code",
   "execution_count": null,
   "metadata": {},
   "outputs": [],
   "source": [
    "datos.reverse()\n",
    "datos"
   ]
  },
  {
   "cell_type": "code",
   "execution_count": null,
   "metadata": {},
   "outputs": [],
   "source": [
    "auxiliar = list(reversed(datos))\n",
    "auxiliar"
   ]
  },
  {
   "cell_type": "markdown",
   "metadata": {},
   "source": [
    "### Usando slicing"
   ]
  },
  {
   "cell_type": "code",
   "execution_count": null,
   "metadata": {},
   "outputs": [],
   "source": [
    "auxiliar[0:-1]    # inicio:fin"
   ]
  },
  {
   "cell_type": "code",
   "execution_count": null,
   "metadata": {},
   "outputs": [],
   "source": [
    "auxiliar[0:]      # inicio: fin == len(auxiliar) "
   ]
  },
  {
   "cell_type": "code",
   "execution_count": null,
   "metadata": {},
   "outputs": [],
   "source": [
    "auxiliar[2:-2:2]  # inicio:fin:paso"
   ]
  },
  {
   "cell_type": "code",
   "execution_count": null,
   "metadata": {},
   "outputs": [],
   "source": [
    "auxiliar[-1::-1]  # inicio: fin == -1 : paso"
   ]
  }
 ],
 "metadata": {
  "kernelspec": {
   "display_name": "Python 3",
   "language": "python",
   "name": "python3"
  },
  "language_info": {
   "codemirror_mode": {
    "name": "ipython",
    "version": 3
   },
   "file_extension": ".py",
   "mimetype": "text/x-python",
   "name": "python",
   "nbconvert_exporter": "python",
   "pygments_lexer": "ipython3",
   "version": "3.8.5"
  }
 },
 "nbformat": 4,
 "nbformat_minor": 4
}