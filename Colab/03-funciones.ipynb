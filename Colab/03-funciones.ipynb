{
 "cells": [
  {
   "cell_type": "markdown",
   "metadata": {
    "id": "E922jI46upG2"
   },
   "source": [
    "# Funciones, o como escribir un programa"
   ]
  },
  {
   "cell_type": "markdown",
   "metadata": {
    "id": "EDhEK7y6upG3"
   },
   "source": [
    "Si nos preguntamos que es un programa, la primer respuesta que nos deberíamos dar es que es una solución a un problema que tenemos.\n",
    "\n",
    "Por lo tanto, si vamos a escribir un programa nos tenemos que preguntar que problema deseamos resolver. "
   ]
  },
  {
   "cell_type": "markdown",
   "metadata": {
    "id": "Dv87wFt2upG4"
   },
   "source": [
    "## El problema a resolver\n",
    "Supongamos que tenemos un déposito bancario de $1000 que nos da un interés del 1 por ciento por mes.\n",
    "Cuanto dinero vamos a tener después de 12 meses?"
   ]
  },
  {
   "cell_type": "markdown",
   "metadata": {
    "id": "KZlLPVfzupG4"
   },
   "source": [
    "Si este es el problema, tenemos que pensar cuál es el resultado y cuales son los datos.\n",
    "\n",
    "Resultado: la cantidad de dinero depositada al cabo de 12 meses;\n",
    "\n",
    "Datos: la cantidad de dinero inicial, y la tasa de interés mensual\n",
    "\n",
    "Entonces, como calculamos el resultado?\n",
    "\n",
    "Lo que sabemos es que el banco promete esto:\n",
    "\n",
    "**El dinero depósitado el próximo mes será el dinero depositado este mes más un monto determinado por la tasa de interés mensual**\n",
    "\n",
    "cantidad_siguiente = cantidad_actual + cantidad_actual * tasa_de_interes / 100\n",
    "\n",
    "Con esto vamos a escribir en python lo que sabemos hasta ahora"
   ]
  },
  {
   "cell_type": "code",
   "execution_count": null,
   "metadata": {
    "id": "nFqSX_ZNupG5"
   },
   "outputs": [],
   "source": [
    "# Primera versión\n",
    "cantidad_actual = 1000\n",
    "tasa_de_interes = 1\n",
    "cantidad_siguiente = cantidad_actual + cantidad_actual * tasa_de_interes / 100\n",
    "print(cantidad_actual, ' --> ', cantidad_siguiente)"
   ]
  },
  {
   "cell_type": "markdown",
   "metadata": {
    "id": "YviVPCRQupG9"
   },
   "source": [
    "## Soluciones posibles"
   ]
  },
  {
   "cell_type": "markdown",
   "metadata": {
    "id": "okWHzmA3upG9"
   },
   "source": [
    "Lo que hicimos hasta ahora es para un mes, pero necesitamos hacerlo para 12 meses. Podemos repetirlo de varias formas:"
   ]
  },
  {
   "cell_type": "code",
   "execution_count": null,
   "metadata": {
    "id": "tjFI3_xhupG-"
   },
   "outputs": [],
   "source": [
    "# Código repetido manualmente\n",
    "cantidad_actual = 1000\n",
    "tasa_de_interes = 1\n",
    "# Primer mes\n",
    "cantidad_siguiente = cantidad_actual + cantidad_actual * tasa_de_interes / 100\n",
    "print(cantidad_actual, ' --> ', cantidad_siguiente)\n",
    "cantidad_actual = cantidad_siguiente\n",
    "# Segundo mes\n",
    "cantidad_siguiente = cantidad_actual + cantidad_actual * tasa_de_interes / 100\n",
    "print(cantidad_actual, ' --> ', cantidad_siguiente)\n",
    "cantidad_actual = cantidad_siguiente\n",
    "# Tercer mes\n",
    "cantidad_siguiente = cantidad_actual + cantidad_actual * tasa_de_interes / 100\n",
    "print(cantidad_actual, ' --> ', cantidad_siguiente)\n",
    "cantidad_actual = cantidad_siguiente\n",
    "# Cuarto mes\n",
    "cantidad_siguiente = cantidad_actual + cantidad_actual * tasa_de_interes / 100\n",
    "print(cantidad_actual, ' --> ', cantidad_siguiente)\n",
    "cantidad_actual = cantidad_siguiente\n",
    "# Quinto mes\n",
    "cantidad_siguiente = cantidad_actual + cantidad_actual * tasa_de_interes / 100\n",
    "print(cantidad_actual, ' --> ', cantidad_siguiente)\n",
    "cantidad_actual = cantidad_siguiente\n",
    "# Sexto mes\n",
    "cantidad_siguiente = cantidad_actual + cantidad_actual * tasa_de_interes / 100\n",
    "print(cantidad_actual, ' --> ', cantidad_siguiente)\n",
    "cantidad_actual = cantidad_siguiente\n",
    "# Septimo mes\n",
    "cantidad_siguiente = cantidad_actual + cantidad_actual * tasa_de_interes / 100\n",
    "print(cantidad_actual, ' --> ', cantidad_siguiente)\n",
    "cantidad_actual = cantidad_siguiente\n",
    "# Octavo mes\n",
    "cantidad_siguiente = cantidad_actual + cantidad_actual * tasa_de_interes / 100\n",
    "print(cantidad_actual, ' --> ', cantidad_siguiente)\n",
    "cantidad_actual = cantidad_siguiente\n",
    "# Noveno mes\n",
    "cantidad_siguiente = cantidad_actual + cantidad_actual * tasa_de_interes / 100\n",
    "print(cantidad_actual, ' --> ', cantidad_siguiente)\n",
    "cantidad_actual = cantidad_siguiente\n",
    "# Decimo mes\n",
    "cantidad_siguiente = cantidad_actual + cantidad_actual * tasa_de_interes / 100\n",
    "print(cantidad_actual, ' --> ', cantidad_siguiente)\n",
    "cantidad_actual = cantidad_siguiente\n",
    "# Undecimo mes\n",
    "cantidad_siguiente = cantidad_actual + cantidad_actual * tasa_de_interes / 100\n",
    "print(cantidad_actual, ' --> ', cantidad_siguiente)\n",
    "cantidad_actual = cantidad_siguiente\n",
    "# Duodecimo mes\n",
    "cantidad_siguiente = cantidad_actual + cantidad_actual * tasa_de_interes / 100\n",
    "print(cantidad_actual, ' --> ', cantidad_siguiente)\n",
    "cantidad_actual = cantidad_siguiente\n"
   ]
  },
  {
   "cell_type": "code",
   "execution_count": null,
   "metadata": {
    "id": "Zin_6FxKupHB"
   },
   "outputs": [],
   "source": [
    "# Código con ciclo for\n",
    "cantidad_actual = 1000\n",
    "tasa_de_interes = 1\n",
    "for mes in range(12):\n",
    "    cantidad_siguiente = cantidad_actual + cantidad_actual * tasa_de_interes / 100\n",
    "    print(cantidad_actual, ' --> ', cantidad_siguiente)\n",
    "    cantidad_actual = cantidad_siguiente"
   ]
  },
  {
   "cell_type": "code",
   "execution_count": null,
   "metadata": {
    "id": "2WDKEefWupHE"
   },
   "outputs": [],
   "source": [
    "# Código con ciclo while\n",
    "cantidad_actual = 1000\n",
    "tasa_de_interes = 1\n",
    "mes = 0\n",
    "while mes < 12:\n",
    "    cantidad_siguiente = cantidad_actual + cantidad_actual * tasa_de_interes / 100\n",
    "    print(cantidad_actual, ' --> ', cantidad_siguiente)\n",
    "    cantidad_actual = cantidad_siguiente\n",
    "    mes += 1"
   ]
  },
  {
   "cell_type": "markdown",
   "metadata": {
    "id": "5eRb1xAuupHG"
   },
   "source": [
    "## Solución mejorada\n",
    "Las tres soluciones nos dan el mismo resultado.\n",
    "\n",
    "Ya que estamos, estaría bueno que los resultados aparezcan con mejor formato, porque con el dinero \n",
    "necesitamos dos decimales (por los centavos...)\n",
    "\n",
    "Para lograr esto, tenemos que escribir\n",
    "\n",
    "    print(f'{cantidad_actual:.2f} -->  {cantidad_siguiente:.2f}')\n",
    "    \n",
    "Donde dice '{cantidad_actual:.2f}', la letra f indica que cantidad_actual es una variable en punto flotante (un número real),\n",
    "y va a ser mostrado con 2 decimales. Podemos indicar también la longitud de la parte entera como en el siguiente ejemplo (longitud de parte entera 3)\n",
    "\n",
    "    print(f'{cantidad_actual:3.2f} -->  {cantidad_siguiente:3.2f}')"
   ]
  },
  {
   "cell_type": "code",
   "execution_count": null,
   "metadata": {
    "id": "McLd_5WDupHH"
   },
   "outputs": [],
   "source": [
    "# Código con ciclo for\n",
    "cantidad_actual = 1000\n",
    "tasa_de_interes = 1\n",
    "for mes in range(12):\n",
    "    cantidad_siguiente = cantidad_actual + cantidad_actual * tasa_de_interes / 100\n",
    "    print(f'{cantidad_actual:.2f} -->  {cantidad_siguiente:.2f}')\n",
    "    cantidad_actual = cantidad_siguiente"
   ]
  },
  {
   "cell_type": "code",
   "execution_count": null,
   "metadata": {
    "id": "YQE6AFbvupHJ"
   },
   "outputs": [],
   "source": [
    "# Código con ciclo while\n",
    "cantidad_actual = 1000\n",
    "tasa_de_interes = 1\n",
    "mes = 0\n",
    "while mes < 12:\n",
    "    cantidad_siguiente = cantidad_actual + cantidad_actual * tasa_de_interes / 100\n",
    "    print(f'{cantidad_actual:.2f} -->  {cantidad_siguiente:.2f}')\n",
    "    cantidad_actual = cantidad_siguiente\n",
    "    mes += 1\n"
   ]
  },
  {
   "cell_type": "markdown",
   "metadata": {
    "id": "F89dQ1EfupHM"
   },
   "source": [
    "## Ejercicio\n",
    "\n",
    "**Copie la solución donde el código se repite manualmente y modifique el comando print para que la tabla se imprima con dos decimales**\n",
    "\n",
    "Indicio: el objetivo del ejercicio no es evidente a primera vista."
   ]
  },
  {
   "cell_type": "code",
   "execution_count": null,
   "metadata": {
    "id": "Z-VIdqMfupHM"
   },
   "outputs": [],
   "source": [
    "# Código repetido manualmente, y tabla de resultados impresa con dos decimales\n"
   ]
  },
  {
   "cell_type": "markdown",
   "metadata": {
    "id": "bsQ-p65UupHQ"
   },
   "source": [
    "## Modificaciones!!\n",
    "\n",
    "Que pasa si queremos hacer modificaciones? Por ejemplo, si queremos incluir el mes en la impresión de la tabla."
   ]
  },
  {
   "cell_type": "code",
   "execution_count": null,
   "metadata": {
    "id": "dqgOEc06upHR"
   },
   "outputs": [],
   "source": [
    "# Código con ciclo for\n",
    "cantidad_actual = 1000\n",
    "tasa_de_interes = 1\n",
    "for mes in range(12):\n",
    "    cantidad_siguiente = cantidad_actual + cantidad_actual * tasa_de_interes / 100\n",
    "    print(f'Mes:{mes:3d} Saldo: {cantidad_actual:.2f} -->  {cantidad_siguiente:.2f}')\n",
    "    cantidad_actual = cantidad_siguiente"
   ]
  },
  {
   "cell_type": "code",
   "execution_count": null,
   "metadata": {
    "id": "AmKDZBCLupHT"
   },
   "outputs": [],
   "source": [
    "# Código con ciclo while\n",
    "cantidad_actual = 1000\n",
    "tasa_de_interes = 1\n",
    "mes = 0\n",
    "while mes < 12:\n",
    "    cantidad_siguiente = cantidad_actual + cantidad_actual * tasa_de_interes / 100\n",
    "    print(f'Mes {mes:d} Saldo {cantidad_actual:.2f} -->  {cantidad_siguiente:.2f}')\n",
    "    cantidad_actual = cantidad_siguiente\n",
    "    mes += 1"
   ]
  },
  {
   "cell_type": "markdown",
   "metadata": {
    "id": "fy2kzBa3upHV"
   },
   "source": [
    "**Estamos mostrando el número del mes, pero sería mejor que este número comenzara en 1 y terminara en 12.\n",
    "Como lo hacemos?**"
   ]
  },
  {
   "cell_type": "code",
   "execution_count": null,
   "metadata": {
    "id": "IFNdeeXhupHW"
   },
   "outputs": [],
   "source": [
    "# Código con ciclo for\n",
    "cantidad_actual = 1000\n",
    "tasa_de_interes = 1\n",
    "inicio = 1\n",
    "fin = 13\n",
    "for mes in range(1, 13): # inicio <= mes < fin\n",
    "    cantidad_siguiente = cantidad_actual + cantidad_actual * tasa_de_interes / 100\n",
    "    print(f'Mes: {mes:3d} Saldo: {cantidad_actual:.2f} -->  {cantidad_siguiente:.2f}')\n",
    "    cantidad_actual = cantidad_siguiente"
   ]
  },
  {
   "cell_type": "markdown",
   "metadata": {},
   "source": [
    "## Como escribir programas\n",
    "\n",
    "1. Necesitamos escribir los programas más simples posibles que nos permitan obtener el resultado correcto buscado.\n",
    "2. Necesitamos escribir la menor cantidad de código posible.\n",
    "3. Podemos comenzar escribiendo código repetido para obtener una primera versión del programa, y después de probarlo lo modificamos usando un ciclo for, por ejemplo.\n",
    "4. Otra forma de evitar la repetición de código es escribir nuestras propias funciones."
   ]
  },
  {
   "cell_type": "markdown",
   "metadata": {
    "id": "CETTG8TlupHb"
   },
   "source": [
    "## Nuestras propias funciones\n",
    "\n",
    "Hasta ahora hemos usado funciones provistas por Python (type, print, len, assert), pero también es posible crear nuestras propias funciones que podemos usar para simplificar nuestros programas.\n"
   ]
  },
  {
   "cell_type": "markdown",
   "metadata": {
    "id": "Fc8gupGKupHb"
   },
   "source": [
    "### Definición de una función\n",
    "\n",
    "    def nombre_funcion(a, b, c,...):  # los nombres de función se escriben en snake_case (ver PEP 8)\n",
    "        \"\"\"Esto es el texto de ayuda o docstring\n",
    "           Podemos incluir los parámetros de entrada\n",
    "           a: tipo esperado (int, float, str, ...)\n",
    "           b: tipo esperado (int, float, str, ...)\n",
    "           c: tipo esperado (int, float, str, ...)\n",
    "           y los resultados\n",
    "           z: tipo esperado (int, float, str, ...)\n",
    "           x: tipo esperado (int, float, str, ...)\n",
    "           y: tipo esperado (int, float, str, ...)           \n",
    "        \"\"\"\n",
    "        ...\n",
    "        Las sentencias de la función con un indentado de 4 espacios\n",
    "        ...\n",
    "        # Si deseamos que la función 'devuelva' un resultado\n",
    "        # debemos incluir una sentencia 'return'\n",
    "        return z, x, y... \n",
    "\n",
    "\n",
    "Parámetros de entrada (a, b, c,...): Los parámetros de entrada son variables de la función que en este momento de definición de la función no tienen valor definido, pero si lo tendrán cuando invoquemos la función en nuestro programa principal. La función podría no tener parámetros de entrada.\n",
    "\n",
    "\n",
    "Resultados (z, x, y,...): Los resultado son variables que la función devolverá a nuestro programa principal, en el mismo la función debe estar asignada a una variable. La función puede no tener resultados.\n"
   ]
  },
  {
   "cell_type": "markdown",
   "metadata": {
    "id": "RTPY20xAzWIO"
   },
   "source": [
    "## Ejemplos"
   ]
  },
  {
   "cell_type": "markdown",
   "metadata": {
    "id": "tzFBQUOmzniR"
   },
   "source": [
    "### Definición de una función"
   ]
  },
  {
   "cell_type": "code",
   "execution_count": null,
   "metadata": {
    "id": "r8BZeZXLupHc"
   },
   "outputs": [],
   "source": [
    "def sumar(a, b):\n",
    "    \"\"\"Suma a + b\n",
    "       parámetros\n",
    "       a número\n",
    "       b número\n",
    "       resultado\n",
    "       c número\n",
    "    \"\"\"\n",
    "    c = a + b\n",
    "    return c\n",
    "\n",
    "# Si ejecutamos esta celda no pasa nada...\n",
    "# Solo se define la función\n",
    "# Aquí solo estamos definiendo la función para poder usarla \n",
    "# más adelante. "
   ]
  },
  {
   "cell_type": "markdown",
   "metadata": {
    "id": "x6I9kosCzuJd"
   },
   "source": [
    "### Invocación de una función"
   ]
  },
  {
   "cell_type": "code",
   "execution_count": null,
   "metadata": {
    "id": "VzYA8zLVupHe"
   },
   "outputs": [],
   "source": [
    "# Ahora debemos definir los parámetros de entrada\n",
    "# Como nuestra función devuelve un valor\n",
    "# le asignamos la función a una variable\n",
    "resultado = sumar(2, 4)\n",
    "\n",
    "print(f\"El resultado de la suma es {resultado}\")"
   ]
  },
  {
   "cell_type": "markdown",
   "metadata": {
    "id": "VTD3gPHF1Cxq"
   },
   "source": [
    "### Help me!!!"
   ]
  },
  {
   "cell_type": "code",
   "execution_count": null,
   "metadata": {
    "colab": {
     "base_uri": "https://localhost:8080/",
     "height": 187
    },
    "id": "TfHEVkbK1HSB",
    "outputId": "e6e2678a-74df-4073-ff39-91e39f3f3f1a"
   },
   "outputs": [],
   "source": [
    "help(sumar)"
   ]
  },
  {
   "cell_type": "markdown",
   "metadata": {
    "id": "zo1M5UQ9z7P0"
   },
   "source": [
    "### Definición de función sin parámetros"
   ]
  },
  {
   "cell_type": "code",
   "execution_count": null,
   "metadata": {
    "id": "wgQodh_XupHh"
   },
   "outputs": [],
   "source": [
    "def mensaje_saludo():\n",
    "    \"\"\"Función sin parámetros\n",
    "    \"\"\"\n",
    "    print(\"Hello world!\")\n",
    "    # No es necesario incluir return"
   ]
  },
  {
   "cell_type": "markdown",
   "metadata": {
    "id": "OyOanTfC0U4f"
   },
   "source": [
    "### Invocación de función sin parámetros y sin return"
   ]
  },
  {
   "cell_type": "code",
   "execution_count": null,
   "metadata": {
    "colab": {
     "base_uri": "https://localhost:8080/",
     "height": 34
    },
    "id": "zjOrzL4UupHj",
    "outputId": "d9861ec5-1899-4e54-8b23-af1fe23a9061"
   },
   "outputs": [],
   "source": [
    "mensaje_saludo() # Solo imprime \"Hello world!\""
   ]
  },
  {
   "cell_type": "markdown",
   "metadata": {
    "id": "Gr0towsc1SpZ"
   },
   "source": [
    "### Error en la invocación de una función sin return"
   ]
  },
  {
   "cell_type": "code",
   "execution_count": null,
   "metadata": {
    "colab": {
     "base_uri": "https://localhost:8080/",
     "height": 51
    },
    "id": "nN_lJZ7pupHl",
    "outputId": "33006984-a76e-4772-8f73-137b0d29bda2"
   },
   "outputs": [],
   "source": [
    "saludo = mensaje_saludo()\n",
    "\n",
    "print(saludo)\n",
    "# None por que la función no devuelve ningun valor"
   ]
  },
  {
   "cell_type": "code",
   "execution_count": null,
   "metadata": {
    "id": "2djWp4oAupHq"
   },
   "outputs": [],
   "source": [
    "# Se puede agregar mensajes para saber como funciona la función\n",
    "\n",
    "def leer_float(mensaje, en_error):\n",
    "    \"\"\"Trata de leer un número float desde el teclado,\n",
    "       y en caso de error devuelve un valor predeterminado.\n",
    "       \n",
    "       La función input (línea A) hace aparecer una forma de entrada de datos\n",
    "       donde el usuario puede escribir caracteres. \n",
    "       Si estos caracteres forman un número float, \n",
    "       en la linea B la variable entrada se \"transforma\" en un número float\n",
    "       que queda asignado a la variable valor.\n",
    "       Si los caracteres ingresados no forman un número float, \n",
    "       se levanta o anuncia una excepción ValueError y en ese caso\n",
    "       el valor de la variable en_error queda asignado a la variable valor.\n",
    "       \n",
    "       Parametros:\n",
    "           mensaje    (str): mensaje para el usuario\n",
    "           en_error (float): valor para retornar en caso de error\n",
    "       Resultado:\n",
    "           float:     valor leido de teclado o en_error\n",
    "    \"\"\"\n",
    "    print(mensaje)\n",
    "    entrada = input()  # línea A\n",
    "    try:\n",
    "        valor = float(entrada) # línea B\n",
    "    except ValueError:\n",
    "        valor = en_error\n",
    "    return valor"
   ]
  },
  {
   "cell_type": "code",
   "execution_count": null,
   "metadata": {
    "id": "PcOkHC1SupHs"
   },
   "outputs": [],
   "source": [
    "help(leer_float) # Cada función puede tener su propio docstring,\n",
    "                 # que se visualiza con la función help de python"
   ]
  },
  {
   "cell_type": "code",
   "execution_count": null,
   "metadata": {
    "id": "Q_LMqOYsupHv"
   },
   "outputs": [],
   "source": [
    "leer_float('Ingrese un numero flotante correcto', 0.0) # ingresar un valor \"correcto\" (Por ejemplo 4.6)"
   ]
  },
  {
   "cell_type": "code",
   "execution_count": null,
   "metadata": {
    "id": "4H3sTGEFupHx"
   },
   "outputs": [],
   "source": [
    "leer_float('Ingrese un numero flotante incorrecto', 0.0) # ingresar un valor \"incorrecto\" (Por ejemplo kl)"
   ]
  },
  {
   "cell_type": "code",
   "execution_count": null,
   "metadata": {
    "id": "axXjEC0UupHz"
   },
   "outputs": [],
   "source": [
    "help(len)"
   ]
  },
  {
   "cell_type": "code",
   "execution_count": null,
   "metadata": {
    "id": "RDRojO4IupH1"
   },
   "outputs": [],
   "source": [
    "def promedio(lista):\n",
    "    suma = 0\n",
    "    for i in lista:\n",
    "        suma += i\n",
    "    return suma / len(lista)\n",
    "\n",
    "notas = [7, 5, 9, 10, 4]\n",
    "\n",
    "resultado = promedio(notas)\n",
    "print(f\"El promedio de las notas {notas} es {resultado:1.2f}\")\n",
    "\n",
    "# La función debe estar definida antes de ser invocada!"
   ]
  },
  {
   "cell_type": "code",
   "execution_count": null,
   "metadata": {
    "id": "914tUsHvupH4"
   },
   "outputs": [],
   "source": [
    "# Si desamos mantener nuestro codigo pricipal al principio del código, \n",
    "# una solución es definir una función main, y llamarla al final del código\n",
    "\n",
    "def main():\n",
    "    notas = [7, 5, 9, 10, 4]\n",
    "    resultado = promedio(notas)\n",
    "    print(f\"El promedio de las notas {notas} es {resultado:1.2f}\")\n",
    "\n",
    "def promedio(lista):\n",
    "    suma = 0\n",
    "    for i in lista:\n",
    "        suma += i\n",
    "    return suma/ len(lista)\n",
    "\n",
    "main()"
   ]
  },
  {
   "cell_type": "markdown",
   "metadata": {
    "id": "AwI-Rk5NZUt8"
   },
   "source": [
    "### Funciones recursivas\n",
    "\n",
    "Es posible definir funciones recursivas: funciones que se invocan a si mismas."
   ]
  },
  {
   "cell_type": "code",
   "execution_count": null,
   "metadata": {
    "id": "WRxgeIl0upH6"
   },
   "outputs": [],
   "source": [
    "def factorial(n):\n",
    "  if n < 2:\n",
    "    return 1\n",
    "  else:\n",
    "    return n * factorial(n-1) # invocación recursiva"
   ]
  },
  {
   "cell_type": "code",
   "execution_count": null,
   "metadata": {
    "colab": {
     "base_uri": "https://localhost:8080/",
     "height": 34
    },
    "id": "yyyIjcLdZ1MY",
    "outputId": "ab202f70-6dab-4c47-bdd7-13e09c8cbb0e"
   },
   "outputs": [],
   "source": [
    "factorial(4)"
   ]
  },
  {
   "cell_type": "code",
   "execution_count": null,
   "metadata": {
    "id": "U-2RdOz4Z4_f"
   },
   "outputs": [],
   "source": [
    "# Existe un límite para la recursión:\n",
    "# ¿Porqué?\n",
    "\n",
    "def test_recursion(x):\n",
    "    try:\n",
    "        print(factorial(x))\n",
    "    except RecursionError as mensaje:\n",
    "        print(mensaje)\n",
    "        print(f'{x} > límite de recursión 965')"
   ]
  },
  {
   "cell_type": "code",
   "execution_count": null,
   "metadata": {
    "colab": {
     "base_uri": "https://localhost:8080/",
     "height": 51
    },
    "id": "ptW4jBvJagpU",
    "outputId": "a6ec08ee-9e36-4bc1-aa17-e9d57c21ff5d"
   },
   "outputs": [],
   "source": [
    "test_recursion(966)"
   ]
  },
  {
   "cell_type": "markdown",
   "metadata": {
    "id": "Vbc5tTodbONG"
   },
   "source": [
    "### Generadores (funciones con yield)\n",
    "\n",
    "Python permite construir generadores funciones especiales qué, en lugar de return, emplean la instrucción \n",
    "\n",
    "    yield\n",
    "\n",
    "Este tipo de funciones permite generar secuencias de datos de forma perezosa. Para entender mejor este concepto veamos el ejemplo de generar la secuencia de Fibonacci\n",
    "\n",
    "    1, 1, 2, 3, 5, 8 ..."
   ]
  },
  {
   "cell_type": "code",
   "execution_count": null,
   "metadata": {},
   "outputs": [],
   "source": [
    "# Version sin yield\n",
    "def Fibonacci_sin_yield(n):\n",
    "    if n >= 2\n",
    "        lista = list()\n",
    "        lista.append(1)\n",
    "        lista.append(1)\n",
    "        for k in range(2, n):\n",
    "            v = lista[k-1] + lista[k-2]\n",
    "            lista.append(v)\n",
    "        return lista\n",
    "    elif n == 1:\n",
    "        return [1]\n",
    "    elif n == 0:\n",
    "        return []\n",
    "    else:\n",
    "        raise ValueError('valor de n no esperado')"
   ]
  },
  {
   "cell_type": "code",
   "execution_count": null,
   "metadata": {},
   "outputs": [],
   "source": [
    "resultado = Fibonacci_sin_yield(10)\n",
    "print(resultado)"
   ]
  },
  {
   "cell_type": "code",
   "execution_count": null,
   "metadata": {
    "id": "T1_TECmWupH8"
   },
   "outputs": [],
   "source": [
    "# Versión con yield\n",
    "def Fibonacci(n):\n",
    "    assert(type(n) == int)\n",
    "    assert(n >= 0)\n",
    "    f0 = 1\n",
    "    f1 = 1 \n",
    "    for _ in range(n):\n",
    "        yield f0       # Entrega f0 al invocador\n",
    "        auxiliar = f1\n",
    "        f1 = f0 + f1\n",
    "        f0 = f1\n",
    "    # finalización de la función \n",
    "    # Se produce una excepción StopIteration"
   ]
  },
  {
   "cell_type": "code",
   "execution_count": null,
   "metadata": {
    "colab": {
     "base_uri": "https://localhost:8080/",
     "height": 85
    },
    "id": "nDnYpkBnupH-",
    "outputId": "fb80ffc8-dd09-4545-f892-87b7975de69c"
   },
   "outputs": [],
   "source": [
    "for i in Fibonacci(10):\n",
    "    if i < 5:\n",
    "       print(i)\n",
    "    else:\n",
    "       break    \n",
    "       # Finaliza el ciclo for anticipadamente\n",
    "       # antes de generarse los 10 números de la secuencia\n",
    "       # Por eso hablamos de ejecución perezosa: \n",
    "       # solamente se ejecutan los yiel"
   ]
  },
  {
   "cell_type": "code",
   "execution_count": null,
   "metadata": {
    "id": "FRJ8Z5Gbcdye"
   },
   "outputs": [],
   "source": [
    "# Versión mejorada\n",
    "def Fibonacci(n):\n",
    "    assert(type(n) == int)\n",
    "    assert(n >= 0)\n",
    "    f0, f1 = 1, 1\n",
    "    for _ in range(n):\n",
    "        yield f0       # Entrega f0 al invocador\n",
    "        f0, f1 = f1, f0 + f1\n",
    "    # finalización de la función \n",
    "    # Se produce una excepción StopIteration"
   ]
  },
  {
   "cell_type": "code",
   "execution_count": null,
   "metadata": {
    "colab": {
     "base_uri": "https://localhost:8080/",
     "height": 187
    },
    "id": "tQSQyR-1e1QO",
    "outputId": "cbae6150-706a-4f2c-937c-93b3114d0da7"
   },
   "outputs": [],
   "source": [
    "for f in Fibonacci(10):  \n",
    "    print(f)\n",
    "# La excepción StopIteration es manejada por el ciclo for\n",
    "# sin interrumpir el programa"
   ]
  },
  {
   "cell_type": "code",
   "execution_count": null,
   "metadata": {
    "colab": {
     "base_uri": "https://localhost:8080/",
     "height": 187
    },
    "id": "5A8LanbDgac4",
    "outputId": "b7b68e6c-21af-4224-926e-7345044550af"
   },
   "outputs": [],
   "source": [
    "# Enumeración\n",
    "\n",
    "for k, f in enumerate(Fibonacci(10)):\n",
    "    print(f'{k:>3d}: {f}')\n",
    "    \n",
    "# enumerate evita agregar una variable que haya que incrementar\n",
    "k = 0\n",
    "for f in Fibonacci(10):\n",
    "    print(f'{k:>3d}: {f}')\n",
    "    k += 1   # ¿Qué pasa si nos olvidamos esto?"
   ]
  },
  {
   "cell_type": "code",
   "execution_count": null,
   "metadata": {},
   "outputs": [],
   "source": [
    "for f in Fibonacci(6.5):\n",
    "    print(f)"
   ]
  },
  {
   "cell_type": "code",
   "execution_count": null,
   "metadata": {},
   "outputs": [],
   "source": [
    "for f in Fibonacci(-3):\n",
    "    print(f)"
   ]
  },
  {
   "cell_type": "markdown",
   "metadata": {
    "id": "Lsjbc0NzguNE"
   },
   "source": [
    "## Demo\n",
    "\n",
    "Vamos a ver una demostración de como escribir funciones y generadores con \n",
    "el problema que vimos al inicio."
   ]
  },
  {
   "cell_type": "markdown",
   "metadata": {
    "id": "d_dze_xuheXT"
   },
   "source": [
    "### Versión 1"
   ]
  },
  {
   "cell_type": "code",
   "execution_count": 2,
   "metadata": {
    "id": "-8_dq1Urgptr"
   },
   "outputs": [],
   "source": [
    "def calculo_interes(cantidad_actual, tasa_de_interes, meses):\n",
    "    assert(tasa_de_interes > 0.0)\n",
    "    assert(type(meses) == int)\n",
    "    for mes in range(meses): \n",
    "      cantidad_siguiente = cantidad_actual + cantidad_actual * tasa_de_interes / 100\n",
    "      print(f'Mes: {mes + 1:3d} Saldo: {cantidad_actual:.2f} -->  {cantidad_siguiente:.2f}')\n",
    "      cantidad_actual = cantidad_siguiente"
   ]
  },
  {
   "cell_type": "code",
   "execution_count": 3,
   "metadata": {
    "colab": {
     "base_uri": "https://localhost:8080/",
     "height": 221
    },
    "id": "oUbrnL1lhZyZ",
    "outputId": "2bf9f1c3-9b79-4c28-c3a3-5ab2a2c2635b"
   },
   "outputs": [
    {
     "name": "stdout",
     "output_type": "stream",
     "text": [
      "Mes:   1 Saldo: 1000.00 -->  1020.00\n",
      "Mes:   2 Saldo: 1020.00 -->  1040.40\n",
      "Mes:   3 Saldo: 1040.40 -->  1061.21\n",
      "Mes:   4 Saldo: 1061.21 -->  1082.43\n",
      "Mes:   5 Saldo: 1082.43 -->  1104.08\n",
      "Mes:   6 Saldo: 1104.08 -->  1126.16\n",
      "Mes:   7 Saldo: 1126.16 -->  1148.69\n",
      "Mes:   8 Saldo: 1148.69 -->  1171.66\n",
      "Mes:   9 Saldo: 1171.66 -->  1195.09\n",
      "Mes:  10 Saldo: 1195.09 -->  1218.99\n",
      "Mes:  11 Saldo: 1218.99 -->  1243.37\n",
      "Mes:  12 Saldo: 1243.37 -->  1268.24\n"
     ]
    }
   ],
   "source": [
    "calculo_interes(1000, 2, 12)"
   ]
  },
  {
   "cell_type": "code",
   "execution_count": 4,
   "metadata": {
    "colab": {
     "base_uri": "https://localhost:8080/",
     "height": 119
    },
    "id": "TGomVAXxhpRu",
    "outputId": "4fb0d9ff-54ba-4427-fffa-d4fd201385b3"
   },
   "outputs": [
    {
     "name": "stdout",
     "output_type": "stream",
     "text": [
      "Mes:   1 Saldo: 1000.00 -->  1080.00\n",
      "Mes:   2 Saldo: 1080.00 -->  1166.40\n",
      "Mes:   3 Saldo: 1166.40 -->  1259.71\n",
      "Mes:   4 Saldo: 1259.71 -->  1360.49\n",
      "Mes:   5 Saldo: 1360.49 -->  1469.33\n",
      "Mes:   6 Saldo: 1469.33 -->  1586.87\n"
     ]
    }
   ],
   "source": [
    "calculo_interes(1000, 8, 6)"
   ]
  },
  {
   "cell_type": "markdown",
   "metadata": {
    "id": "g_2YG9Xdh0V8"
   },
   "source": [
    "### Versión 2"
   ]
  },
  {
   "cell_type": "code",
   "execution_count": 5,
   "metadata": {
    "id": "iR3IwGVbkLOO"
   },
   "outputs": [],
   "source": [
    "def calcular_cantidad_siguiente(cantidad_actual, tasa_de_interes): \n",
    "    assert(tasa_de_interes > 0.0)\n",
    "    return cantidad_actual + cantidad_actual * tasa_de_interes / 100\n",
    "\n",
    "def escribir_tabla_calculo_interes(cantidad_inicial, tasa_de_interes, meses):\n",
    "    assert(tasa_de_interes > 0.0)\n",
    "    assert(type(meses) == int)\n",
    "    assert(meses > 1)\n",
    "    cantidad_actual = cantidad_inicial\n",
    "    for mes in range(meses): \n",
    "        cantidad_siguiente = calcular_cantidad_siguiente(cantidad_actual, tasa_de_interes)\n",
    "        print(f'Mes: {mes + 1:3d} Saldo: {cantidad_actual:.2f} -->  {cantidad_siguiente:.2f}')\n",
    "        cantidad_actual = cantidad_siguiente"
   ]
  },
  {
   "cell_type": "code",
   "execution_count": 6,
   "metadata": {
    "colab": {
     "base_uri": "https://localhost:8080/",
     "height": 221
    },
    "id": "wAi2yYtrleJW",
    "outputId": "dd0e5e49-554e-4967-845e-1aa20a6f5704"
   },
   "outputs": [
    {
     "name": "stdout",
     "output_type": "stream",
     "text": [
      "Mes:   1 Saldo: 1000.00 -->  1020.00\n",
      "Mes:   2 Saldo: 1020.00 -->  1040.40\n",
      "Mes:   3 Saldo: 1040.40 -->  1061.21\n",
      "Mes:   4 Saldo: 1061.21 -->  1082.43\n",
      "Mes:   5 Saldo: 1082.43 -->  1104.08\n",
      "Mes:   6 Saldo: 1104.08 -->  1126.16\n",
      "Mes:   7 Saldo: 1126.16 -->  1148.69\n",
      "Mes:   8 Saldo: 1148.69 -->  1171.66\n",
      "Mes:   9 Saldo: 1171.66 -->  1195.09\n",
      "Mes:  10 Saldo: 1195.09 -->  1218.99\n",
      "Mes:  11 Saldo: 1218.99 -->  1243.37\n",
      "Mes:  12 Saldo: 1243.37 -->  1268.24\n"
     ]
    }
   ],
   "source": [
    "escribir_tabla_calculo_interes(1000, 2, 12)"
   ]
  },
  {
   "cell_type": "markdown",
   "metadata": {
    "id": "DwUdxTn-lLH6"
   },
   "source": [
    "### Versión 3"
   ]
  },
  {
   "cell_type": "code",
   "execution_count": null,
   "metadata": {
    "id": "ICK3_mwMlNOb"
   },
   "outputs": [],
   "source": [
    "def generar_calculo_interes(cantidad_inicial, tasa_de_interes, meses):\n",
    "    assert(cantidad_inicial > 0.0)\n",
    "    assert(tasa_de_interes > 0.0)\n",
    "    assert(type(meses) == int)\n",
    "    assert(meses > 1)\n",
    "    cantidad_actual = cantidad_inicial\n",
    "    for mes in range(meses): \n",
    "        cantidad_siguiente = calcular_cantidad_siguiente(cantidad_actual, tasa_de_interes)\n",
    "        yield mes, cantidad_actual, cantidad_siguiente\n",
    "        cantidad_actual = cantidad_siguiente"
   ]
  },
  {
   "cell_type": "code",
   "execution_count": null,
   "metadata": {
    "colab": {
     "base_uri": "https://localhost:8080/",
     "height": 309
    },
    "id": "ZyFRx6jWlrtj",
    "outputId": "c47388d6-5bd4-4f82-a81c-0489fe271a8f"
   },
   "outputs": [],
   "source": [
    "tabla = []\n",
    "for mes, cantidad_actual, cantidad_siguiente in generar_calculo_interes(1000, 2, 12):\n",
    "    print(f'Mes: {mes + 1:3d} Saldo: {cantidad_actual:.2f} -->  {cantidad_siguiente:.2f}')\n",
    "    tabla.append((mes, cantidad_actual, cantidad_siguiente))\n",
    "print('\\n\\n')\n",
    "print(tabla)"
   ]
  },
  {
   "cell_type": "markdown",
   "metadata": {
    "id": "m2y15YZwoKgO"
   },
   "source": [
    "## Problema"
   ]
  },
  {
   "cell_type": "code",
   "execution_count": null,
   "metadata": {
    "id": "Nbn8jg1ToNuP"
   },
   "outputs": [],
   "source": [
    "def obtener_cantidad_final(cantidad_inicial, tasa_de_interes, meses):\n",
    "    for mes, cantidad_actual, cantidad_siguiente in generar_calculo_interes(cantidad_inicial, tasa_de_interes, meses):\n",
    "        pass # No me interesa imprimir, solo iterar\n",
    "    cantidad_final = cantidad_siguiente\n",
    "    return cantidad_final"
   ]
  },
  {
   "cell_type": "code",
   "execution_count": null,
   "metadata": {
    "id": "-SdFSPSjovXN"
   },
   "outputs": [],
   "source": [
    "tasa_de_interes_original = 1\n",
    "incremento_tasa_de_interes = 1.01\n",
    "objetivo = obtener_cantidad_final(1000, tasa_de_interes_original, 12)"
   ]
  },
  {
   "cell_type": "code",
   "execution_count": null,
   "metadata": {
    "colab": {
     "base_uri": "https://localhost:8080/",
     "height": 34
    },
    "id": "4EruGi3ro418",
    "outputId": "5eb24dc5-68df-410f-bf10-e7e82f5d5af9"
   },
   "outputs": [],
   "source": [
    "tasa_de_interes_alternativa = tasa_de_interes_original * incremento_tasa_de_interes\n",
    "cantidad_final_alternativa = obtener_cantidad_final(1000, tasa_de_interes_alternativa, 6)\n",
    "while cantidad_final_alternativa < objetivo:\n",
    "    tasa_de_interes_alternativa *= incremenento_tasa_de_interes\n",
    "    cantidad_final_alternativa = obtener_cantidad_final(1000, tasa_de_interes_alternativa, 6)\n",
    "print(cantidad_final_alternativa, tasa_de_interes_alternativa)"
   ]
  },
  {
   "cell_type": "code",
   "execution_count": null,
   "metadata": {
    "id": "q41Xh0SzpVZc"
   },
   "outputs": [],
   "source": []
  }
 ],
 "metadata": {
  "colab": {
   "name": "03-funciones.ipynb",
   "provenance": []
  },
  "kernelspec": {
   "display_name": "Python 3",
   "language": "python",
   "name": "python3"
  },
  "language_info": {
   "codemirror_mode": {
    "name": "ipython",
    "version": 3
   },
   "file_extension": ".py",
   "mimetype": "text/x-python",
   "name": "python",
   "nbconvert_exporter": "python",
   "pygments_lexer": "ipython3",
   "version": "3.8.6"
  }
 },
 "nbformat": 4,
 "nbformat_minor": 4
}
